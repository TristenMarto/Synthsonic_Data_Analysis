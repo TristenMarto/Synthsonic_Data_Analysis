{
 "cells": [
  {
   "cell_type": "code",
   "execution_count": 1,
   "metadata": {},
   "outputs": [],
   "source": [
    "from sklearn import preprocessing\n",
    "le = preprocessing.LabelEncoder()\n",
    "random_state=4\n",
    "import pandas as pd\n",
    "from Evaluation import synthsonic, writetodict, plotter, plot_oversampling, evaluate_oversamplers\n",
    "import smote_variants as sv\n",
    "from sklearn.tree import DecisionTreeClassifier"
   ]
  },
  {
   "cell_type": "code",
   "execution_count": 6,
   "metadata": {},
   "outputs": [
    {
     "data": {
      "image/png": "[encoded data removed]",
      "text/plain": [
       "<Figure size 432x288 with 1 Axes>"
      ]
     },
     "metadata": {
      "needs_background": "light"
     },
     "output_type": "display_data"
    },
    {
     "name": "stdout",
     "output_type": "stream",
     "text": [
      "Counter({0: 23364, 1: 6636})\n"
     ]
    }
   ],
   "source": [
    "# loading datasets\n",
    "\n",
    "path = \"/Users/tristenmarto/Documents/Studie/Thesis/Synthsonic_data_analysis/Datasets/\"\n",
    "data = path+\"credit_default.csv\"\n",
    "\n",
    "data = pd.read_csv(data, index_col=0)\n",
    "\n",
    "plotter(data.iloc[:,:-1].values,data.iloc[:,-1].values, \"distribution\")\n",
    "\n",
    "\n",
    "data_dict = writetodict(data, 'credit_default')\n",
    "X,y,name = data_dict['data'],data_dict['target'],data_dict['name']"
   ]
  },
  {
   "cell_type": "code",
   "execution_count": 7,
   "metadata": {},
   "outputs": [],
   "source": [
    "datasets = [data_dict]\n",
    "oversamplers = [synthsonic, sv.NoSMOTE, sv.SMOTE, sv.NT_SMOTE, sv.SMOTE_D]\n",
    "classifier = DecisionTreeClassifier(random_state=random_state)\n",
    "random_state = random_state"
   ]
  },
  {
   "cell_type": "code",
   "execution_count": 8,
   "metadata": {},
   "outputs": [
    {
     "name": "stderr",
     "output_type": "stream",
     "text": [
      "2021-06-03 13:57:08,365:INFO:synthsonic: Running sampling via ('synthsonic', \"{'proportion': 1.0, 'n_jobs': 1, 'distinct_threshold': -1, 'random_state': RandomState(MT19937) at 0x7FC17D0AA160}\")\n",
      "2021-06-03 13:57:08,365:INFO:synthsonic: Running sampling via ('synthsonic', \"{'proportion': 1.0, 'n_jobs': 1, 'distinct_threshold': -1, 'random_state': RandomState(MT19937) at 0x7FC17D0AA160}\")\n"
     ]
    },
    {
     "name": "stdout",
     "output_type": "stream",
     "text": [
      "('synthsonic', \"{'proportion': 1.0, 'n_jobs': 1, 'distinct_threshold': -1, 'random_state': RandomState(MT19937) at 0x7FC17D0AA160}\")\n",
      "minority class 1, min dataset (4414, 23)\n"
     ]
    },
    {
     "name": "stderr",
     "output_type": "stream",
     "text": [
      "Building tree: 100%|██████████| 231/231.0 [00:00<00:00, 717.49it/s]\n",
      "Generating for node: 6: 100%|██████████| 23/23 [00:07<00:00,  2.93it/s] \n",
      "Generating for node: 6: 100%|██████████| 23/23 [00:02<00:00, 10.67it/s] \n",
      "2021-06-03 13:57:29,437:INFO:NoSMOTE: Running sampling via ('NoSMOTE', '{}')\n",
      "2021-06-03 13:57:29,437:INFO:NoSMOTE: Running sampling via ('NoSMOTE', '{}')\n"
     ]
    },
    {
     "name": "stdout",
     "output_type": "stream",
     "text": [
      "('NoSMOTE', '{}')\n"
     ]
    },
    {
     "name": "stderr",
     "output_type": "stream",
     "text": [
      "2021-06-03 13:57:29,766:INFO:SMOTE: Running sampling via ('SMOTE', \"{'proportion': 1.0, 'n_neighbors': 5, 'n_jobs': 1, 'random_state': 4}\")\n",
      "2021-06-03 13:57:29,766:INFO:SMOTE: Running sampling via ('SMOTE', \"{'proportion': 1.0, 'n_neighbors': 5, 'n_jobs': 1, 'random_state': 4}\")\n"
     ]
    },
    {
     "name": "stdout",
     "output_type": "stream",
     "text": [
      "('SMOTE', \"{'proportion': 1.0, 'n_neighbors': 5, 'n_jobs': 1, 'random_state': 4}\")\n"
     ]
    },
    {
     "name": "stderr",
     "output_type": "stream",
     "text": [
      "2021-06-03 13:57:30,380:INFO:NT_SMOTE: Running sampling via ('NT_SMOTE', \"{'proportion': 1.0, 'n_jobs': 1, 'random_state': 4}\")\n",
      "2021-06-03 13:57:30,380:INFO:NT_SMOTE: Running sampling via ('NT_SMOTE', \"{'proportion': 1.0, 'n_jobs': 1, 'random_state': 4}\")\n"
     ]
    },
    {
     "name": "stdout",
     "output_type": "stream",
     "text": [
      "('NT_SMOTE', \"{'proportion': 1.0, 'n_jobs': 1, 'random_state': 4}\")\n"
     ]
    },
    {
     "name": "stderr",
     "output_type": "stream",
     "text": [
      "2021-06-03 13:57:31,059:INFO:SMOTE_D: Running sampling via ('SMOTE_D', \"{'proportion': 1.0, 'k': 3, 'n_jobs': 1, 'random_state': 4}\")\n",
      "2021-06-03 13:57:31,059:INFO:SMOTE_D: Running sampling via ('SMOTE_D', \"{'proportion': 1.0, 'k': 3, 'n_jobs': 1, 'random_state': 4}\")\n"
     ]
    },
    {
     "name": "stdout",
     "output_type": "stream",
     "text": [
      "('SMOTE_D', \"{'proportion': 1.0, 'k': 3, 'n_jobs': 1, 'random_state': 4}\")\n"
     ]
    }
   ],
   "source": [
    "results = evaluate_oversamplers(datasets, oversamplers, classifier, random_state)"
   ]
  },
  {
   "cell_type": "code",
   "execution_count": 9,
   "metadata": {},
   "outputs": [
    {
     "data": {
      "text/html": [
       "<div>\n",
       "<style scoped>\n",
       "    .dataframe tbody tr th:only-of-type {\n",
       "        vertical-align: middle;\n",
       "    }\n",
       "\n",
       "    .dataframe tbody tr th {\n",
       "        vertical-align: top;\n",
       "    }\n",
       "\n",
       "    .dataframe thead th {\n",
       "        text-align: right;\n",
       "    }\n",
       "</style>\n",
       "<table border=\"1\" class=\"dataframe\">\n",
       "  <thead>\n",
       "    <tr style=\"text-align: right;\">\n",
       "      <th></th>\n",
       "      <th>dataset</th>\n",
       "      <th>sampler</th>\n",
       "      <th>clf_score</th>\n",
       "      <th>recall</th>\n",
       "      <th>roc_auc_score</th>\n",
       "      <th>f1_score</th>\n",
       "      <th>brier_score_loss</th>\n",
       "      <th>runtime</th>\n",
       "    </tr>\n",
       "  </thead>\n",
       "  <tbody>\n",
       "    <tr>\n",
       "      <th>0</th>\n",
       "      <td>credit_default</td>\n",
       "      <td>synthsonic</td>\n",
       "      <td>0.728586</td>\n",
       "      <td>0.409991</td>\n",
       "      <td>0.615412</td>\n",
       "      <td>0.404081</td>\n",
       "      <td>0.271490</td>\n",
       "      <td>20.551348</td>\n",
       "    </tr>\n",
       "    <tr>\n",
       "      <th>1</th>\n",
       "      <td>credit_default</td>\n",
       "      <td>NoSMOTE</td>\n",
       "      <td>0.716162</td>\n",
       "      <td>0.395140</td>\n",
       "      <td>0.602348</td>\n",
       "      <td>0.384582</td>\n",
       "      <td>0.283763</td>\n",
       "      <td>0.003954</td>\n",
       "    </tr>\n",
       "    <tr>\n",
       "      <th>2</th>\n",
       "      <td>credit_default</td>\n",
       "      <td>SMOTE</td>\n",
       "      <td>0.724747</td>\n",
       "      <td>0.427993</td>\n",
       "      <td>0.619671</td>\n",
       "      <td>0.411065</td>\n",
       "      <td>0.275152</td>\n",
       "      <td>0.105720</td>\n",
       "    </tr>\n",
       "    <tr>\n",
       "      <th>3</th>\n",
       "      <td>credit_default</td>\n",
       "      <td>NT_SMOTE</td>\n",
       "      <td>0.726566</td>\n",
       "      <td>0.418092</td>\n",
       "      <td>0.616991</td>\n",
       "      <td>0.407010</td>\n",
       "      <td>0.273510</td>\n",
       "      <td>0.181840</td>\n",
       "    </tr>\n",
       "    <tr>\n",
       "      <th>4</th>\n",
       "      <td>credit_default</td>\n",
       "      <td>SMOTE_D</td>\n",
       "      <td>0.722424</td>\n",
       "      <td>0.414491</td>\n",
       "      <td>0.613403</td>\n",
       "      <td>0.401307</td>\n",
       "      <td>0.277500</td>\n",
       "      <td>0.181133</td>\n",
       "    </tr>\n",
       "  </tbody>\n",
       "</table>\n",
       "</div>"
      ],
      "text/plain": [
       "          dataset     sampler  clf_score    recall  roc_auc_score  f1_score  \\\n",
       "0  credit_default  synthsonic   0.728586  0.409991       0.615412  0.404081   \n",
       "1  credit_default     NoSMOTE   0.716162  0.395140       0.602348  0.384582   \n",
       "2  credit_default       SMOTE   0.724747  0.427993       0.619671  0.411065   \n",
       "3  credit_default    NT_SMOTE   0.726566  0.418092       0.616991  0.407010   \n",
       "4  credit_default     SMOTE_D   0.722424  0.414491       0.613403  0.401307   \n",
       "\n",
       "   brier_score_loss    runtime  \n",
       "0          0.271490  20.551348  \n",
       "1          0.283763   0.003954  \n",
       "2          0.275152   0.105720  \n",
       "3          0.273510   0.181840  \n",
       "4          0.277500   0.181133  "
      ]
     },
     "execution_count": 9,
     "metadata": {},
     "output_type": "execute_result"
    }
   ],
   "source": [
    "resultdf = pd.DataFrame(results)\n",
    "resultdf"
   ]
  },
  {
   "cell_type": "code",
   "execution_count": null,
   "metadata": {},
   "outputs": [],
   "source": []
  }
 ],
 "metadata": {
  "kernelspec": {
   "display_name": "Python 3",
   "language": "python",
   "name": "python3"
  },
  "language_info": {
   "codemirror_mode": {
    "name": "ipython",
    "version": 3
   },
   "file_extension": ".py",
   "mimetype": "text/x-python",
   "name": "python",
   "nbconvert_exporter": "python",
   "pygments_lexer": "ipython3",
   "version": "3.7.6"
  }
 },
 "nbformat": 4,
 "nbformat_minor": 4
}
