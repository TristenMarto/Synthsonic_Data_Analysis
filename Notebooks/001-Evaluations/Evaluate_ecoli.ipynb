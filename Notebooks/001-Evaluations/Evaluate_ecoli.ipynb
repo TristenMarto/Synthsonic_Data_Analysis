{
 "cells": [
  {
   "cell_type": "code",
   "execution_count": null,
   "metadata": {},
   "outputs": [],
   "source": [
    "import sys\n",
    "\n",
    "sys.append('/Users/tristenmarto/Documents/Studie/Thesis/Synthsonic_data_analysis')"
   ]
  },
  {
   "cell_type": "code",
   "execution_count": 3,
   "metadata": {},
   "outputs": [
    {
     "ename": "ModuleNotFoundError",
     "evalue": "No module named 'Evaluation'",
     "output_type": "error",
     "traceback": [
      "\u001b[0;31m---------------------------------------------------------------------------\u001b[0m",
      "\u001b[0;31mModuleNotFoundError\u001b[0m                       Traceback (most recent call last)",
      "\u001b[0;32m<ipython-input-3-02f3a694f674>\u001b[0m in \u001b[0;36m<module>\u001b[0;34m\u001b[0m\n\u001b[1;32m      9\u001b[0m \u001b[0;32mfrom\u001b[0m \u001b[0mimblearn\u001b[0m\u001b[0;34m.\u001b[0m\u001b[0mdatasets\u001b[0m \u001b[0;32mimport\u001b[0m \u001b[0mfetch_datasets\u001b[0m\u001b[0;34m\u001b[0m\u001b[0;34m\u001b[0m\u001b[0m\n\u001b[1;32m     10\u001b[0m \u001b[0;34m\u001b[0m\u001b[0m\n\u001b[0;32m---> 11\u001b[0;31m \u001b[0;32mfrom\u001b[0m \u001b[0mEvaluation\u001b[0m \u001b[0;32mimport\u001b[0m \u001b[0msynthsonic\u001b[0m\u001b[0;34m\u001b[0m\u001b[0;34m\u001b[0m\u001b[0m\n\u001b[0m\u001b[1;32m     12\u001b[0m \u001b[0;34m\u001b[0m\u001b[0m\n\u001b[1;32m     13\u001b[0m \u001b[0;32mfrom\u001b[0m \u001b[0msklearn\u001b[0m\u001b[0;34m.\u001b[0m\u001b[0mpreprocessing\u001b[0m \u001b[0;32mimport\u001b[0m \u001b[0mStandardScaler\u001b[0m\u001b[0;34m,\u001b[0m \u001b[0mLabelEncoder\u001b[0m\u001b[0;34m\u001b[0m\u001b[0;34m\u001b[0m\u001b[0m\n",
      "\u001b[0;31mModuleNotFoundError\u001b[0m: No module named 'Evaluation'"
     ]
    }
   ],
   "source": [
    "import pandas as pd\n",
    "import numpy as np\n",
    "import matplotlib.pyplot as plt\n",
    "\n",
    "import logging\n",
    "\n",
    "from collections import Counter\n",
    "\n",
    "from imblearn.datasets import fetch_datasets\n",
    "\n",
    "from Evaluation import synthsonic\n",
    "\n",
    "from sklearn.preprocessing import StandardScaler, LabelEncoder\n",
    "from sklearn.decomposition import PCA\n",
    "\n",
    "from sklearn.tree import DecisionTreeClassifier\n",
    "from sklearn.svm import SVC\n",
    "from sklearn.neighbors import KNeighborsClassifier\n",
    "\n",
    "import smote_variants as sv"
   ]
  },
  {
   "cell_type": "code",
   "execution_count": null,
   "metadata": {},
   "outputs": [],
   "source": [
    "# metrics \n",
    "from imblearn.metrics import geometric_mean_score, classification_report_imbalanced\n",
    "\n",
    "from sklearn.model_selection import StratifiedKFold, train_test_split\n",
    "from sklearn.metrics import (recall_score, roc_auc_score, confusion_matrix, precision_score,\n",
    "                             f1_score, balanced_accuracy_score, accuracy_score)"
   ]
  },
  {
   "cell_type": "code",
   "execution_count": null,
   "metadata": {},
   "outputs": [],
   "source": [
    "_logger = logging.getLogger('smote_variants')\n",
    "_logger.setLevel(logging.DEBUG)\n",
    "_logger_ch = logging.StreamHandler()\n",
    "_logger_ch.setFormatter(logging.Formatter(\n",
    "    \"%(asctime)s:%(levelname)s:%(message)s\"))\n",
    "_logger.addHandler(_logger_ch)"
   ]
  },
  {
   "cell_type": "code",
   "execution_count": 4,
   "metadata": {},
   "outputs": [],
   "source": [
    "random_state = 5"
   ]
  },
  {
   "cell_type": "markdown",
   "metadata": {},
   "source": [
    "# data checks"
   ]
  },
  {
   "cell_type": "code",
   "execution_count": 5,
   "metadata": {},
   "outputs": [],
   "source": [
    "# loading imblearn Ecoli dataset\n",
    "\n",
    "data = fetch_datasets()['ecoli']\n",
    "\n",
    "X,y, name = data['data'], data['target'], data['DESCR']"
   ]
  },
  {
   "cell_type": "code",
   "execution_count": 6,
   "metadata": {},
   "outputs": [],
   "source": [
    "def pca_plot(X,y) :\n",
    "    \n",
    "    x = StandardScaler().fit_transform(X)\n",
    "\n",
    "    pca = PCA(n_components=2)\n",
    "    principalComponents = pca.fit_transform(x)\n",
    "    principalDf = pd.DataFrame(data = principalComponents\n",
    "                 , columns = ['principal component 1', 'principal component 2'])\n",
    "    \n",
    "    fig = plt.figure(figsize = (12,7))\n",
    "    ax = fig.add_subplot(1,1,1) \n",
    "    ax.set_xlabel('Principal Component 1')\n",
    "    ax.set_ylabel('Principal Component 2')\n",
    "    ax.set_title(f'2 component PCA')\n",
    "\n",
    "    counter = Counter(y)\n",
    "\n",
    "    for label, _ in counter.items() :\n",
    "        rowix = np.where(y == label)[0]\n",
    "        ax.scatter(principalComponents[rowix, 0], principalComponents[rowix, 1], label=str(label))\n",
    "\n",
    "    ax.legend()\n",
    "\n",
    "    fig.show()\n",
    "    print(counter)"
   ]
  },
  {
   "cell_type": "code",
   "execution_count": 7,
   "metadata": {},
   "outputs": [
    {
     "name": "stdout",
     "output_type": "stream",
     "text": [
      "Counter({-1: 301, 1: 35})\n"
     ]
    },
    {
     "name": "stderr",
     "output_type": "stream",
     "text": [
      "/Users/tristenmarto/anaconda3/lib/python3.7/site-packages/ipykernel_launcher.py:24: UserWarning: Matplotlib is currently using module://ipykernel.pylab.backend_inline, which is a non-GUI backend, so cannot show the figure.\n"
     ]
    },
    {
     "data": {
      "image/png": "[encoded data removed]",
      "text/plain": [
       "<Figure size 864x504 with 1 Axes>"
      ]
     },
     "metadata": {
      "needs_background": "light"
     },
     "output_type": "display_data"
    }
   ],
   "source": [
    "pca_plot(X,y)"
   ]
  },
  {
   "cell_type": "code",
   "execution_count": 8,
   "metadata": {},
   "outputs": [
    {
     "name": "stdout",
     "output_type": "stream",
     "text": [
      "0 78\n",
      "1 63\n",
      "2 2\n",
      "3 2\n",
      "4 59\n",
      "5 82\n",
      "6 77\n"
     ]
    }
   ],
   "source": [
    "for i in range(X.shape[1]) :\n",
    "    print(i, len(np.unique(X[:,i])))"
   ]
  },
  {
   "cell_type": "markdown",
   "metadata": {},
   "source": [
    "# Evaluation - base scenario"
   ]
  },
  {
   "cell_type": "code",
   "execution_count": 9,
   "metadata": {},
   "outputs": [],
   "source": [
    "def test_metrics(training, testing, y_training, y_testing,title) :\n",
    "    \n",
    "    clf.fit(training,y_training)\n",
    "    prediction = clf.predict(testing)\n",
    "    proba = clf.predict_proba(testing)[:,1]\n",
    "\n",
    "    f_dict = {\n",
    "        'title': title,\n",
    "        'accuracy': accuracy_score(y_testing, prediction),\n",
    "        'balanced acc': balanced_accuracy_score(y_testing,prediction),\n",
    "        'precision': precision_score(y_testing,prediction),\n",
    "        'recall': recall_score(y_testing,prediction),\n",
    "        'roc_auc_score': roc_auc_score(y_testing, proba),\n",
    "        'f1_score': f1_score(y_testing, prediction, average='binary'),\n",
    "        'geometric mean': geometric_mean_score(y_testing, prediction)\n",
    "    }\n",
    "\n",
    "    return f_dict"
   ]
  },
  {
   "cell_type": "code",
   "execution_count": 10,
   "metadata": {},
   "outputs": [],
   "source": [
    "# base case\n",
    "X_train, X_test, y_train, y_test = train_test_split(X, y, test_size=0.33, random_state = random_state)"
   ]
  },
  {
   "cell_type": "code",
   "execution_count": 11,
   "metadata": {},
   "outputs": [
    {
     "data": {
      "text/plain": [
       "((225, 7), (111, 7))"
      ]
     },
     "execution_count": 11,
     "metadata": {},
     "output_type": "execute_result"
    }
   ],
   "source": [
    "X_train.shape, X_test.shape"
   ]
  },
  {
   "cell_type": "code",
   "execution_count": 12,
   "metadata": {},
   "outputs": [
    {
     "data": {
      "text/plain": [
       "{'fit_time': array([0.00138092, 0.00081897, 0.00077987, 0.00069904, 0.00062895]),\n",
       " 'score_time': array([0.00235701, 0.00208998, 0.00194407, 0.00177693, 0.00170588]),\n",
       " 'test_balanced_accuracy': array([0.775     , 0.78205128, 0.80769231, 0.61538462, 0.65384615]),\n",
       " 'test_roc_auc_ovr_weighted': array([0.775     , 0.78205128, 0.80769231, 0.61538462, 0.65384615]),\n",
       " 'test_recall': array([0.6       , 0.66666667, 0.66666667, 0.33333333, 0.33333333])}"
      ]
     },
     "execution_count": 12,
     "metadata": {},
     "output_type": "execute_result"
    }
   ],
   "source": [
    "clf = DecisionTreeClassifier(random_state=random_state)\n",
    "\n",
    "cv_result = cross_validate(clf, X_train, y_train, scoring=[\"balanced_accuracy\",\"roc_auc_ovr_weighted\",\"recall\"])\n",
    "\n",
    "cv_result"
   ]
  },
  {
   "cell_type": "code",
   "execution_count": 13,
   "metadata": {},
   "outputs": [
    {
     "data": {
      "text/plain": [
       "{'title': 'No SMOTE',\n",
       " 'accuracy': 0.9009009009009009,\n",
       " 'balanced acc': 0.7904761904761904,\n",
       " 'precision': 0.3076923076923077,\n",
       " 'recall': 0.6666666666666666,\n",
       " 'roc_auc_score': 0.7904761904761904,\n",
       " 'f1_score': 0.42105263157894735,\n",
       " 'geometric mean': 0.7807200583588265}"
      ]
     },
     "execution_count": 13,
     "metadata": {},
     "output_type": "execute_result"
    }
   ],
   "source": [
    "res_standard = test_metrics(X_train,X_test,y_train,y_test,\"No SMOTE\")\n",
    "res_standard"
   ]
  },
  {
   "cell_type": "code",
   "execution_count": 14,
   "metadata": {},
   "outputs": [
    {
     "data": {
      "text/plain": [
       "array([[96,  9],\n",
       "       [ 2,  4]])"
      ]
     },
     "execution_count": 14,
     "metadata": {},
     "output_type": "execute_result"
    }
   ],
   "source": [
    "clf.fit(X_train,y_train)\n",
    "\n",
    "prediction = clf.predict(X_test)\n",
    "\n",
    "confusion_matrix(y_test,prediction)"
   ]
  },
  {
   "cell_type": "code",
   "execution_count": 15,
   "metadata": {},
   "outputs": [
    {
     "data": {
      "text/html": [
       "<div>\n",
       "<style scoped>\n",
       "    .dataframe tbody tr th:only-of-type {\n",
       "        vertical-align: middle;\n",
       "    }\n",
       "\n",
       "    .dataframe tbody tr th {\n",
       "        vertical-align: top;\n",
       "    }\n",
       "\n",
       "    .dataframe thead th {\n",
       "        text-align: right;\n",
       "    }\n",
       "</style>\n",
       "<table border=\"1\" class=\"dataframe\">\n",
       "  <thead>\n",
       "    <tr style=\"text-align: right;\">\n",
       "      <th></th>\n",
       "      <th>title</th>\n",
       "      <th>accuracy</th>\n",
       "      <th>balanced acc</th>\n",
       "      <th>precision</th>\n",
       "      <th>recall</th>\n",
       "      <th>roc_auc_score</th>\n",
       "      <th>f1_score</th>\n",
       "      <th>geometric mean</th>\n",
       "    </tr>\n",
       "  </thead>\n",
       "  <tbody>\n",
       "    <tr>\n",
       "      <th>0</th>\n",
       "      <td>No SMOTE</td>\n",
       "      <td>0.900901</td>\n",
       "      <td>0.790476</td>\n",
       "      <td>0.307692</td>\n",
       "      <td>0.666667</td>\n",
       "      <td>0.790476</td>\n",
       "      <td>0.421053</td>\n",
       "      <td>0.78072</td>\n",
       "    </tr>\n",
       "  </tbody>\n",
       "</table>\n",
       "</div>"
      ],
      "text/plain": [
       "      title  accuracy  balanced acc  precision    recall  roc_auc_score  \\\n",
       "0  No SMOTE  0.900901      0.790476   0.307692  0.666667       0.790476   \n",
       "\n",
       "   f1_score  geometric mean  \n",
       "0  0.421053         0.78072  "
      ]
     },
     "execution_count": 15,
     "metadata": {},
     "output_type": "execute_result"
    }
   ],
   "source": [
    "results = pd.DataFrame(res_standard, index=[0])\n",
    "results"
   ]
  },
  {
   "cell_type": "code",
   "execution_count": 16,
   "metadata": {},
   "outputs": [
    {
     "data": {
      "text/plain": [
       "KNeighborsClassifier(n_neighbors=3)"
      ]
     },
     "execution_count": 16,
     "metadata": {},
     "output_type": "execute_result"
    }
   ],
   "source": [
    "kneighbours = KNeighborsClassifier(3)\n",
    "kneighbours.fit(X_train,y_train)"
   ]
  },
  {
   "cell_type": "code",
   "execution_count": 17,
   "metadata": {},
   "outputs": [
    {
     "data": {
      "text/plain": [
       "{'title': 'K neighbours',\n",
       " 'accuracy': 0.9459459459459459,\n",
       " 'balanced acc': 0.8928571428571428,\n",
       " 'precision': 0.5,\n",
       " 'recall': 0.8333333333333334,\n",
       " 'roc_auc_score': 0.9611111111111111,\n",
       " 'f1_score': 0.625,\n",
       " 'geometric mean': 0.8908708063747479}"
      ]
     },
     "execution_count": 17,
     "metadata": {},
     "output_type": "execute_result"
    }
   ],
   "source": [
    "prediction = kneighbours.predict(X_test)\n",
    "proba = kneighbours.predict_proba(X_test)[:,1]\n",
    "\n",
    "f_dict = {\n",
    "    'title': \"K neighbours\",\n",
    "    'accuracy': accuracy_score(y_test, prediction),\n",
    "    'balanced acc': balanced_accuracy_score(y_test,prediction),\n",
    "    'precision': precision_score(y_test,prediction),\n",
    "    'recall': recall_score(y_test,prediction),\n",
    "    'roc_auc_score': roc_auc_score(y_test, proba),\n",
    "    'f1_score': f1_score(y_test, prediction, average='binary'),\n",
    "    'geometric mean': geometric_mean_score(y_test, prediction)\n",
    "}\n",
    "f_dict"
   ]
  },
  {
   "cell_type": "markdown",
   "metadata": {},
   "source": [
    "# Evulation - SMOTE"
   ]
  },
  {
   "cell_type": "code",
   "execution_count": 18,
   "metadata": {
    "scrolled": true
   },
   "outputs": [
    {
     "name": "stderr",
     "output_type": "stream",
     "text": [
      "2021-06-07 16:42:31,830:INFO:SMOTE: Running sampling via ('SMOTE', \"{'proportion': 0.1, 'n_neighbors': 5, 'n_jobs': 1, 'random_state': 5}\")\n",
      "2021-06-07 16:42:31,830:INFO:SMOTE: Running sampling via ('SMOTE', \"{'proportion': 0.1, 'n_neighbors': 5, 'n_jobs': 1, 'random_state': 5}\")\n",
      "2021-06-07 16:42:31,830:INFO:SMOTE: Running sampling via ('SMOTE', \"{'proportion': 0.1, 'n_neighbors': 5, 'n_jobs': 1, 'random_state': 5}\")\n",
      "2021-06-07 16:42:31,834:INFO:SMOTE: Running sampling via ('SMOTE', \"{'proportion': 0.25, 'n_neighbors': 5, 'n_jobs': 1, 'random_state': 5}\")\n",
      "2021-06-07 16:42:31,834:INFO:SMOTE: Running sampling via ('SMOTE', \"{'proportion': 0.25, 'n_neighbors': 5, 'n_jobs': 1, 'random_state': 5}\")\n",
      "2021-06-07 16:42:31,834:INFO:SMOTE: Running sampling via ('SMOTE', \"{'proportion': 0.25, 'n_neighbors': 5, 'n_jobs': 1, 'random_state': 5}\")\n",
      "2021-06-07 16:42:31,837:INFO:SMOTE: Running sampling via ('SMOTE', \"{'proportion': 0.5, 'n_neighbors': 5, 'n_jobs': 1, 'random_state': 5}\")\n",
      "2021-06-07 16:42:31,837:INFO:SMOTE: Running sampling via ('SMOTE', \"{'proportion': 0.5, 'n_neighbors': 5, 'n_jobs': 1, 'random_state': 5}\")\n",
      "2021-06-07 16:42:31,837:INFO:SMOTE: Running sampling via ('SMOTE', \"{'proportion': 0.5, 'n_neighbors': 5, 'n_jobs': 1, 'random_state': 5}\")\n",
      "2021-06-07 16:42:31,840:INFO:SMOTE: Running sampling via ('SMOTE', \"{'proportion': 0.75, 'n_neighbors': 5, 'n_jobs': 1, 'random_state': 5}\")\n",
      "2021-06-07 16:42:31,840:INFO:SMOTE: Running sampling via ('SMOTE', \"{'proportion': 0.75, 'n_neighbors': 5, 'n_jobs': 1, 'random_state': 5}\")\n",
      "2021-06-07 16:42:31,840:INFO:SMOTE: Running sampling via ('SMOTE', \"{'proportion': 0.75, 'n_neighbors': 5, 'n_jobs': 1, 'random_state': 5}\")\n",
      "2021-06-07 16:42:31,844:INFO:SMOTE: Running sampling via ('SMOTE', \"{'proportion': 1.0, 'n_neighbors': 5, 'n_jobs': 1, 'random_state': 5}\")\n",
      "2021-06-07 16:42:31,844:INFO:SMOTE: Running sampling via ('SMOTE', \"{'proportion': 1.0, 'n_neighbors': 5, 'n_jobs': 1, 'random_state': 5}\")\n",
      "2021-06-07 16:42:31,844:INFO:SMOTE: Running sampling via ('SMOTE', \"{'proportion': 1.0, 'n_neighbors': 5, 'n_jobs': 1, 'random_state': 5}\")\n",
      "2021-06-07 16:42:31,849:INFO:SMOTE: Running sampling via ('SMOTE', \"{'proportion': 1.5, 'n_neighbors': 5, 'n_jobs': 1, 'random_state': 5}\")\n",
      "2021-06-07 16:42:31,849:INFO:SMOTE: Running sampling via ('SMOTE', \"{'proportion': 1.5, 'n_neighbors': 5, 'n_jobs': 1, 'random_state': 5}\")\n",
      "2021-06-07 16:42:31,849:INFO:SMOTE: Running sampling via ('SMOTE', \"{'proportion': 1.5, 'n_neighbors': 5, 'n_jobs': 1, 'random_state': 5}\")\n",
      "2021-06-07 16:42:31,853:INFO:SMOTE: Running sampling via ('SMOTE', \"{'proportion': 2.0, 'n_neighbors': 5, 'n_jobs': 1, 'random_state': 5}\")\n",
      "2021-06-07 16:42:31,853:INFO:SMOTE: Running sampling via ('SMOTE', \"{'proportion': 2.0, 'n_neighbors': 5, 'n_jobs': 1, 'random_state': 5}\")\n",
      "2021-06-07 16:42:31,853:INFO:SMOTE: Running sampling via ('SMOTE', \"{'proportion': 2.0, 'n_neighbors': 5, 'n_jobs': 1, 'random_state': 5}\")\n"
     ]
    },
    {
     "name": "stdout",
     "output_type": "stream",
     "text": [
      "0.1\n",
      "0.25\n",
      "0.5\n",
      "0.75\n",
      "1.0\n",
      "1.5\n",
      "2.0\n"
     ]
    }
   ],
   "source": [
    "# generate samples with different proportions\n",
    "proportions = [0.1, 0.25, 0.5, 0.75, 1.0, 1.5, 2.0]\n",
    "\n",
    "samples_smote = []\n",
    "\n",
    "for prop in proportions :\n",
    "    o = sv.SMOTE(proportion = prop,\n",
    "                   random_state = random_state)\n",
    "    \n",
    "    print(prop)\n",
    "    x_g, y_g = o.sample(X_train,y_train)\n",
    "    \n",
    "    f_dict = {\n",
    "        'prop':prop,\n",
    "        'x_sample':x_g,\n",
    "        'y_sample':y_g\n",
    "    }\n",
    "    \n",
    "    samples_smote.append(f_dict)"
   ]
  },
  {
   "cell_type": "code",
   "execution_count": 19,
   "metadata": {},
   "outputs": [
    {
     "name": "stdout",
     "output_type": "stream",
     "text": [
      "Counter({-1: 196, 1: 70})\n"
     ]
    },
    {
     "name": "stderr",
     "output_type": "stream",
     "text": [
      "/Users/tristenmarto/anaconda3/lib/python3.7/site-packages/ipykernel_launcher.py:24: UserWarning: Matplotlib is currently using module://ipykernel.pylab.backend_inline, which is a non-GUI backend, so cannot show the figure.\n"
     ]
    },
    {
     "data": {
      "text/plain": [
       "Text(0.5, 1.0, '2 component PCA (SMOTE 0.25 oversample)')"
      ]
     },
     "execution_count": 19,
     "metadata": {},
     "output_type": "execute_result"
    },
    {
     "data": {
      "image/png": "[encoded data removed]",
      "text/plain": [
       "<Figure size 864x504 with 1 Axes>"
      ]
     },
     "metadata": {
      "needs_background": "light"
     },
     "output_type": "display_data"
    }
   ],
   "source": [
    "# 0.25\n",
    "X,y = samples_smote[1]['x_sample'],samples_smote[1]['y_sample']\n",
    "\n",
    "pca_plot(X,y)\n",
    "plt.title(\"2 component PCA (SMOTE 0.25 oversample)\")"
   ]
  },
  {
   "cell_type": "code",
   "execution_count": 20,
   "metadata": {},
   "outputs": [
    {
     "name": "stdout",
     "output_type": "stream",
     "text": [
      "Counter({-1: 196, 1: 154})\n"
     ]
    },
    {
     "name": "stderr",
     "output_type": "stream",
     "text": [
      "/Users/tristenmarto/anaconda3/lib/python3.7/site-packages/ipykernel_launcher.py:24: UserWarning: Matplotlib is currently using module://ipykernel.pylab.backend_inline, which is a non-GUI backend, so cannot show the figure.\n"
     ]
    },
    {
     "data": {
      "text/plain": [
       "Text(0.5, 1.0, '2 component PCA (SMOTE 0.75 oversample)')"
      ]
     },
     "execution_count": 20,
     "metadata": {},
     "output_type": "execute_result"
    },
    {
     "data": {
      "image/png": "[encoded data removed]",
      "text/plain": [
       "<Figure size 864x504 with 1 Axes>"
      ]
     },
     "metadata": {
      "needs_background": "light"
     },
     "output_type": "display_data"
    }
   ],
   "source": [
    "# 0.75\n",
    "X,y = samples_smote[3]['x_sample'],samples_smote[3]['y_sample']\n",
    "\n",
    "pca_plot(X,y)\n",
    "plt.title(\"2 component PCA (SMOTE 0.75 oversample)\")"
   ]
  },
  {
   "cell_type": "code",
   "execution_count": 21,
   "metadata": {},
   "outputs": [
    {
     "name": "stdout",
     "output_type": "stream",
     "text": [
      "Counter({-1: 196, 1: 196})\n"
     ]
    },
    {
     "name": "stderr",
     "output_type": "stream",
     "text": [
      "/Users/tristenmarto/anaconda3/lib/python3.7/site-packages/ipykernel_launcher.py:24: UserWarning: Matplotlib is currently using module://ipykernel.pylab.backend_inline, which is a non-GUI backend, so cannot show the figure.\n"
     ]
    },
    {
     "data": {
      "text/plain": [
       "Text(0.5, 1.0, '2 component PCA (SMOTE 1 oversample)')"
      ]
     },
     "execution_count": 21,
     "metadata": {},
     "output_type": "execute_result"
    },
    {
     "data": {
      "image/png": "[encoded data removed]",
      "text/plain": [
       "<Figure size 864x504 with 1 Axes>"
      ]
     },
     "metadata": {
      "needs_background": "light"
     },
     "output_type": "display_data"
    }
   ],
   "source": [
    "# 1\n",
    "X,y = samples_smote[4]['x_sample'],samples_smote[4]['y_sample']\n",
    "\n",
    "pca_plot(X,y)\n",
    "plt.title(\"2 component PCA (SMOTE 1 oversample)\")"
   ]
  },
  {
   "cell_type": "code",
   "execution_count": 22,
   "metadata": {},
   "outputs": [
    {
     "name": "stdout",
     "output_type": "stream",
     "text": [
      "Counter({1: 363, -1: 196})\n"
     ]
    },
    {
     "name": "stderr",
     "output_type": "stream",
     "text": [
      "/Users/tristenmarto/anaconda3/lib/python3.7/site-packages/ipykernel_launcher.py:24: UserWarning: Matplotlib is currently using module://ipykernel.pylab.backend_inline, which is a non-GUI backend, so cannot show the figure.\n"
     ]
    },
    {
     "data": {
      "text/plain": [
       "Text(0.5, 1.0, '2 component PCA (SMOTE 2x oversample)')"
      ]
     },
     "execution_count": 22,
     "metadata": {},
     "output_type": "execute_result"
    },
    {
     "data": {
      "image/png": "[encoded data removed]",
      "text/plain": [
       "<Figure size 864x504 with 1 Axes>"
      ]
     },
     "metadata": {
      "needs_background": "light"
     },
     "output_type": "display_data"
    }
   ],
   "source": [
    "# 2\n",
    "X,y = samples_smote[-1]['x_sample'],samples_smote[-1]['y_sample']\n",
    "\n",
    "pca_plot(X,y)\n",
    "plt.title(\"2 component PCA (SMOTE 2x oversample)\")"
   ]
  },
  {
   "cell_type": "code",
   "execution_count": 23,
   "metadata": {},
   "outputs": [
    {
     "data": {
      "text/html": [
       "<div>\n",
       "<style scoped>\n",
       "    .dataframe tbody tr th:only-of-type {\n",
       "        vertical-align: middle;\n",
       "    }\n",
       "\n",
       "    .dataframe tbody tr th {\n",
       "        vertical-align: top;\n",
       "    }\n",
       "\n",
       "    .dataframe thead th {\n",
       "        text-align: right;\n",
       "    }\n",
       "</style>\n",
       "<table border=\"1\" class=\"dataframe\">\n",
       "  <thead>\n",
       "    <tr style=\"text-align: right;\">\n",
       "      <th></th>\n",
       "      <th>title</th>\n",
       "      <th>accuracy</th>\n",
       "      <th>balanced acc</th>\n",
       "      <th>precision</th>\n",
       "      <th>recall</th>\n",
       "      <th>roc_auc_score</th>\n",
       "      <th>f1_score</th>\n",
       "      <th>geometric mean</th>\n",
       "    </tr>\n",
       "  </thead>\n",
       "  <tbody>\n",
       "    <tr>\n",
       "      <th>0</th>\n",
       "      <td>No SMOTE</td>\n",
       "      <td>0.900901</td>\n",
       "      <td>0.790476</td>\n",
       "      <td>0.307692</td>\n",
       "      <td>0.666667</td>\n",
       "      <td>0.790476</td>\n",
       "      <td>0.421053</td>\n",
       "      <td>0.78072</td>\n",
       "    </tr>\n",
       "    <tr>\n",
       "      <th>1</th>\n",
       "      <td>SMOTE oversampling 0.25</td>\n",
       "      <td>0.891892</td>\n",
       "      <td>0.628571</td>\n",
       "      <td>0.200000</td>\n",
       "      <td>0.333333</td>\n",
       "      <td>0.628571</td>\n",
       "      <td>0.250000</td>\n",
       "      <td>0.55492</td>\n",
       "    </tr>\n",
       "  </tbody>\n",
       "</table>\n",
       "</div>"
      ],
      "text/plain": [
       "                     title  accuracy  balanced acc  precision    recall  \\\n",
       "0                 No SMOTE  0.900901      0.790476   0.307692  0.666667   \n",
       "1  SMOTE oversampling 0.25  0.891892      0.628571   0.200000  0.333333   \n",
       "\n",
       "   roc_auc_score  f1_score  geometric mean  \n",
       "0       0.790476  0.421053         0.78072  \n",
       "1       0.628571  0.250000         0.55492  "
      ]
     },
     "execution_count": 23,
     "metadata": {},
     "output_type": "execute_result"
    }
   ],
   "source": [
    "# Check metrics\n",
    "X,y = samples_smote[2]['x_sample'],samples_smote[2]['y_sample']\n",
    "res_025 = test_metrics(X, X_test, y, y_test, \"SMOTE oversampling 0.25\")\n",
    "\n",
    "results = results.append(res_025, ignore_index=True)\n",
    "results"
   ]
  },
  {
   "cell_type": "code",
   "execution_count": 24,
   "metadata": {},
   "outputs": [
    {
     "data": {
      "text/plain": [
       "array([[97,  8],\n",
       "       [ 4,  2]])"
      ]
     },
     "execution_count": 24,
     "metadata": {},
     "output_type": "execute_result"
    }
   ],
   "source": [
    "clf.fit(X,y)\n",
    "prediction = clf.predict(X_test)\n",
    "confusion_matrix(y_test,prediction)"
   ]
  },
  {
   "cell_type": "code",
   "execution_count": 25,
   "metadata": {},
   "outputs": [
    {
     "data": {
      "text/html": [
       "<div>\n",
       "<style scoped>\n",
       "    .dataframe tbody tr th:only-of-type {\n",
       "        vertical-align: middle;\n",
       "    }\n",
       "\n",
       "    .dataframe tbody tr th {\n",
       "        vertical-align: top;\n",
       "    }\n",
       "\n",
       "    .dataframe thead th {\n",
       "        text-align: right;\n",
       "    }\n",
       "</style>\n",
       "<table border=\"1\" class=\"dataframe\">\n",
       "  <thead>\n",
       "    <tr style=\"text-align: right;\">\n",
       "      <th></th>\n",
       "      <th>title</th>\n",
       "      <th>accuracy</th>\n",
       "      <th>balanced acc</th>\n",
       "      <th>precision</th>\n",
       "      <th>recall</th>\n",
       "      <th>roc_auc_score</th>\n",
       "      <th>f1_score</th>\n",
       "      <th>geometric mean</th>\n",
       "    </tr>\n",
       "  </thead>\n",
       "  <tbody>\n",
       "    <tr>\n",
       "      <th>0</th>\n",
       "      <td>No SMOTE</td>\n",
       "      <td>0.900901</td>\n",
       "      <td>0.790476</td>\n",
       "      <td>0.307692</td>\n",
       "      <td>0.666667</td>\n",
       "      <td>0.790476</td>\n",
       "      <td>0.421053</td>\n",
       "      <td>0.780720</td>\n",
       "    </tr>\n",
       "    <tr>\n",
       "      <th>1</th>\n",
       "      <td>SMOTE oversampling 0.25</td>\n",
       "      <td>0.891892</td>\n",
       "      <td>0.628571</td>\n",
       "      <td>0.200000</td>\n",
       "      <td>0.333333</td>\n",
       "      <td>0.628571</td>\n",
       "      <td>0.250000</td>\n",
       "      <td>0.554920</td>\n",
       "    </tr>\n",
       "    <tr>\n",
       "      <th>2</th>\n",
       "      <td>SMOTE oversampling 0.75</td>\n",
       "      <td>0.864865</td>\n",
       "      <td>0.614286</td>\n",
       "      <td>0.153846</td>\n",
       "      <td>0.333333</td>\n",
       "      <td>0.614286</td>\n",
       "      <td>0.210526</td>\n",
       "      <td>0.546272</td>\n",
       "    </tr>\n",
       "  </tbody>\n",
       "</table>\n",
       "</div>"
      ],
      "text/plain": [
       "                     title  accuracy  balanced acc  precision    recall  \\\n",
       "0                 No SMOTE  0.900901      0.790476   0.307692  0.666667   \n",
       "1  SMOTE oversampling 0.25  0.891892      0.628571   0.200000  0.333333   \n",
       "2  SMOTE oversampling 0.75  0.864865      0.614286   0.153846  0.333333   \n",
       "\n",
       "   roc_auc_score  f1_score  geometric mean  \n",
       "0       0.790476  0.421053        0.780720  \n",
       "1       0.628571  0.250000        0.554920  \n",
       "2       0.614286  0.210526        0.546272  "
      ]
     },
     "execution_count": 25,
     "metadata": {},
     "output_type": "execute_result"
    }
   ],
   "source": [
    "# Check metrics\n",
    "X,y = samples_smote[4]['x_sample'],samples_smote[4]['y_sample']\n",
    "res_075 = test_metrics(X, X_test, y, y_test, \"SMOTE oversampling 0.75\")\n",
    "\n",
    "results = results.append(res_075, ignore_index=True)\n",
    "results"
   ]
  },
  {
   "cell_type": "code",
   "execution_count": 26,
   "metadata": {},
   "outputs": [
    {
     "data": {
      "text/plain": [
       "array([[94, 11],\n",
       "       [ 4,  2]])"
      ]
     },
     "execution_count": 26,
     "metadata": {},
     "output_type": "execute_result"
    }
   ],
   "source": [
    "clf.fit(X,y)\n",
    "prediction = clf.predict(X_test)\n",
    "confusion_matrix(y_test,prediction)"
   ]
  },
  {
   "cell_type": "markdown",
   "metadata": {},
   "source": [
    "# Evaluate synthsonic "
   ]
  },
  {
   "cell_type": "code",
   "execution_count": 27,
   "metadata": {},
   "outputs": [
    {
     "name": "stderr",
     "output_type": "stream",
     "text": [
      "2021-06-07 16:42:32,621:INFO:synthsonic: Running sampling via ('synthsonic', \"{'proportion': 0.1, 'n_jobs': 1, 'distinct_threshold': 3, 'random_state': RandomState(MT19937) at 0x7F83E7164490}\")\n",
      "2021-06-07 16:42:32,621:INFO:synthsonic: Running sampling via ('synthsonic', \"{'proportion': 0.1, 'n_jobs': 1, 'distinct_threshold': 3, 'random_state': RandomState(MT19937) at 0x7F83E7164490}\")\n",
      "2021-06-07 16:42:32,621:INFO:synthsonic: Running sampling via ('synthsonic', \"{'proportion': 0.1, 'n_jobs': 1, 'distinct_threshold': 3, 'random_state': RandomState(MT19937) at 0x7F83E7164490}\")\n",
      "n_quantiles (500) is greater than the total number of samples (29). n_quantiles is set to num samples.\n"
     ]
    },
    {
     "name": "stdout",
     "output_type": "stream",
     "text": [
      "0.1\n",
      "minority class 1, min dataset (29, 7)\n"
     ]
    },
    {
     "name": "stderr",
     "output_type": "stream",
     "text": [
      "Building tree: 100%|██████████| 15/15.0 [00:00<00:00, 2188.56it/s]\n",
      "Generating for node: 0:   0%|          | 0/7 [00:00<?, ?it/s]/Users/tristenmarto/anaconda3/lib/python3.7/site-packages/pgmpy/factors/discrete/DiscreteFactor.py:522: UserWarning: Found unknown state name. Trying to switch to using all state names as state numbers\n",
      "  \"Found unknown state name. Trying to switch to using all state names as state numbers\"\n",
      "Generating for node: 3: 100%|██████████| 7/7 [00:01<00:00,  5.73it/s]\n",
      "/Users/tristenmarto/anaconda3/lib/python3.7/site-packages/sklearn/isotonic.py:71: UserWarning: Confidence interval of the Spearman correlation coefficient spans zero. Determination of ``increasing`` may be suspect.\n",
      "  warnings.warn(\"Confidence interval of the Spearman \"\n",
      "Generating for node: 0:   0%|          | 0/7 [00:00<?, ?it/s]/Users/tristenmarto/anaconda3/lib/python3.7/site-packages/pgmpy/factors/discrete/DiscreteFactor.py:522: UserWarning: Found unknown state name. Trying to switch to using all state names as state numbers\n",
      "  \"Found unknown state name. Trying to switch to using all state names as state numbers\"\n",
      "Generating for node: 3: 100%|██████████| 7/7 [00:00<00:00, 23.55it/s]\n",
      "2021-06-07 16:42:35,932:INFO:synthsonic: Running sampling via ('synthsonic', \"{'proportion': 0.25, 'n_jobs': 1, 'distinct_threshold': 3, 'random_state': RandomState(MT19937) at 0x7F83E7164050}\")\n",
      "2021-06-07 16:42:35,932:INFO:synthsonic: Running sampling via ('synthsonic', \"{'proportion': 0.25, 'n_jobs': 1, 'distinct_threshold': 3, 'random_state': RandomState(MT19937) at 0x7F83E7164050}\")\n",
      "2021-06-07 16:42:35,932:INFO:synthsonic: Running sampling via ('synthsonic', \"{'proportion': 0.25, 'n_jobs': 1, 'distinct_threshold': 3, 'random_state': RandomState(MT19937) at 0x7F83E7164050}\")\n",
      "n_quantiles (500) is greater than the total number of samples (29). n_quantiles is set to num samples.\n"
     ]
    },
    {
     "name": "stdout",
     "output_type": "stream",
     "text": [
      "0.25\n",
      "minority class 1, min dataset (29, 7)\n"
     ]
    },
    {
     "name": "stderr",
     "output_type": "stream",
     "text": [
      "Building tree: 100%|██████████| 15/15.0 [00:00<00:00, 2871.37it/s]\n",
      "Generating for node: 0:   0%|          | 0/7 [00:00<?, ?it/s]/Users/tristenmarto/anaconda3/lib/python3.7/site-packages/pgmpy/factors/discrete/DiscreteFactor.py:522: UserWarning: Found unknown state name. Trying to switch to using all state names as state numbers\n",
      "  \"Found unknown state name. Trying to switch to using all state names as state numbers\"\n",
      "Generating for node: 3: 100%|██████████| 7/7 [00:01<00:00,  5.79it/s]\n",
      "/Users/tristenmarto/anaconda3/lib/python3.7/site-packages/sklearn/isotonic.py:71: UserWarning: Confidence interval of the Spearman correlation coefficient spans zero. Determination of ``increasing`` may be suspect.\n",
      "  warnings.warn(\"Confidence interval of the Spearman \"\n",
      "Generating for node: 0:   0%|          | 0/7 [00:00<?, ?it/s]/Users/tristenmarto/anaconda3/lib/python3.7/site-packages/pgmpy/factors/discrete/DiscreteFactor.py:522: UserWarning: Found unknown state name. Trying to switch to using all state names as state numbers\n",
      "  \"Found unknown state name. Trying to switch to using all state names as state numbers\"\n",
      "Generating for node: 3: 100%|██████████| 7/7 [00:00<00:00, 22.82it/s]\n",
      "2021-06-07 16:42:39,064:INFO:synthsonic: Running sampling via ('synthsonic', \"{'proportion': 0.5, 'n_jobs': 1, 'distinct_threshold': 3, 'random_state': RandomState(MT19937) at 0x7F83E71646B0}\")\n",
      "2021-06-07 16:42:39,064:INFO:synthsonic: Running sampling via ('synthsonic', \"{'proportion': 0.5, 'n_jobs': 1, 'distinct_threshold': 3, 'random_state': RandomState(MT19937) at 0x7F83E71646B0}\")\n",
      "2021-06-07 16:42:39,064:INFO:synthsonic: Running sampling via ('synthsonic', \"{'proportion': 0.5, 'n_jobs': 1, 'distinct_threshold': 3, 'random_state': RandomState(MT19937) at 0x7F83E71646B0}\")\n",
      "n_quantiles (500) is greater than the total number of samples (29). n_quantiles is set to num samples.\n"
     ]
    },
    {
     "name": "stdout",
     "output_type": "stream",
     "text": [
      "0.5\n",
      "minority class 1, min dataset (29, 7)\n"
     ]
    },
    {
     "name": "stderr",
     "output_type": "stream",
     "text": [
      "Building tree: 100%|██████████| 15/15.0 [00:00<00:00, 2460.58it/s]\n",
      "Generating for node: 0:   0%|          | 0/7 [00:00<?, ?it/s]/Users/tristenmarto/anaconda3/lib/python3.7/site-packages/pgmpy/factors/discrete/DiscreteFactor.py:522: UserWarning: Found unknown state name. Trying to switch to using all state names as state numbers\n",
      "  \"Found unknown state name. Trying to switch to using all state names as state numbers\"\n",
      "Generating for node: 3: 100%|██████████| 7/7 [00:01<00:00,  5.86it/s]\n",
      "/Users/tristenmarto/anaconda3/lib/python3.7/site-packages/sklearn/isotonic.py:71: UserWarning: Confidence interval of the Spearman correlation coefficient spans zero. Determination of ``increasing`` may be suspect.\n",
      "  warnings.warn(\"Confidence interval of the Spearman \"\n",
      "Generating for node: 0:   0%|          | 0/7 [00:00<?, ?it/s]/Users/tristenmarto/anaconda3/lib/python3.7/site-packages/pgmpy/factors/discrete/DiscreteFactor.py:522: UserWarning: Found unknown state name. Trying to switch to using all state names as state numbers\n",
      "  \"Found unknown state name. Trying to switch to using all state names as state numbers\"\n",
      "Generating for node: 3: 100%|██████████| 7/7 [00:00<00:00, 22.82it/s]\n",
      "2021-06-07 16:42:42,156:INFO:synthsonic: Running sampling via ('synthsonic', \"{'proportion': 0.75, 'n_jobs': 1, 'distinct_threshold': 3, 'random_state': RandomState(MT19937) at 0x7F83E71647C0}\")\n",
      "2021-06-07 16:42:42,156:INFO:synthsonic: Running sampling via ('synthsonic', \"{'proportion': 0.75, 'n_jobs': 1, 'distinct_threshold': 3, 'random_state': RandomState(MT19937) at 0x7F83E71647C0}\")\n",
      "2021-06-07 16:42:42,156:INFO:synthsonic: Running sampling via ('synthsonic', \"{'proportion': 0.75, 'n_jobs': 1, 'distinct_threshold': 3, 'random_state': RandomState(MT19937) at 0x7F83E71647C0}\")\n",
      "n_quantiles (500) is greater than the total number of samples (29). n_quantiles is set to num samples.\n"
     ]
    },
    {
     "name": "stdout",
     "output_type": "stream",
     "text": [
      "0.75\n",
      "minority class 1, min dataset (29, 7)\n"
     ]
    },
    {
     "name": "stderr",
     "output_type": "stream",
     "text": [
      "Building tree: 100%|██████████| 15/15.0 [00:00<00:00, 2339.35it/s]\n",
      "Generating for node: 0:   0%|          | 0/7 [00:00<?, ?it/s]/Users/tristenmarto/anaconda3/lib/python3.7/site-packages/pgmpy/factors/discrete/DiscreteFactor.py:522: UserWarning: Found unknown state name. Trying to switch to using all state names as state numbers\n",
      "  \"Found unknown state name. Trying to switch to using all state names as state numbers\"\n",
      "Generating for node: 3: 100%|██████████| 7/7 [00:01<00:00,  5.84it/s]\n",
      "/Users/tristenmarto/anaconda3/lib/python3.7/site-packages/sklearn/isotonic.py:71: UserWarning: Confidence interval of the Spearman correlation coefficient spans zero. Determination of ``increasing`` may be suspect.\n",
      "  warnings.warn(\"Confidence interval of the Spearman \"\n",
      "Generating for node: 0:   0%|          | 0/7 [00:00<?, ?it/s]/Users/tristenmarto/anaconda3/lib/python3.7/site-packages/pgmpy/factors/discrete/DiscreteFactor.py:522: UserWarning: Found unknown state name. Trying to switch to using all state names as state numbers\n",
      "  \"Found unknown state name. Trying to switch to using all state names as state numbers\"\n",
      "Generating for node: 3: 100%|██████████| 7/7 [00:00<00:00, 22.80it/s]\n",
      "2021-06-07 16:42:45,251:INFO:synthsonic: Running sampling via ('synthsonic', \"{'proportion': 1.0, 'n_jobs': 1, 'distinct_threshold': 3, 'random_state': RandomState(MT19937) at 0x7F83E7164050}\")\n",
      "2021-06-07 16:42:45,251:INFO:synthsonic: Running sampling via ('synthsonic', \"{'proportion': 1.0, 'n_jobs': 1, 'distinct_threshold': 3, 'random_state': RandomState(MT19937) at 0x7F83E7164050}\")\n",
      "2021-06-07 16:42:45,251:INFO:synthsonic: Running sampling via ('synthsonic', \"{'proportion': 1.0, 'n_jobs': 1, 'distinct_threshold': 3, 'random_state': RandomState(MT19937) at 0x7F83E7164050}\")\n",
      "n_quantiles (500) is greater than the total number of samples (29). n_quantiles is set to num samples.\n"
     ]
    },
    {
     "name": "stdout",
     "output_type": "stream",
     "text": [
      "1.0\n",
      "minority class 1, min dataset (29, 7)\n"
     ]
    },
    {
     "name": "stderr",
     "output_type": "stream",
     "text": [
      "Building tree: 100%|██████████| 15/15.0 [00:00<00:00, 1890.86it/s]\n",
      "Generating for node: 0:   0%|          | 0/7 [00:00<?, ?it/s]/Users/tristenmarto/anaconda3/lib/python3.7/site-packages/pgmpy/factors/discrete/DiscreteFactor.py:522: UserWarning: Found unknown state name. Trying to switch to using all state names as state numbers\n",
      "  \"Found unknown state name. Trying to switch to using all state names as state numbers\"\n",
      "Generating for node: 3: 100%|██████████| 7/7 [00:01<00:00,  5.86it/s]\n",
      "/Users/tristenmarto/anaconda3/lib/python3.7/site-packages/sklearn/isotonic.py:71: UserWarning: Confidence interval of the Spearman correlation coefficient spans zero. Determination of ``increasing`` may be suspect.\n",
      "  warnings.warn(\"Confidence interval of the Spearman \"\n",
      "Generating for node: 0:   0%|          | 0/7 [00:00<?, ?it/s]/Users/tristenmarto/anaconda3/lib/python3.7/site-packages/pgmpy/factors/discrete/DiscreteFactor.py:522: UserWarning: Found unknown state name. Trying to switch to using all state names as state numbers\n",
      "  \"Found unknown state name. Trying to switch to using all state names as state numbers\"\n",
      "Generating for node: 3: 100%|██████████| 7/7 [00:00<00:00, 22.80it/s]\n",
      "2021-06-07 16:42:48,358:INFO:synthsonic: Running sampling via ('synthsonic', \"{'proportion': 1.5, 'n_jobs': 1, 'distinct_threshold': 3, 'random_state': RandomState(MT19937) at 0x7F83E71646B0}\")\n",
      "2021-06-07 16:42:48,358:INFO:synthsonic: Running sampling via ('synthsonic', \"{'proportion': 1.5, 'n_jobs': 1, 'distinct_threshold': 3, 'random_state': RandomState(MT19937) at 0x7F83E71646B0}\")\n",
      "2021-06-07 16:42:48,358:INFO:synthsonic: Running sampling via ('synthsonic', \"{'proportion': 1.5, 'n_jobs': 1, 'distinct_threshold': 3, 'random_state': RandomState(MT19937) at 0x7F83E71646B0}\")\n",
      "n_quantiles (500) is greater than the total number of samples (29). n_quantiles is set to num samples.\n"
     ]
    },
    {
     "name": "stdout",
     "output_type": "stream",
     "text": [
      "1.5\n",
      "minority class 1, min dataset (29, 7)\n"
     ]
    },
    {
     "name": "stderr",
     "output_type": "stream",
     "text": [
      "Building tree: 100%|██████████| 15/15.0 [00:00<00:00, 2431.86it/s]\n",
      "Generating for node: 0:   0%|          | 0/7 [00:00<?, ?it/s]/Users/tristenmarto/anaconda3/lib/python3.7/site-packages/pgmpy/factors/discrete/DiscreteFactor.py:522: UserWarning: Found unknown state name. Trying to switch to using all state names as state numbers\n",
      "  \"Found unknown state name. Trying to switch to using all state names as state numbers\"\n",
      "Generating for node: 3: 100%|██████████| 7/7 [00:01<00:00,  5.86it/s]\n",
      "/Users/tristenmarto/anaconda3/lib/python3.7/site-packages/sklearn/isotonic.py:71: UserWarning: Confidence interval of the Spearman correlation coefficient spans zero. Determination of ``increasing`` may be suspect.\n",
      "  warnings.warn(\"Confidence interval of the Spearman \"\n",
      "Generating for node: 0:   0%|          | 0/7 [00:00<?, ?it/s]/Users/tristenmarto/anaconda3/lib/python3.7/site-packages/pgmpy/factors/discrete/DiscreteFactor.py:522: UserWarning: Found unknown state name. Trying to switch to using all state names as state numbers\n",
      "  \"Found unknown state name. Trying to switch to using all state names as state numbers\"\n",
      "Generating for node: 3: 100%|██████████| 7/7 [00:00<00:00, 23.05it/s]\n",
      "2021-06-07 16:42:51,467:INFO:synthsonic: Running sampling via ('synthsonic', \"{'proportion': 2.0, 'n_jobs': 1, 'distinct_threshold': 3, 'random_state': RandomState(MT19937) at 0x7F83E71647C0}\")\n",
      "2021-06-07 16:42:51,467:INFO:synthsonic: Running sampling via ('synthsonic', \"{'proportion': 2.0, 'n_jobs': 1, 'distinct_threshold': 3, 'random_state': RandomState(MT19937) at 0x7F83E71647C0}\")\n",
      "2021-06-07 16:42:51,467:INFO:synthsonic: Running sampling via ('synthsonic', \"{'proportion': 2.0, 'n_jobs': 1, 'distinct_threshold': 3, 'random_state': RandomState(MT19937) at 0x7F83E71647C0}\")\n",
      "n_quantiles (500) is greater than the total number of samples (29). n_quantiles is set to num samples.\n"
     ]
    },
    {
     "name": "stdout",
     "output_type": "stream",
     "text": [
      "2.0\n",
      "minority class 1, min dataset (29, 7)\n"
     ]
    },
    {
     "name": "stderr",
     "output_type": "stream",
     "text": [
      "Building tree: 100%|██████████| 15/15.0 [00:00<00:00, 1312.66it/s]\n",
      "Generating for node: 0:   0%|          | 0/7 [00:00<?, ?it/s]/Users/tristenmarto/anaconda3/lib/python3.7/site-packages/pgmpy/factors/discrete/DiscreteFactor.py:522: UserWarning: Found unknown state name. Trying to switch to using all state names as state numbers\n",
      "  \"Found unknown state name. Trying to switch to using all state names as state numbers\"\n",
      "Generating for node: 3: 100%|██████████| 7/7 [00:01<00:00,  5.86it/s]\n",
      "/Users/tristenmarto/anaconda3/lib/python3.7/site-packages/sklearn/isotonic.py:71: UserWarning: Confidence interval of the Spearman correlation coefficient spans zero. Determination of ``increasing`` may be suspect.\n",
      "  warnings.warn(\"Confidence interval of the Spearman \"\n",
      "Generating for node: 0:   0%|          | 0/7 [00:00<?, ?it/s]/Users/tristenmarto/anaconda3/lib/python3.7/site-packages/pgmpy/factors/discrete/DiscreteFactor.py:522: UserWarning: Found unknown state name. Trying to switch to using all state names as state numbers\n",
      "  \"Found unknown state name. Trying to switch to using all state names as state numbers\"\n",
      "Generating for node: 3: 100%|██████████| 7/7 [00:00<00:00, 22.85it/s]\n"
     ]
    }
   ],
   "source": [
    "samples_synth = []\n",
    "\n",
    "for prop in proportions :\n",
    "    o = synthsonic(distinct_threshold=3,\n",
    "                   proportion = prop,\n",
    "                   random_state = random_state)\n",
    "    \n",
    "    print(prop)\n",
    "    x_g, y_g = o.sample(X_train,y_train)\n",
    "    \n",
    "    f_dict = {\n",
    "        'prop':prop,\n",
    "        'x_sample':x_g,\n",
    "        'y_sample':y_g\n",
    "    }\n",
    "    \n",
    "    samples_synth.append(f_dict)"
   ]
  },
  {
   "cell_type": "code",
   "execution_count": 28,
   "metadata": {},
   "outputs": [
    {
     "name": "stdout",
     "output_type": "stream",
     "text": [
      "Counter({-1: 196, 1: 70})\n"
     ]
    },
    {
     "name": "stderr",
     "output_type": "stream",
     "text": [
      "/Users/tristenmarto/anaconda3/lib/python3.7/site-packages/ipykernel_launcher.py:24: UserWarning: Matplotlib is currently using module://ipykernel.pylab.backend_inline, which is a non-GUI backend, so cannot show the figure.\n"
     ]
    },
    {
     "data": {
      "text/plain": [
       "Text(0.5, 1.0, '2 component PCA (Synthsonic 0.25 oversample)')"
      ]
     },
     "execution_count": 28,
     "metadata": {},
     "output_type": "execute_result"
    },
    {
     "data": {
      "image/png": "[encoded data removed]",
      "text/plain": [
       "<Figure size 864x504 with 1 Axes>"
      ]
     },
     "metadata": {
      "needs_background": "light"
     },
     "output_type": "display_data"
    }
   ],
   "source": [
    "# 0.25\n",
    "\n",
    "X,y = samples_synth[1]['x_sample'],samples_synth[1]['y_sample']\n",
    "\n",
    "pca_plot(X,y)\n",
    "plt.title(\"2 component PCA (Synthsonic 0.25 oversample)\")"
   ]
  },
  {
   "cell_type": "code",
   "execution_count": 29,
   "metadata": {},
   "outputs": [
    {
     "name": "stdout",
     "output_type": "stream",
     "text": [
      "Counter({-1: 196, 1: 196})\n"
     ]
    },
    {
     "name": "stderr",
     "output_type": "stream",
     "text": [
      "/Users/tristenmarto/anaconda3/lib/python3.7/site-packages/ipykernel_launcher.py:24: UserWarning: Matplotlib is currently using module://ipykernel.pylab.backend_inline, which is a non-GUI backend, so cannot show the figure.\n"
     ]
    },
    {
     "data": {
      "text/plain": [
       "Text(0.5, 1.0, '2 component PCA (Synthsonic 1 oversample)')"
      ]
     },
     "execution_count": 29,
     "metadata": {},
     "output_type": "execute_result"
    },
    {
     "data": {
      "image/png": "[encoded data removed]",
      "text/plain": [
       "<Figure size 864x504 with 1 Axes>"
      ]
     },
     "metadata": {
      "needs_background": "light"
     },
     "output_type": "display_data"
    }
   ],
   "source": [
    "# 1\n",
    "\n",
    "X,y = samples_synth[4]['x_sample'],samples_synth[4]['y_sample']\n",
    "\n",
    "pca_plot(X,y)\n",
    "plt.title(\"2 component PCA (Synthsonic 1 oversample)\")"
   ]
  },
  {
   "cell_type": "code",
   "execution_count": 30,
   "metadata": {},
   "outputs": [
    {
     "name": "stdout",
     "output_type": "stream",
     "text": [
      "Counter({1: 363, -1: 196})\n"
     ]
    },
    {
     "name": "stderr",
     "output_type": "stream",
     "text": [
      "/Users/tristenmarto/anaconda3/lib/python3.7/site-packages/ipykernel_launcher.py:24: UserWarning: Matplotlib is currently using module://ipykernel.pylab.backend_inline, which is a non-GUI backend, so cannot show the figure.\n"
     ]
    },
    {
     "data": {
      "text/plain": [
       "Text(0.5, 1.0, '2 component PCA (Synthsonic x2 oversample)')"
      ]
     },
     "execution_count": 30,
     "metadata": {},
     "output_type": "execute_result"
    },
    {
     "data": {
      "image/png": "[encoded data removed]",
      "text/plain": [
       "<Figure size 864x504 with 1 Axes>"
      ]
     },
     "metadata": {
      "needs_background": "light"
     },
     "output_type": "display_data"
    }
   ],
   "source": [
    "# 2\n",
    "\n",
    "X,y = samples_synth[-1]['x_sample'],samples_synth[-1]['y_sample']\n",
    "\n",
    "pca_plot(X,y)\n",
    "plt.title(\"2 component PCA (Synthsonic x2 oversample)\")"
   ]
  },
  {
   "cell_type": "code",
   "execution_count": 31,
   "metadata": {},
   "outputs": [
    {
     "data": {
      "text/html": [
       "<div>\n",
       "<style scoped>\n",
       "    .dataframe tbody tr th:only-of-type {\n",
       "        vertical-align: middle;\n",
       "    }\n",
       "\n",
       "    .dataframe tbody tr th {\n",
       "        vertical-align: top;\n",
       "    }\n",
       "\n",
       "    .dataframe thead th {\n",
       "        text-align: right;\n",
       "    }\n",
       "</style>\n",
       "<table border=\"1\" class=\"dataframe\">\n",
       "  <thead>\n",
       "    <tr style=\"text-align: right;\">\n",
       "      <th></th>\n",
       "      <th>title</th>\n",
       "      <th>accuracy</th>\n",
       "      <th>balanced acc</th>\n",
       "      <th>precision</th>\n",
       "      <th>recall</th>\n",
       "      <th>roc_auc_score</th>\n",
       "      <th>f1_score</th>\n",
       "      <th>geometric mean</th>\n",
       "    </tr>\n",
       "  </thead>\n",
       "  <tbody>\n",
       "    <tr>\n",
       "      <th>0</th>\n",
       "      <td>No SMOTE</td>\n",
       "      <td>0.900901</td>\n",
       "      <td>0.790476</td>\n",
       "      <td>0.307692</td>\n",
       "      <td>0.666667</td>\n",
       "      <td>0.790476</td>\n",
       "      <td>0.421053</td>\n",
       "      <td>0.780720</td>\n",
       "    </tr>\n",
       "    <tr>\n",
       "      <th>1</th>\n",
       "      <td>SMOTE oversampling 0.25</td>\n",
       "      <td>0.891892</td>\n",
       "      <td>0.628571</td>\n",
       "      <td>0.200000</td>\n",
       "      <td>0.333333</td>\n",
       "      <td>0.628571</td>\n",
       "      <td>0.250000</td>\n",
       "      <td>0.554920</td>\n",
       "    </tr>\n",
       "    <tr>\n",
       "      <th>2</th>\n",
       "      <td>SMOTE oversampling 0.75</td>\n",
       "      <td>0.864865</td>\n",
       "      <td>0.614286</td>\n",
       "      <td>0.153846</td>\n",
       "      <td>0.333333</td>\n",
       "      <td>0.614286</td>\n",
       "      <td>0.210526</td>\n",
       "      <td>0.546272</td>\n",
       "    </tr>\n",
       "    <tr>\n",
       "      <th>3</th>\n",
       "      <td>Synthsonic oversampling 0.25</td>\n",
       "      <td>0.927928</td>\n",
       "      <td>0.804762</td>\n",
       "      <td>0.400000</td>\n",
       "      <td>0.666667</td>\n",
       "      <td>0.804762</td>\n",
       "      <td>0.500000</td>\n",
       "      <td>0.792825</td>\n",
       "    </tr>\n",
       "  </tbody>\n",
       "</table>\n",
       "</div>"
      ],
      "text/plain": [
       "                          title  accuracy  balanced acc  precision    recall  \\\n",
       "0                      No SMOTE  0.900901      0.790476   0.307692  0.666667   \n",
       "1       SMOTE oversampling 0.25  0.891892      0.628571   0.200000  0.333333   \n",
       "2       SMOTE oversampling 0.75  0.864865      0.614286   0.153846  0.333333   \n",
       "3  Synthsonic oversampling 0.25  0.927928      0.804762   0.400000  0.666667   \n",
       "\n",
       "   roc_auc_score  f1_score  geometric mean  \n",
       "0       0.790476  0.421053        0.780720  \n",
       "1       0.628571  0.250000        0.554920  \n",
       "2       0.614286  0.210526        0.546272  \n",
       "3       0.804762  0.500000        0.792825  "
      ]
     },
     "execution_count": 31,
     "metadata": {},
     "output_type": "execute_result"
    }
   ],
   "source": [
    "X,y = samples_synth[2]['x_sample'],samples_synth[2]['y_sample']\n",
    "res_025 = test_metrics(X, X_test, y, y_test, \"Synthsonic oversampling 0.25\")\n",
    "\n",
    "results = results.append(res_025, ignore_index=True)\n",
    "results"
   ]
  },
  {
   "cell_type": "code",
   "execution_count": 32,
   "metadata": {},
   "outputs": [
    {
     "data": {
      "text/html": [
       "<div>\n",
       "<style scoped>\n",
       "    .dataframe tbody tr th:only-of-type {\n",
       "        vertical-align: middle;\n",
       "    }\n",
       "\n",
       "    .dataframe tbody tr th {\n",
       "        vertical-align: top;\n",
       "    }\n",
       "\n",
       "    .dataframe thead th {\n",
       "        text-align: right;\n",
       "    }\n",
       "</style>\n",
       "<table border=\"1\" class=\"dataframe\">\n",
       "  <thead>\n",
       "    <tr style=\"text-align: right;\">\n",
       "      <th></th>\n",
       "      <th>title</th>\n",
       "      <th>accuracy</th>\n",
       "      <th>balanced acc</th>\n",
       "      <th>precision</th>\n",
       "      <th>recall</th>\n",
       "      <th>roc_auc_score</th>\n",
       "      <th>f1_score</th>\n",
       "      <th>geometric mean</th>\n",
       "    </tr>\n",
       "  </thead>\n",
       "  <tbody>\n",
       "    <tr>\n",
       "      <th>0</th>\n",
       "      <td>No SMOTE</td>\n",
       "      <td>0.900901</td>\n",
       "      <td>0.790476</td>\n",
       "      <td>0.307692</td>\n",
       "      <td>0.666667</td>\n",
       "      <td>0.790476</td>\n",
       "      <td>0.421053</td>\n",
       "      <td>0.780720</td>\n",
       "    </tr>\n",
       "    <tr>\n",
       "      <th>1</th>\n",
       "      <td>SMOTE oversampling 0.25</td>\n",
       "      <td>0.891892</td>\n",
       "      <td>0.628571</td>\n",
       "      <td>0.200000</td>\n",
       "      <td>0.333333</td>\n",
       "      <td>0.628571</td>\n",
       "      <td>0.250000</td>\n",
       "      <td>0.554920</td>\n",
       "    </tr>\n",
       "    <tr>\n",
       "      <th>2</th>\n",
       "      <td>SMOTE oversampling 0.75</td>\n",
       "      <td>0.864865</td>\n",
       "      <td>0.614286</td>\n",
       "      <td>0.153846</td>\n",
       "      <td>0.333333</td>\n",
       "      <td>0.614286</td>\n",
       "      <td>0.210526</td>\n",
       "      <td>0.546272</td>\n",
       "    </tr>\n",
       "    <tr>\n",
       "      <th>3</th>\n",
       "      <td>Synthsonic oversampling 0.25</td>\n",
       "      <td>0.927928</td>\n",
       "      <td>0.804762</td>\n",
       "      <td>0.400000</td>\n",
       "      <td>0.666667</td>\n",
       "      <td>0.804762</td>\n",
       "      <td>0.500000</td>\n",
       "      <td>0.792825</td>\n",
       "    </tr>\n",
       "    <tr>\n",
       "      <th>4</th>\n",
       "      <td>Synthsonic oversampling 1</td>\n",
       "      <td>0.927928</td>\n",
       "      <td>0.726190</td>\n",
       "      <td>0.375000</td>\n",
       "      <td>0.500000</td>\n",
       "      <td>0.726190</td>\n",
       "      <td>0.428571</td>\n",
       "      <td>0.690066</td>\n",
       "    </tr>\n",
       "  </tbody>\n",
       "</table>\n",
       "</div>"
      ],
      "text/plain": [
       "                          title  accuracy  balanced acc  precision    recall  \\\n",
       "0                      No SMOTE  0.900901      0.790476   0.307692  0.666667   \n",
       "1       SMOTE oversampling 0.25  0.891892      0.628571   0.200000  0.333333   \n",
       "2       SMOTE oversampling 0.75  0.864865      0.614286   0.153846  0.333333   \n",
       "3  Synthsonic oversampling 0.25  0.927928      0.804762   0.400000  0.666667   \n",
       "4     Synthsonic oversampling 1  0.927928      0.726190   0.375000  0.500000   \n",
       "\n",
       "   roc_auc_score  f1_score  geometric mean  \n",
       "0       0.790476  0.421053        0.780720  \n",
       "1       0.628571  0.250000        0.554920  \n",
       "2       0.614286  0.210526        0.546272  \n",
       "3       0.804762  0.500000        0.792825  \n",
       "4       0.726190  0.428571        0.690066  "
      ]
     },
     "execution_count": 32,
     "metadata": {},
     "output_type": "execute_result"
    }
   ],
   "source": [
    "X,y = samples_synth[4]['x_sample'],samples_synth[4]['y_sample']\n",
    "res_1 = test_metrics(X, X_test, y, y_test, \"Synthsonic oversampling 1\")\n",
    "\n",
    "results = results.append(res_1, ignore_index=True)\n",
    "results"
   ]
  },
  {
   "cell_type": "code",
   "execution_count": 33,
   "metadata": {},
   "outputs": [
    {
     "data": {
      "text/html": [
       "<div>\n",
       "<style scoped>\n",
       "    .dataframe tbody tr th:only-of-type {\n",
       "        vertical-align: middle;\n",
       "    }\n",
       "\n",
       "    .dataframe tbody tr th {\n",
       "        vertical-align: top;\n",
       "    }\n",
       "\n",
       "    .dataframe thead th {\n",
       "        text-align: right;\n",
       "    }\n",
       "</style>\n",
       "<table border=\"1\" class=\"dataframe\">\n",
       "  <thead>\n",
       "    <tr style=\"text-align: right;\">\n",
       "      <th></th>\n",
       "      <th>title</th>\n",
       "      <th>accuracy</th>\n",
       "      <th>balanced acc</th>\n",
       "      <th>precision</th>\n",
       "      <th>recall</th>\n",
       "      <th>roc_auc_score</th>\n",
       "      <th>f1_score</th>\n",
       "      <th>geometric mean</th>\n",
       "    </tr>\n",
       "  </thead>\n",
       "  <tbody>\n",
       "    <tr>\n",
       "      <th>0</th>\n",
       "      <td>No SMOTE</td>\n",
       "      <td>0.900901</td>\n",
       "      <td>0.790476</td>\n",
       "      <td>0.307692</td>\n",
       "      <td>0.666667</td>\n",
       "      <td>0.790476</td>\n",
       "      <td>0.421053</td>\n",
       "      <td>0.780720</td>\n",
       "    </tr>\n",
       "    <tr>\n",
       "      <th>1</th>\n",
       "      <td>SMOTE oversampling 0.25</td>\n",
       "      <td>0.891892</td>\n",
       "      <td>0.628571</td>\n",
       "      <td>0.200000</td>\n",
       "      <td>0.333333</td>\n",
       "      <td>0.628571</td>\n",
       "      <td>0.250000</td>\n",
       "      <td>0.554920</td>\n",
       "    </tr>\n",
       "    <tr>\n",
       "      <th>2</th>\n",
       "      <td>SMOTE oversampling 0.75</td>\n",
       "      <td>0.864865</td>\n",
       "      <td>0.614286</td>\n",
       "      <td>0.153846</td>\n",
       "      <td>0.333333</td>\n",
       "      <td>0.614286</td>\n",
       "      <td>0.210526</td>\n",
       "      <td>0.546272</td>\n",
       "    </tr>\n",
       "    <tr>\n",
       "      <th>3</th>\n",
       "      <td>Synthsonic oversampling 0.25</td>\n",
       "      <td>0.927928</td>\n",
       "      <td>0.804762</td>\n",
       "      <td>0.400000</td>\n",
       "      <td>0.666667</td>\n",
       "      <td>0.804762</td>\n",
       "      <td>0.500000</td>\n",
       "      <td>0.792825</td>\n",
       "    </tr>\n",
       "    <tr>\n",
       "      <th>4</th>\n",
       "      <td>Synthsonic oversampling 1</td>\n",
       "      <td>0.927928</td>\n",
       "      <td>0.726190</td>\n",
       "      <td>0.375000</td>\n",
       "      <td>0.500000</td>\n",
       "      <td>0.726190</td>\n",
       "      <td>0.428571</td>\n",
       "      <td>0.690066</td>\n",
       "    </tr>\n",
       "    <tr>\n",
       "      <th>5</th>\n",
       "      <td>Synthsonic oversampling 2</td>\n",
       "      <td>0.927928</td>\n",
       "      <td>0.961905</td>\n",
       "      <td>0.428571</td>\n",
       "      <td>1.000000</td>\n",
       "      <td>0.961905</td>\n",
       "      <td>0.600000</td>\n",
       "      <td>0.961150</td>\n",
       "    </tr>\n",
       "  </tbody>\n",
       "</table>\n",
       "</div>"
      ],
      "text/plain": [
       "                          title  accuracy  balanced acc  precision    recall  \\\n",
       "0                      No SMOTE  0.900901      0.790476   0.307692  0.666667   \n",
       "1       SMOTE oversampling 0.25  0.891892      0.628571   0.200000  0.333333   \n",
       "2       SMOTE oversampling 0.75  0.864865      0.614286   0.153846  0.333333   \n",
       "3  Synthsonic oversampling 0.25  0.927928      0.804762   0.400000  0.666667   \n",
       "4     Synthsonic oversampling 1  0.927928      0.726190   0.375000  0.500000   \n",
       "5     Synthsonic oversampling 2  0.927928      0.961905   0.428571  1.000000   \n",
       "\n",
       "   roc_auc_score  f1_score  geometric mean  \n",
       "0       0.790476  0.421053        0.780720  \n",
       "1       0.628571  0.250000        0.554920  \n",
       "2       0.614286  0.210526        0.546272  \n",
       "3       0.804762  0.500000        0.792825  \n",
       "4       0.726190  0.428571        0.690066  \n",
       "5       0.961905  0.600000        0.961150  "
      ]
     },
     "execution_count": 33,
     "metadata": {},
     "output_type": "execute_result"
    }
   ],
   "source": [
    "X,y = samples_synth[6]['x_sample'],samples_synth[6]['y_sample']\n",
    "res_2 = test_metrics(X, X_test, y, y_test, \"Synthsonic oversampling 2\")\n",
    "\n",
    "results = results.append(res_2, ignore_index=True)\n",
    "results"
   ]
  },
  {
   "cell_type": "code",
   "execution_count": null,
   "metadata": {},
   "outputs": [],
   "source": []
  }
 ],
 "metadata": {
  "kernelspec": {
   "display_name": "Python 3",
   "language": "python",
   "name": "python3"
  },
  "language_info": {
   "codemirror_mode": {
    "name": "ipython",
    "version": 3
   },
   "file_extension": ".py",
   "mimetype": "text/x-python",
   "name": "python",
   "nbconvert_exporter": "python",
   "pygments_lexer": "ipython3",
   "version": "3.7.6"
  }
 },
 "nbformat": 4,
 "nbformat_minor": 4
}
