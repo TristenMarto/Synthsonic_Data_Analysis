{
 "cells": [
  {
   "cell_type": "code",
   "execution_count": 1,
   "metadata": {},
   "outputs": [],
   "source": [
    "from sklearn import preprocessing\n",
    "le = preprocessing.LabelEncoder()\n",
    "random_state=4\n",
    "import pandas as pd\n",
    "from Evaluation import synthsonic, writetodict, plotter, plot_oversampling, evaluate_oversamplers\n",
    "import smote_variants as sv\n",
    "from sklearn.tree import DecisionTreeClassifier"
   ]
  },
  {
   "cell_type": "code",
   "execution_count": 10,
   "metadata": {},
   "outputs": [],
   "source": [
    "path = \"/Users/tristenmarto/Documents/Studie/Thesis/Synthsonic_data_analysis/Datasets/\"\n",
    "\n",
    "data = pd.read_csv(path+\"train.csv\",index_col=0)"
   ]
  },
  {
   "cell_type": "code",
   "execution_count": 15,
   "metadata": {},
   "outputs": [
    {
     "name": "stdout",
     "output_type": "stream",
     "text": [
      "(595212, 57)\n"
     ]
    },
    {
     "data": {
      "text/plain": [
       "array([[ 2.,  2.,  5., ...,  0.,  0.,  1.],\n",
       "       [ 1.,  1.,  7., ...,  0.,  1.,  0.],\n",
       "       [ 5.,  4.,  9., ...,  0.,  1.,  0.],\n",
       "       ...,\n",
       "       [ 1.,  1., 10., ...,  0.,  0.,  0.],\n",
       "       [ 5.,  2.,  3., ...,  1.,  0.,  0.],\n",
       "       [ 0.,  1.,  8., ...,  0.,  0.,  0.]])"
      ]
     },
     "execution_count": 15,
     "metadata": {},
     "output_type": "execute_result"
    }
   ],
   "source": [
    "y = data['target'].values\n",
    "X = data.drop(columns=['target']).values\n",
    "print(X.shape)\n",
    "X"
   ]
  },
  {
   "cell_type": "code",
   "execution_count": 17,
   "metadata": {},
   "outputs": [],
   "source": [
    "data_dict = writetodict(data, 'porto_seguro')\n",
    "X,y,name = data_dict['data'],data_dict['target'],data_dict['name']"
   ]
  },
  {
   "cell_type": "code",
   "execution_count": 18,
   "metadata": {},
   "outputs": [
    {
     "data": {
      "image/png": "[encoded data removed]",
      "text/plain": [
       "<Figure size 432x288 with 1 Axes>"
      ]
     },
     "metadata": {
      "needs_background": "light"
     },
     "output_type": "display_data"
    },
    {
     "name": "stdout",
     "output_type": "stream",
     "text": [
      "Counter({0: 503955, 1: 91257})\n"
     ]
    }
   ],
   "source": []
  },
  {
   "cell_type": "code",
   "execution_count": 19,
   "metadata": {},
   "outputs": [],
   "source": [
    "datasets = [data_dict]\n",
    "oversamplers = [sv.NoSMOTE, sv.SMOTE, sv.NT_SMOTE, sv.SMOTE_D, synthsonic]\n",
    "classifier = DecisionTreeClassifier(random_state=random_state)\n",
    "random_state = random_state"
   ]
  },
  {
   "cell_type": "code",
   "execution_count": 20,
   "metadata": {},
   "outputs": [
    {
     "name": "stderr",
     "output_type": "stream",
     "text": [
      "2021-06-03 14:53:19,686:INFO:NoSMOTE: Running sampling via ('NoSMOTE', '{}')\n",
      "2021-06-03 14:53:19,686:INFO:NoSMOTE: Running sampling via ('NoSMOTE', '{}')\n"
     ]
    },
    {
     "name": "stdout",
     "output_type": "stream",
     "text": [
      "('NoSMOTE', '{}')\n"
     ]
    },
    {
     "name": "stderr",
     "output_type": "stream",
     "text": [
      "2021-06-03 14:53:36,573:INFO:SMOTE: Running sampling via ('SMOTE', \"{'proportion': 1.0, 'n_neighbors': 5, 'n_jobs': 1, 'random_state': 4}\")\n",
      "2021-06-03 14:53:36,573:INFO:SMOTE: Running sampling via ('SMOTE', \"{'proportion': 1.0, 'n_neighbors': 5, 'n_jobs': 1, 'random_state': 4}\")\n"
     ]
    },
    {
     "name": "stdout",
     "output_type": "stream",
     "text": [
      "('SMOTE', \"{'proportion': 1.0, 'n_neighbors': 5, 'n_jobs': 1, 'random_state': 4}\")\n"
     ]
    },
    {
     "name": "stderr",
     "output_type": "stream",
     "text": [
      "2021-06-03 14:54:58,667:INFO:NT_SMOTE: Running sampling via ('NT_SMOTE', \"{'proportion': 1.0, 'n_jobs': 1, 'random_state': 4}\")\n",
      "2021-06-03 14:54:58,667:INFO:NT_SMOTE: Running sampling via ('NT_SMOTE', \"{'proportion': 1.0, 'n_jobs': 1, 'random_state': 4}\")\n"
     ]
    },
    {
     "name": "stdout",
     "output_type": "stream",
     "text": [
      "('NT_SMOTE', \"{'proportion': 1.0, 'n_jobs': 1, 'random_state': 4}\")\n"
     ]
    },
    {
     "name": "stderr",
     "output_type": "stream",
     "text": [
      "2021-06-03 14:56:13,769:INFO:SMOTE_D: Running sampling via ('SMOTE_D', \"{'proportion': 1.0, 'k': 3, 'n_jobs': 1, 'random_state': 4}\")\n",
      "2021-06-03 14:56:13,769:INFO:SMOTE_D: Running sampling via ('SMOTE_D', \"{'proportion': 1.0, 'k': 3, 'n_jobs': 1, 'random_state': 4}\")\n"
     ]
    },
    {
     "name": "stdout",
     "output_type": "stream",
     "text": [
      "('SMOTE_D', \"{'proportion': 1.0, 'k': 3, 'n_jobs': 1, 'random_state': 4}\")\n"
     ]
    },
    {
     "name": "stderr",
     "output_type": "stream",
     "text": [
      "2021-06-03 14:57:36,860:INFO:synthsonic: Running sampling via ('synthsonic', \"{'proportion': 1.0, 'n_jobs': 1, 'distinct_threshold': -1, 'random_state': RandomState(MT19937) at 0x7FE57BB6D270}\")\n",
      "2021-06-03 14:57:36,860:INFO:synthsonic: Running sampling via ('synthsonic', \"{'proportion': 1.0, 'n_jobs': 1, 'distinct_threshold': -1, 'random_state': RandomState(MT19937) at 0x7FE57BB6D270}\")\n"
     ]
    },
    {
     "name": "stdout",
     "output_type": "stream",
     "text": [
      "('synthsonic', \"{'proportion': 1.0, 'n_jobs': 1, 'distinct_threshold': -1, 'random_state': RandomState(MT19937) at 0x7FE57BB6D270}\")\n",
      "minority class 1, min dataset (61174, 57)\n"
     ]
    },
    {
     "name": "stderr",
     "output_type": "stream",
     "text": [
      "Building tree: 100%|██████████| 1540/1540.0 [00:03<00:00, 438.80it/s]\n",
      "Generating for node: 27: 100%|██████████| 57/57 [00:22<00:00,  2.56it/s]\n",
      "/Users/tristenmarto/anaconda3/lib/python3.7/site-packages/synthsonic-0.1.0-py3.7.egg/synthsonic/models/kde_copula_nn_pdf.py:544: RuntimeWarning: divide by zero encountered in true_divide\n",
      "  self.max_weight_ = max_p1f / (1. - max_p1f)\n",
      "Generating for node: 27: 100%|██████████| 57/57 [00:21<00:00,  2.63it/s]\n"
     ]
    }
   ],
   "source": [
    "results = evaluate_oversamplers(datasets, oversamplers, classifier, random_state)"
   ]
  },
  {
   "cell_type": "code",
   "execution_count": 21,
   "metadata": {},
   "outputs": [
    {
     "data": {
      "text/html": [
       "<div>\n",
       "<style scoped>\n",
       "    .dataframe tbody tr th:only-of-type {\n",
       "        vertical-align: middle;\n",
       "    }\n",
       "\n",
       "    .dataframe tbody tr th {\n",
       "        vertical-align: top;\n",
       "    }\n",
       "\n",
       "    .dataframe thead th {\n",
       "        text-align: right;\n",
       "    }\n",
       "</style>\n",
       "<table border=\"1\" class=\"dataframe\">\n",
       "  <thead>\n",
       "    <tr style=\"text-align: right;\">\n",
       "      <th></th>\n",
       "      <th>dataset</th>\n",
       "      <th>sampler</th>\n",
       "      <th>clf_score</th>\n",
       "      <th>recall</th>\n",
       "      <th>roc_auc_score</th>\n",
       "      <th>f1_score</th>\n",
       "      <th>brier_score_loss</th>\n",
       "      <th>runtime</th>\n",
       "    </tr>\n",
       "  </thead>\n",
       "  <tbody>\n",
       "    <tr>\n",
       "      <th>0</th>\n",
       "      <td>porto_seguro</td>\n",
       "      <td>NoSMOTE</td>\n",
       "      <td>0.723577</td>\n",
       "      <td>0.178074</td>\n",
       "      <td>0.500154</td>\n",
       "      <td>0.164808</td>\n",
       "      <td>0.276423</td>\n",
       "      <td>0.123067</td>\n",
       "    </tr>\n",
       "    <tr>\n",
       "      <th>1</th>\n",
       "      <td>porto_seguro</td>\n",
       "      <td>SMOTE</td>\n",
       "      <td>0.719423</td>\n",
       "      <td>0.175116</td>\n",
       "      <td>0.496490</td>\n",
       "      <td>0.160495</td>\n",
       "      <td>0.280577</td>\n",
       "      <td>64.229822</td>\n",
       "    </tr>\n",
       "    <tr>\n",
       "      <th>2</th>\n",
       "      <td>porto_seguro</td>\n",
       "      <td>NT_SMOTE</td>\n",
       "      <td>0.723373</td>\n",
       "      <td>0.178739</td>\n",
       "      <td>0.500306</td>\n",
       "      <td>0.165220</td>\n",
       "      <td>0.276627</td>\n",
       "      <td>58.725113</td>\n",
       "    </tr>\n",
       "    <tr>\n",
       "      <th>3</th>\n",
       "      <td>porto_seguro</td>\n",
       "      <td>SMOTE_D</td>\n",
       "      <td>0.722009</td>\n",
       "      <td>0.179636</td>\n",
       "      <td>0.499868</td>\n",
       "      <td>0.165232</td>\n",
       "      <td>0.277991</td>\n",
       "      <td>61.807080</td>\n",
       "    </tr>\n",
       "    <tr>\n",
       "      <th>4</th>\n",
       "      <td>porto_seguro</td>\n",
       "      <td>synthsonic</td>\n",
       "      <td>0.724086</td>\n",
       "      <td>0.184789</td>\n",
       "      <td>0.503205</td>\n",
       "      <td>0.170226</td>\n",
       "      <td>0.275914</td>\n",
       "      <td>144.560490</td>\n",
       "    </tr>\n",
       "  </tbody>\n",
       "</table>\n",
       "</div>"
      ],
      "text/plain": [
       "        dataset     sampler  clf_score    recall  roc_auc_score  f1_score  \\\n",
       "0  porto_seguro     NoSMOTE   0.723577  0.178074       0.500154  0.164808   \n",
       "1  porto_seguro       SMOTE   0.719423  0.175116       0.496490  0.160495   \n",
       "2  porto_seguro    NT_SMOTE   0.723373  0.178739       0.500306  0.165220   \n",
       "3  porto_seguro     SMOTE_D   0.722009  0.179636       0.499868  0.165232   \n",
       "4  porto_seguro  synthsonic   0.724086  0.184789       0.503205  0.170226   \n",
       "\n",
       "   brier_score_loss     runtime  \n",
       "0          0.276423    0.123067  \n",
       "1          0.280577   64.229822  \n",
       "2          0.276627   58.725113  \n",
       "3          0.277991   61.807080  \n",
       "4          0.275914  144.560490  "
      ]
     },
     "execution_count": 21,
     "metadata": {},
     "output_type": "execute_result"
    }
   ],
   "source": [
    "resultdf = pd.DataFrame(results)\n",
    "resultdf"
   ]
  },
  {
   "cell_type": "code",
   "execution_count": null,
   "metadata": {},
   "outputs": [],
   "source": []
  }
 ],
 "metadata": {
  "kernelspec": {
   "display_name": "Python 3",
   "language": "python",
   "name": "python3"
  },
  "language_info": {
   "codemirror_mode": {
    "name": "ipython",
    "version": 3
   },
   "file_extension": ".py",
   "mimetype": "text/x-python",
   "name": "python",
   "nbconvert_exporter": "python",
   "pygments_lexer": "ipython3",
   "version": "3.7.6"
  }
 },
 "nbformat": 4,
 "nbformat_minor": 4
}
