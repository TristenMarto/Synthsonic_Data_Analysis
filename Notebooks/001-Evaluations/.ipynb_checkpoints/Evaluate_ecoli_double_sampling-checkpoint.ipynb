{
 "cells": [
  {
   "cell_type": "code",
   "execution_count": 1,
   "metadata": {},
   "outputs": [],
   "source": [
    "import sys\n",
    "\n",
    "sys.path.append('/Users/tristenmarto/Documents/Studie/Thesis/Synthsonic_data_analysis')"
   ]
  },
  {
   "cell_type": "code",
   "execution_count": 17,
   "metadata": {},
   "outputs": [],
   "source": [
    "import pandas as pd\n",
    "import numpy as np\n",
    "import matplotlib.pyplot as plt\n",
    "\n",
    "import logging\n",
    "\n",
    "from collections import Counter\n",
    "\n",
    "import xgboost as xgb\n",
    "\n",
    "from imblearn.datasets import fetch_datasets\n",
    "\n",
    "from Evaluation import synthsonic\n",
    "\n",
    "from sklearn.preprocessing import StandardScaler, LabelEncoder\n",
    "from sklearn.decomposition import PCA\n",
    "\n",
    "from sklearn.tree import DecisionTreeClassifier\n",
    "from sklearn.svm import SVC\n",
    "from sklearn.neighbors import KNeighborsClassifier\n",
    "\n",
    "import smote_variants as sv"
   ]
  },
  {
   "cell_type": "code",
   "execution_count": 3,
   "metadata": {},
   "outputs": [],
   "source": [
    "# metrics \n",
    "from imblearn.metrics import geometric_mean_score, classification_report_imbalanced\n",
    "\n",
    "from sklearn.model_selection import cross_validate, train_test_split\n",
    "from sklearn.metrics import (recall_score, roc_auc_score, confusion_matrix, precision_score, precision_recall_curve,\n",
    "                             f1_score, balanced_accuracy_score, accuracy_score, average_precision_score)"
   ]
  },
  {
   "cell_type": "code",
   "execution_count": 4,
   "metadata": {},
   "outputs": [],
   "source": [
    "_logger = logging.getLogger('smote_variants')\n",
    "_logger.setLevel(logging.DEBUG)\n",
    "_logger_ch = logging.StreamHandler()\n",
    "_logger_ch.setFormatter(logging.Formatter(\n",
    "    \"%(asctime)s:%(levelname)s:%(message)s\"))\n",
    "_logger.addHandler(_logger_ch)"
   ]
  },
  {
   "cell_type": "code",
   "execution_count": 5,
   "metadata": {},
   "outputs": [],
   "source": [
    "random_state = 5"
   ]
  },
  {
   "cell_type": "markdown",
   "metadata": {},
   "source": [
    "# data checks"
   ]
  },
  {
   "cell_type": "code",
   "execution_count": 6,
   "metadata": {},
   "outputs": [],
   "source": [
    "# loading imblearn dataset\n",
    "\n",
    "data = fetch_datasets()['ecoli']\n",
    "\n",
    "X,y, name = data['data'], data['target'], data['DESCR']"
   ]
  },
  {
   "cell_type": "code",
   "execution_count": 7,
   "metadata": {},
   "outputs": [],
   "source": [
    "def pca_plot(X,y) :\n",
    "    \n",
    "    x = StandardScaler().fit_transform(X)\n",
    "\n",
    "    pca = PCA(n_components=2)\n",
    "    principalComponents = pca.fit_transform(x)\n",
    "    principalDf = pd.DataFrame(data = principalComponents\n",
    "                 , columns = ['principal component 1', 'principal component 2'])\n",
    "    \n",
    "    fig = plt.figure(figsize = (12,7))\n",
    "    ax = fig.add_subplot(1,1,1) \n",
    "    ax.set_xlabel('Principal Component 1')\n",
    "    ax.set_ylabel('Principal Component 2')\n",
    "    ax.set_title(f'2 component PCA')\n",
    "\n",
    "    counter = Counter(y)\n",
    "\n",
    "    for label, _ in counter.items() :\n",
    "        rowix = np.where(y == label)[0]\n",
    "        ax.scatter(principalComponents[rowix, 0], principalComponents[rowix, 1], label=str(label))\n",
    "\n",
    "    ax.legend()\n",
    "\n",
    "    fig.show()\n",
    "    print(counter)"
   ]
  },
  {
   "cell_type": "code",
   "execution_count": 8,
   "metadata": {},
   "outputs": [
    {
     "name": "stdout",
     "output_type": "stream",
     "text": [
      "Counter({-1: 301, 1: 35})\n"
     ]
    },
    {
     "name": "stderr",
     "output_type": "stream",
     "text": [
      "/Users/tristenmarto/anaconda3/lib/python3.7/site-packages/ipykernel_launcher.py:24: UserWarning: Matplotlib is currently using module://ipykernel.pylab.backend_inline, which is a non-GUI backend, so cannot show the figure.\n"
     ]
    },
    {
     "data": {
      "image/png": "[encoded data removed]",
      "text/plain": [
       "<Figure size 864x504 with 1 Axes>"
      ]
     },
     "metadata": {
      "needs_background": "light"
     },
     "output_type": "display_data"
    }
   ],
   "source": [
    "pca_plot(X,y)"
   ]
  },
  {
   "cell_type": "code",
   "execution_count": 9,
   "metadata": {
    "scrolled": false
   },
   "outputs": [
    {
     "name": "stdout",
     "output_type": "stream",
     "text": [
      "0 78\n",
      "1 63\n",
      "2 2\n",
      "3 2\n",
      "4 59\n",
      "5 82\n",
      "6 77\n"
     ]
    }
   ],
   "source": [
    "for i in range(X.shape[1]) :\n",
    "    print(i, len(np.unique(X[:,i])))"
   ]
  },
  {
   "cell_type": "markdown",
   "metadata": {},
   "source": [
    "# Evaluation - base scenario"
   ]
  },
  {
   "cell_type": "code",
   "execution_count": 37,
   "metadata": {},
   "outputs": [],
   "source": [
    "def test_metrics(training, testing, y_training, y_testing, clf, title) :\n",
    "    \n",
    "    clf.fit(training,y_training)\n",
    "    prediction = clf.predict(testing)\n",
    "    proba = clf.predict_proba(testing)[:,1]\n",
    "\n",
    "    f_dict = {\n",
    "        'title': title,\n",
    "        'balanced acc': balanced_accuracy_score(y_testing,prediction),\n",
    "        'precision': precision_score(y_testing,prediction),\n",
    "        'recall': recall_score(y_testing,prediction),\n",
    "        'f1_score': f1_score(y_testing, prediction, average='binary'),\n",
    "        'geometric mean': geometric_mean_score(y_testing, prediction),\n",
    "        'average precision': average_precision_score(y_testing, prediction)\n",
    "    }\n",
    "\n",
    "    return f_dict"
   ]
  },
  {
   "cell_type": "code",
   "execution_count": 15,
   "metadata": {},
   "outputs": [],
   "source": [
    "# base case\n",
    "X_train, X_test, y_train, y_test = train_test_split(X, y, test_size=0.4, random_state = random_state)"
   ]
  },
  {
   "cell_type": "code",
   "execution_count": 16,
   "metadata": {},
   "outputs": [
    {
     "data": {
      "text/plain": [
       "((201, 7), (135, 7))"
      ]
     },
     "execution_count": 16,
     "metadata": {},
     "output_type": "execute_result"
    }
   ],
   "source": [
    "X_train.shape, X_test.shape"
   ]
  },
  {
   "cell_type": "code",
   "execution_count": 38,
   "metadata": {},
   "outputs": [
    {
     "name": "stderr",
     "output_type": "stream",
     "text": [
      "/Users/tristenmarto/anaconda3/lib/python3.7/site-packages/xgboost/sklearn.py:888: UserWarning: The use of label encoder in XGBClassifier is deprecated and will be removed in a future release. To remove this warning, do the following: 1) Pass option use_label_encoder=False when constructing XGBClassifier object; and 2) Encode your labels (y) as integers starting with 0, i.e. 0, 1, 2, ..., [num_class - 1].\n",
      "  warnings.warn(label_encoder_deprecation_msg, UserWarning)\n",
      "/Users/tristenmarto/anaconda3/lib/python3.7/site-packages/xgboost/sklearn.py:888: UserWarning: The use of label encoder in XGBClassifier is deprecated and will be removed in a future release. To remove this warning, do the following: 1) Pass option use_label_encoder=False when constructing XGBClassifier object; and 2) Encode your labels (y) as integers starting with 0, i.e. 0, 1, 2, ..., [num_class - 1].\n",
      "  warnings.warn(label_encoder_deprecation_msg, UserWarning)\n",
      "/Users/tristenmarto/anaconda3/lib/python3.7/site-packages/xgboost/sklearn.py:888: UserWarning: The use of label encoder in XGBClassifier is deprecated and will be removed in a future release. To remove this warning, do the following: 1) Pass option use_label_encoder=False when constructing XGBClassifier object; and 2) Encode your labels (y) as integers starting with 0, i.e. 0, 1, 2, ..., [num_class - 1].\n",
      "  warnings.warn(label_encoder_deprecation_msg, UserWarning)\n",
      "/Users/tristenmarto/anaconda3/lib/python3.7/site-packages/xgboost/sklearn.py:888: UserWarning: The use of label encoder in XGBClassifier is deprecated and will be removed in a future release. To remove this warning, do the following: 1) Pass option use_label_encoder=False when constructing XGBClassifier object; and 2) Encode your labels (y) as integers starting with 0, i.e. 0, 1, 2, ..., [num_class - 1].\n",
      "  warnings.warn(label_encoder_deprecation_msg, UserWarning)\n",
      "/Users/tristenmarto/anaconda3/lib/python3.7/site-packages/xgboost/sklearn.py:888: UserWarning: The use of label encoder in XGBClassifier is deprecated and will be removed in a future release. To remove this warning, do the following: 1) Pass option use_label_encoder=False when constructing XGBClassifier object; and 2) Encode your labels (y) as integers starting with 0, i.e. 0, 1, 2, ..., [num_class - 1].\n",
      "  warnings.warn(label_encoder_deprecation_msg, UserWarning)\n"
     ]
    }
   ],
   "source": [
    "clf = xgb.XGBClassifier(verbosity = 0, random_state=random_state)\n",
    "\n",
    "cv_result = cross_validate(clf, X_train, y_train, scoring=[\n",
    "                                                           \"balanced_accuracy\",\n",
    "                                                           \"precision\",\n",
    "                                                           \"recall\",\n",
    "                                                           \"roc_auc_ovr_weighted\",\n",
    "                                                           \"f1\",\n",
    "                                                           \"average_precision\"\n",
    "                                                           ])"
   ]
  },
  {
   "cell_type": "code",
   "execution_count": 19,
   "metadata": {},
   "outputs": [
    {
     "name": "stdout",
     "output_type": "stream",
     "text": [
      "fit_time 0.03664836883544922\n",
      "score_time 0.00497746467590332\n",
      "test_balanced_accuracy 0.8137254901960784\n",
      "test_precision 0.7028571428571428\n",
      "test_recall 0.6733333333333333\n",
      "test_roc_auc_ovr_weighted 0.9192268907563026\n",
      "test_f1 0.6745454545454544\n",
      "test_average_precision 0.7221741221741221\n"
     ]
    }
   ],
   "source": [
    "for key, data in cv_result.items() :\n",
    "    print(key, data.mean())"
   ]
  },
  {
   "cell_type": "code",
   "execution_count": 39,
   "metadata": {},
   "outputs": [
    {
     "name": "stderr",
     "output_type": "stream",
     "text": [
      "/Users/tristenmarto/anaconda3/lib/python3.7/site-packages/xgboost/sklearn.py:888: UserWarning: The use of label encoder in XGBClassifier is deprecated and will be removed in a future release. To remove this warning, do the following: 1) Pass option use_label_encoder=False when constructing XGBClassifier object; and 2) Encode your labels (y) as integers starting with 0, i.e. 0, 1, 2, ..., [num_class - 1].\n",
      "  warnings.warn(label_encoder_deprecation_msg, UserWarning)\n"
     ]
    },
    {
     "data": {
      "text/plain": [
       "{'title': 'XGBoost: No SMOTE',\n",
       " 'balanced acc': 0.7810039370078741,\n",
       " 'precision': 0.38461538461538464,\n",
       " 'recall': 0.625,\n",
       " 'f1_score': 0.4761904761904762,\n",
       " 'geometric mean': 0.7652646086549688,\n",
       " 'average precision': 0.2626068376068376}"
      ]
     },
     "execution_count": 39,
     "metadata": {},
     "output_type": "execute_result"
    }
   ],
   "source": [
    "res_standard = test_metrics(X_train,X_test,y_train,y_test, clf, \"XGBoost: No SMOTE\")\n",
    "res_standard"
   ]
  },
  {
   "cell_type": "code",
   "execution_count": 40,
   "metadata": {},
   "outputs": [
    {
     "data": {
      "text/plain": [
       "array([[119,   8],\n",
       "       [  3,   5]])"
      ]
     },
     "execution_count": 40,
     "metadata": {},
     "output_type": "execute_result"
    }
   ],
   "source": [
    "clf.fit(X_train,y_train)\n",
    "\n",
    "prediction = clf.predict(X_test)\n",
    "\n",
    "confusion_matrix(y_test,prediction)"
   ]
  },
  {
   "cell_type": "code",
   "execution_count": 41,
   "metadata": {},
   "outputs": [
    {
     "data": {
      "text/html": [
       "<div>\n",
       "<style scoped>\n",
       "    .dataframe tbody tr th:only-of-type {\n",
       "        vertical-align: middle;\n",
       "    }\n",
       "\n",
       "    .dataframe tbody tr th {\n",
       "        vertical-align: top;\n",
       "    }\n",
       "\n",
       "    .dataframe thead th {\n",
       "        text-align: right;\n",
       "    }\n",
       "</style>\n",
       "<table border=\"1\" class=\"dataframe\">\n",
       "  <thead>\n",
       "    <tr style=\"text-align: right;\">\n",
       "      <th></th>\n",
       "      <th>title</th>\n",
       "      <th>balanced acc</th>\n",
       "      <th>precision</th>\n",
       "      <th>recall</th>\n",
       "      <th>f1_score</th>\n",
       "      <th>geometric mean</th>\n",
       "      <th>average precision</th>\n",
       "    </tr>\n",
       "  </thead>\n",
       "  <tbody>\n",
       "    <tr>\n",
       "      <th>0</th>\n",
       "      <td>XGBoost: No SMOTE</td>\n",
       "      <td>0.781004</td>\n",
       "      <td>0.384615</td>\n",
       "      <td>0.625</td>\n",
       "      <td>0.47619</td>\n",
       "      <td>0.765265</td>\n",
       "      <td>0.262607</td>\n",
       "    </tr>\n",
       "  </tbody>\n",
       "</table>\n",
       "</div>"
      ],
      "text/plain": [
       "               title  balanced acc  precision  recall  f1_score  \\\n",
       "0  XGBoost: No SMOTE      0.781004   0.384615   0.625   0.47619   \n",
       "\n",
       "   geometric mean  average precision  \n",
       "0        0.765265           0.262607  "
      ]
     },
     "execution_count": 41,
     "metadata": {},
     "output_type": "execute_result"
    }
   ],
   "source": [
    "results = pd.DataFrame(res_standard, index=[0])\n",
    "results"
   ]
  },
  {
   "cell_type": "markdown",
   "metadata": {},
   "source": [
    "# Sample generation"
   ]
  },
  {
   "cell_type": "code",
   "execution_count": 23,
   "metadata": {},
   "outputs": [],
   "source": [
    "proportions = [0.1, 0.2, 0.3, 0.4, 0.5, 0.6, 0.7, 0.8, 0.9, 1]"
   ]
  },
  {
   "cell_type": "code",
   "execution_count": 24,
   "metadata": {
    "scrolled": true
   },
   "outputs": [
    {
     "name": "stderr",
     "output_type": "stream",
     "text": [
      "2021-06-11 15:37:42,122:INFO:SMOTE: Running sampling via ('SMOTE', \"{'proportion': 0.1, 'n_neighbors': 5, 'n_jobs': 1, 'random_state': 5}\")\n",
      "2021-06-11 15:37:42,122:INFO:SMOTE: Running sampling via ('SMOTE', \"{'proportion': 0.1, 'n_neighbors': 5, 'n_jobs': 1, 'random_state': 5}\")\n",
      "2021-06-11 15:37:42,122:INFO:SMOTE: Running sampling via ('SMOTE', \"{'proportion': 0.1, 'n_neighbors': 5, 'n_jobs': 1, 'random_state': 5}\")\n",
      "2021-06-11 15:37:42,126:INFO:SMOTE: Running sampling via ('SMOTE', \"{'proportion': 0.2, 'n_neighbors': 5, 'n_jobs': 1, 'random_state': 5}\")\n",
      "2021-06-11 15:37:42,126:INFO:SMOTE: Running sampling via ('SMOTE', \"{'proportion': 0.2, 'n_neighbors': 5, 'n_jobs': 1, 'random_state': 5}\")\n",
      "2021-06-11 15:37:42,126:INFO:SMOTE: Running sampling via ('SMOTE', \"{'proportion': 0.2, 'n_neighbors': 5, 'n_jobs': 1, 'random_state': 5}\")\n",
      "2021-06-11 15:37:42,129:INFO:SMOTE: Running sampling via ('SMOTE', \"{'proportion': 0.3, 'n_neighbors': 5, 'n_jobs': 1, 'random_state': 5}\")\n",
      "2021-06-11 15:37:42,129:INFO:SMOTE: Running sampling via ('SMOTE', \"{'proportion': 0.3, 'n_neighbors': 5, 'n_jobs': 1, 'random_state': 5}\")\n",
      "2021-06-11 15:37:42,129:INFO:SMOTE: Running sampling via ('SMOTE', \"{'proportion': 0.3, 'n_neighbors': 5, 'n_jobs': 1, 'random_state': 5}\")\n",
      "2021-06-11 15:37:42,132:INFO:SMOTE: Running sampling via ('SMOTE', \"{'proportion': 0.4, 'n_neighbors': 5, 'n_jobs': 1, 'random_state': 5}\")\n",
      "2021-06-11 15:37:42,132:INFO:SMOTE: Running sampling via ('SMOTE', \"{'proportion': 0.4, 'n_neighbors': 5, 'n_jobs': 1, 'random_state': 5}\")\n",
      "2021-06-11 15:37:42,132:INFO:SMOTE: Running sampling via ('SMOTE', \"{'proportion': 0.4, 'n_neighbors': 5, 'n_jobs': 1, 'random_state': 5}\")\n",
      "2021-06-11 15:37:42,136:INFO:SMOTE: Running sampling via ('SMOTE', \"{'proportion': 0.5, 'n_neighbors': 5, 'n_jobs': 1, 'random_state': 5}\")\n",
      "2021-06-11 15:37:42,136:INFO:SMOTE: Running sampling via ('SMOTE', \"{'proportion': 0.5, 'n_neighbors': 5, 'n_jobs': 1, 'random_state': 5}\")\n",
      "2021-06-11 15:37:42,136:INFO:SMOTE: Running sampling via ('SMOTE', \"{'proportion': 0.5, 'n_neighbors': 5, 'n_jobs': 1, 'random_state': 5}\")\n",
      "2021-06-11 15:37:42,139:INFO:SMOTE: Running sampling via ('SMOTE', \"{'proportion': 0.6, 'n_neighbors': 5, 'n_jobs': 1, 'random_state': 5}\")\n",
      "2021-06-11 15:37:42,139:INFO:SMOTE: Running sampling via ('SMOTE', \"{'proportion': 0.6, 'n_neighbors': 5, 'n_jobs': 1, 'random_state': 5}\")\n",
      "2021-06-11 15:37:42,139:INFO:SMOTE: Running sampling via ('SMOTE', \"{'proportion': 0.6, 'n_neighbors': 5, 'n_jobs': 1, 'random_state': 5}\")\n",
      "2021-06-11 15:37:42,142:INFO:SMOTE: Running sampling via ('SMOTE', \"{'proportion': 0.7, 'n_neighbors': 5, 'n_jobs': 1, 'random_state': 5}\")\n",
      "2021-06-11 15:37:42,142:INFO:SMOTE: Running sampling via ('SMOTE', \"{'proportion': 0.7, 'n_neighbors': 5, 'n_jobs': 1, 'random_state': 5}\")\n",
      "2021-06-11 15:37:42,142:INFO:SMOTE: Running sampling via ('SMOTE', \"{'proportion': 0.7, 'n_neighbors': 5, 'n_jobs': 1, 'random_state': 5}\")\n",
      "2021-06-11 15:37:42,145:INFO:SMOTE: Running sampling via ('SMOTE', \"{'proportion': 0.8, 'n_neighbors': 5, 'n_jobs': 1, 'random_state': 5}\")\n",
      "2021-06-11 15:37:42,145:INFO:SMOTE: Running sampling via ('SMOTE', \"{'proportion': 0.8, 'n_neighbors': 5, 'n_jobs': 1, 'random_state': 5}\")\n",
      "2021-06-11 15:37:42,145:INFO:SMOTE: Running sampling via ('SMOTE', \"{'proportion': 0.8, 'n_neighbors': 5, 'n_jobs': 1, 'random_state': 5}\")\n",
      "2021-06-11 15:37:42,149:INFO:SMOTE: Running sampling via ('SMOTE', \"{'proportion': 0.9, 'n_neighbors': 5, 'n_jobs': 1, 'random_state': 5}\")\n",
      "2021-06-11 15:37:42,149:INFO:SMOTE: Running sampling via ('SMOTE', \"{'proportion': 0.9, 'n_neighbors': 5, 'n_jobs': 1, 'random_state': 5}\")\n",
      "2021-06-11 15:37:42,149:INFO:SMOTE: Running sampling via ('SMOTE', \"{'proportion': 0.9, 'n_neighbors': 5, 'n_jobs': 1, 'random_state': 5}\")\n",
      "2021-06-11 15:37:42,153:INFO:SMOTE: Running sampling via ('SMOTE', \"{'proportion': 1, 'n_neighbors': 5, 'n_jobs': 1, 'random_state': 5}\")\n",
      "2021-06-11 15:37:42,153:INFO:SMOTE: Running sampling via ('SMOTE', \"{'proportion': 1, 'n_neighbors': 5, 'n_jobs': 1, 'random_state': 5}\")\n",
      "2021-06-11 15:37:42,153:INFO:SMOTE: Running sampling via ('SMOTE', \"{'proportion': 1, 'n_neighbors': 5, 'n_jobs': 1, 'random_state': 5}\")\n"
     ]
    },
    {
     "name": "stdout",
     "output_type": "stream",
     "text": [
      "0.1\n",
      "0.2\n",
      "0.3\n",
      "0.4\n",
      "0.5\n",
      "0.6\n",
      "0.7\n",
      "0.8\n",
      "0.9\n",
      "1\n"
     ]
    }
   ],
   "source": [
    "samples_smote = []\n",
    "\n",
    "for prop in proportions :\n",
    "    o = sv.SMOTE(proportion = prop,\n",
    "                   random_state = random_state)\n",
    "    \n",
    "    print(prop)\n",
    "    x_g, y_g = o.sample(X_train,y_train)\n",
    "    \n",
    "    f_dict = {\n",
    "        'prop':prop,\n",
    "        'x_sample':x_g,\n",
    "        'y_sample':y_g\n",
    "    }\n",
    "    \n",
    "    samples_smote.append(f_dict)"
   ]
  },
  {
   "cell_type": "code",
   "execution_count": 25,
   "metadata": {
    "scrolled": true
   },
   "outputs": [
    {
     "name": "stderr",
     "output_type": "stream",
     "text": [
      "2021-06-11 15:37:44,912:INFO:synthsonic: Running sampling via ('synthsonic', \"{'proportion': 0.1, 'n_jobs': 1, 'distinct_threshold': 3, 'random_state': RandomState(MT19937) at 0x7F8ACC2A2D10}\")\n",
      "2021-06-11 15:37:44,912:INFO:synthsonic: Running sampling via ('synthsonic', \"{'proportion': 0.1, 'n_jobs': 1, 'distinct_threshold': 3, 'random_state': RandomState(MT19937) at 0x7F8ACC2A2D10}\")\n",
      "2021-06-11 15:37:44,912:INFO:synthsonic: Running sampling via ('synthsonic', \"{'proportion': 0.1, 'n_jobs': 1, 'distinct_threshold': 3, 'random_state': RandomState(MT19937) at 0x7F8ACC2A2D10}\")\n",
      "n_quantiles (500) is greater than the total number of samples (27). n_quantiles is set to num samples.\n"
     ]
    },
    {
     "name": "stdout",
     "output_type": "stream",
     "text": [
      "0.1\n",
      "minority class 1, min dataset (27, 7)\n"
     ]
    },
    {
     "name": "stderr",
     "output_type": "stream",
     "text": [
      "Building tree: 100%|██████████| 15/15.0 [00:00<00:00, 2050.00it/s]\n",
      "Generating for node: 0:   0%|          | 0/7 [00:00<?, ?it/s]/Users/tristenmarto/anaconda3/lib/python3.7/site-packages/pgmpy/factors/discrete/DiscreteFactor.py:522: UserWarning: Found unknown state name. Trying to switch to using all state names as state numbers\n",
      "  \"Found unknown state name. Trying to switch to using all state names as state numbers\"\n",
      "Generating for node: 6: 100%|██████████| 7/7 [00:01<00:00,  5.12it/s]\n",
      "/Users/tristenmarto/anaconda3/lib/python3.7/site-packages/sklearn/isotonic.py:71: UserWarning: Confidence interval of the Spearman correlation coefficient spans zero. Determination of ``increasing`` may be suspect.\n",
      "  warnings.warn(\"Confidence interval of the Spearman \"\n",
      "Generating for node: 0:   0%|          | 0/7 [00:00<?, ?it/s]/Users/tristenmarto/anaconda3/lib/python3.7/site-packages/pgmpy/factors/discrete/DiscreteFactor.py:522: UserWarning: Found unknown state name. Trying to switch to using all state names as state numbers\n",
      "  \"Found unknown state name. Trying to switch to using all state names as state numbers\"\n",
      "Generating for node: 6: 100%|██████████| 7/7 [00:00<00:00, 26.44it/s]\n",
      "2021-06-11 15:37:48,334:INFO:synthsonic: Running sampling via ('synthsonic', \"{'proportion': 0.2, 'n_jobs': 1, 'distinct_threshold': 3, 'random_state': RandomState(MT19937) at 0x7F8ACC2A2E20}\")\n",
      "2021-06-11 15:37:48,334:INFO:synthsonic: Running sampling via ('synthsonic', \"{'proportion': 0.2, 'n_jobs': 1, 'distinct_threshold': 3, 'random_state': RandomState(MT19937) at 0x7F8ACC2A2E20}\")\n",
      "2021-06-11 15:37:48,334:INFO:synthsonic: Running sampling via ('synthsonic', \"{'proportion': 0.2, 'n_jobs': 1, 'distinct_threshold': 3, 'random_state': RandomState(MT19937) at 0x7F8ACC2A2E20}\")\n",
      "n_quantiles (500) is greater than the total number of samples (27). n_quantiles is set to num samples.\n"
     ]
    },
    {
     "name": "stdout",
     "output_type": "stream",
     "text": [
      "0.2\n",
      "minority class 1, min dataset (27, 7)\n"
     ]
    },
    {
     "name": "stderr",
     "output_type": "stream",
     "text": [
      "Building tree: 100%|██████████| 15/15.0 [00:00<00:00, 210.44it/s]\n",
      "Generating for node: 0:   0%|          | 0/7 [00:00<?, ?it/s]/Users/tristenmarto/anaconda3/lib/python3.7/site-packages/pgmpy/factors/discrete/DiscreteFactor.py:522: UserWarning: Found unknown state name. Trying to switch to using all state names as state numbers\n",
      "  \"Found unknown state name. Trying to switch to using all state names as state numbers\"\n",
      "Generating for node: 6: 100%|██████████| 7/7 [00:01<00:00,  5.31it/s]\n",
      "/Users/tristenmarto/anaconda3/lib/python3.7/site-packages/sklearn/isotonic.py:71: UserWarning: Confidence interval of the Spearman correlation coefficient spans zero. Determination of ``increasing`` may be suspect.\n",
      "  warnings.warn(\"Confidence interval of the Spearman \"\n",
      "Generating for node: 0:   0%|          | 0/7 [00:00<?, ?it/s]/Users/tristenmarto/anaconda3/lib/python3.7/site-packages/pgmpy/factors/discrete/DiscreteFactor.py:522: UserWarning: Found unknown state name. Trying to switch to using all state names as state numbers\n",
      "  \"Found unknown state name. Trying to switch to using all state names as state numbers\"\n",
      "Generating for node: 6: 100%|██████████| 7/7 [00:00<00:00, 26.72it/s]\n",
      "2021-06-11 15:37:51,741:INFO:synthsonic: Running sampling via ('synthsonic', \"{'proportion': 0.3, 'n_jobs': 1, 'distinct_threshold': 3, 'random_state': RandomState(MT19937) at 0x7F8ACC2A2D10}\")\n",
      "2021-06-11 15:37:51,741:INFO:synthsonic: Running sampling via ('synthsonic', \"{'proportion': 0.3, 'n_jobs': 1, 'distinct_threshold': 3, 'random_state': RandomState(MT19937) at 0x7F8ACC2A2D10}\")\n",
      "2021-06-11 15:37:51,741:INFO:synthsonic: Running sampling via ('synthsonic', \"{'proportion': 0.3, 'n_jobs': 1, 'distinct_threshold': 3, 'random_state': RandomState(MT19937) at 0x7F8ACC2A2D10}\")\n",
      "n_quantiles (500) is greater than the total number of samples (27). n_quantiles is set to num samples.\n"
     ]
    },
    {
     "name": "stdout",
     "output_type": "stream",
     "text": [
      "0.3\n",
      "minority class 1, min dataset (27, 7)\n"
     ]
    },
    {
     "name": "stderr",
     "output_type": "stream",
     "text": [
      "Building tree: 100%|██████████| 15/15.0 [00:00<00:00, 1281.20it/s]\n",
      "Generating for node: 0:   0%|          | 0/7 [00:00<?, ?it/s]/Users/tristenmarto/anaconda3/lib/python3.7/site-packages/pgmpy/factors/discrete/DiscreteFactor.py:522: UserWarning: Found unknown state name. Trying to switch to using all state names as state numbers\n",
      "  \"Found unknown state name. Trying to switch to using all state names as state numbers\"\n",
      "Generating for node: 6: 100%|██████████| 7/7 [00:01<00:00,  5.43it/s]\n",
      "/Users/tristenmarto/anaconda3/lib/python3.7/site-packages/sklearn/isotonic.py:71: UserWarning: Confidence interval of the Spearman correlation coefficient spans zero. Determination of ``increasing`` may be suspect.\n",
      "  warnings.warn(\"Confidence interval of the Spearman \"\n",
      "Generating for node: 0:   0%|          | 0/7 [00:00<?, ?it/s]/Users/tristenmarto/anaconda3/lib/python3.7/site-packages/pgmpy/factors/discrete/DiscreteFactor.py:522: UserWarning: Found unknown state name. Trying to switch to using all state names as state numbers\n",
      "  \"Found unknown state name. Trying to switch to using all state names as state numbers\"\n",
      "Generating for node: 6: 100%|██████████| 7/7 [00:00<00:00, 26.52it/s]\n",
      "2021-06-11 15:37:54,924:INFO:synthsonic: Running sampling via ('synthsonic', \"{'proportion': 0.4, 'n_jobs': 1, 'distinct_threshold': 3, 'random_state': RandomState(MT19937) at 0x7F8ACC2A2E20}\")\n",
      "2021-06-11 15:37:54,924:INFO:synthsonic: Running sampling via ('synthsonic', \"{'proportion': 0.4, 'n_jobs': 1, 'distinct_threshold': 3, 'random_state': RandomState(MT19937) at 0x7F8ACC2A2E20}\")\n",
      "2021-06-11 15:37:54,924:INFO:synthsonic: Running sampling via ('synthsonic', \"{'proportion': 0.4, 'n_jobs': 1, 'distinct_threshold': 3, 'random_state': RandomState(MT19937) at 0x7F8ACC2A2E20}\")\n",
      "n_quantiles (500) is greater than the total number of samples (27). n_quantiles is set to num samples.\n"
     ]
    },
    {
     "name": "stdout",
     "output_type": "stream",
     "text": [
      "0.4\n",
      "minority class 1, min dataset (27, 7)\n"
     ]
    },
    {
     "name": "stderr",
     "output_type": "stream",
     "text": [
      "Building tree: 100%|██████████| 15/15.0 [00:00<00:00, 3160.58it/s]\n",
      "Generating for node: 0:   0%|          | 0/7 [00:00<?, ?it/s]/Users/tristenmarto/anaconda3/lib/python3.7/site-packages/pgmpy/factors/discrete/DiscreteFactor.py:522: UserWarning: Found unknown state name. Trying to switch to using all state names as state numbers\n",
      "  \"Found unknown state name. Trying to switch to using all state names as state numbers\"\n",
      "Generating for node: 6: 100%|██████████| 7/7 [00:01<00:00,  5.65it/s]\n",
      "/Users/tristenmarto/anaconda3/lib/python3.7/site-packages/sklearn/isotonic.py:71: UserWarning: Confidence interval of the Spearman correlation coefficient spans zero. Determination of ``increasing`` may be suspect.\n",
      "  warnings.warn(\"Confidence interval of the Spearman \"\n",
      "Generating for node: 0:   0%|          | 0/7 [00:00<?, ?it/s]/Users/tristenmarto/anaconda3/lib/python3.7/site-packages/pgmpy/factors/discrete/DiscreteFactor.py:522: UserWarning: Found unknown state name. Trying to switch to using all state names as state numbers\n",
      "  \"Found unknown state name. Trying to switch to using all state names as state numbers\"\n",
      "Generating for node: 6: 100%|██████████| 7/7 [00:00<00:00, 26.27it/s]\n",
      "2021-06-11 15:37:58,022:INFO:synthsonic: Running sampling via ('synthsonic', \"{'proportion': 0.5, 'n_jobs': 1, 'distinct_threshold': 3, 'random_state': RandomState(MT19937) at 0x7F8ACC2A2D10}\")\n",
      "2021-06-11 15:37:58,022:INFO:synthsonic: Running sampling via ('synthsonic', \"{'proportion': 0.5, 'n_jobs': 1, 'distinct_threshold': 3, 'random_state': RandomState(MT19937) at 0x7F8ACC2A2D10}\")\n",
      "2021-06-11 15:37:58,022:INFO:synthsonic: Running sampling via ('synthsonic', \"{'proportion': 0.5, 'n_jobs': 1, 'distinct_threshold': 3, 'random_state': RandomState(MT19937) at 0x7F8ACC2A2D10}\")\n",
      "n_quantiles (500) is greater than the total number of samples (27). n_quantiles is set to num samples.\n"
     ]
    },
    {
     "name": "stdout",
     "output_type": "stream",
     "text": [
      "0.5\n",
      "minority class 1, min dataset (27, 7)\n"
     ]
    },
    {
     "name": "stderr",
     "output_type": "stream",
     "text": [
      "Building tree: 100%|██████████| 15/15.0 [00:00<00:00, 3208.62it/s]\n",
      "Generating for node: 0:   0%|          | 0/7 [00:00<?, ?it/s]/Users/tristenmarto/anaconda3/lib/python3.7/site-packages/pgmpy/factors/discrete/DiscreteFactor.py:522: UserWarning: Found unknown state name. Trying to switch to using all state names as state numbers\n",
      "  \"Found unknown state name. Trying to switch to using all state names as state numbers\"\n",
      "Generating for node: 6: 100%|██████████| 7/7 [00:01<00:00,  5.50it/s]\n",
      "/Users/tristenmarto/anaconda3/lib/python3.7/site-packages/sklearn/isotonic.py:71: UserWarning: Confidence interval of the Spearman correlation coefficient spans zero. Determination of ``increasing`` may be suspect.\n",
      "  warnings.warn(\"Confidence interval of the Spearman \"\n",
      "Generating for node: 0:   0%|          | 0/7 [00:00<?, ?it/s]/Users/tristenmarto/anaconda3/lib/python3.7/site-packages/pgmpy/factors/discrete/DiscreteFactor.py:522: UserWarning: Found unknown state name. Trying to switch to using all state names as state numbers\n",
      "  \"Found unknown state name. Trying to switch to using all state names as state numbers\"\n",
      "Generating for node: 6: 100%|██████████| 7/7 [00:00<00:00, 27.57it/s]\n",
      "2021-06-11 15:38:01,143:INFO:synthsonic: Running sampling via ('synthsonic', \"{'proportion': 0.6, 'n_jobs': 1, 'distinct_threshold': 3, 'random_state': RandomState(MT19937) at 0x7F8ACC2A2E20}\")\n",
      "2021-06-11 15:38:01,143:INFO:synthsonic: Running sampling via ('synthsonic', \"{'proportion': 0.6, 'n_jobs': 1, 'distinct_threshold': 3, 'random_state': RandomState(MT19937) at 0x7F8ACC2A2E20}\")\n",
      "2021-06-11 15:38:01,143:INFO:synthsonic: Running sampling via ('synthsonic', \"{'proportion': 0.6, 'n_jobs': 1, 'distinct_threshold': 3, 'random_state': RandomState(MT19937) at 0x7F8ACC2A2E20}\")\n",
      "n_quantiles (500) is greater than the total number of samples (27). n_quantiles is set to num samples.\n"
     ]
    },
    {
     "name": "stdout",
     "output_type": "stream",
     "text": [
      "0.6\n",
      "minority class 1, min dataset (27, 7)\n"
     ]
    },
    {
     "name": "stderr",
     "output_type": "stream",
     "text": [
      "Building tree: 100%|██████████| 15/15.0 [00:00<00:00, 2214.68it/s]\n",
      "Generating for node: 0:   0%|          | 0/7 [00:00<?, ?it/s]/Users/tristenmarto/anaconda3/lib/python3.7/site-packages/pgmpy/factors/discrete/DiscreteFactor.py:522: UserWarning: Found unknown state name. Trying to switch to using all state names as state numbers\n",
      "  \"Found unknown state name. Trying to switch to using all state names as state numbers\"\n",
      "Generating for node: 6: 100%|██████████| 7/7 [00:01<00:00,  5.42it/s]\n",
      "/Users/tristenmarto/anaconda3/lib/python3.7/site-packages/sklearn/isotonic.py:71: UserWarning: Confidence interval of the Spearman correlation coefficient spans zero. Determination of ``increasing`` may be suspect.\n",
      "  warnings.warn(\"Confidence interval of the Spearman \"\n",
      "Generating for node: 0:   0%|          | 0/7 [00:00<?, ?it/s]/Users/tristenmarto/anaconda3/lib/python3.7/site-packages/pgmpy/factors/discrete/DiscreteFactor.py:522: UserWarning: Found unknown state name. Trying to switch to using all state names as state numbers\n",
      "  \"Found unknown state name. Trying to switch to using all state names as state numbers\"\n",
      "Generating for node: 6: 100%|██████████| 7/7 [00:00<00:00, 27.68it/s]\n",
      "2021-06-11 15:38:04,295:INFO:synthsonic: Running sampling via ('synthsonic', \"{'proportion': 0.7, 'n_jobs': 1, 'distinct_threshold': 3, 'random_state': RandomState(MT19937) at 0x7F8ACC2A2D10}\")\n",
      "2021-06-11 15:38:04,295:INFO:synthsonic: Running sampling via ('synthsonic', \"{'proportion': 0.7, 'n_jobs': 1, 'distinct_threshold': 3, 'random_state': RandomState(MT19937) at 0x7F8ACC2A2D10}\")\n",
      "2021-06-11 15:38:04,295:INFO:synthsonic: Running sampling via ('synthsonic', \"{'proportion': 0.7, 'n_jobs': 1, 'distinct_threshold': 3, 'random_state': RandomState(MT19937) at 0x7F8ACC2A2D10}\")\n",
      "n_quantiles (500) is greater than the total number of samples (27). n_quantiles is set to num samples.\n"
     ]
    },
    {
     "name": "stdout",
     "output_type": "stream",
     "text": [
      "0.7\n",
      "minority class 1, min dataset (27, 7)\n"
     ]
    },
    {
     "name": "stderr",
     "output_type": "stream",
     "text": [
      "Building tree: 100%|██████████| 15/15.0 [00:00<00:00, 2645.58it/s]\n",
      "Generating for node: 0:   0%|          | 0/7 [00:00<?, ?it/s]/Users/tristenmarto/anaconda3/lib/python3.7/site-packages/pgmpy/factors/discrete/DiscreteFactor.py:522: UserWarning: Found unknown state name. Trying to switch to using all state names as state numbers\n",
      "  \"Found unknown state name. Trying to switch to using all state names as state numbers\"\n",
      "Generating for node: 6: 100%|██████████| 7/7 [00:01<00:00,  5.02it/s]\n",
      "/Users/tristenmarto/anaconda3/lib/python3.7/site-packages/sklearn/isotonic.py:71: UserWarning: Confidence interval of the Spearman correlation coefficient spans zero. Determination of ``increasing`` may be suspect.\n",
      "  warnings.warn(\"Confidence interval of the Spearman \"\n",
      "Generating for node: 0:   0%|          | 0/7 [00:00<?, ?it/s]/Users/tristenmarto/anaconda3/lib/python3.7/site-packages/pgmpy/factors/discrete/DiscreteFactor.py:522: UserWarning: Found unknown state name. Trying to switch to using all state names as state numbers\n",
      "  \"Found unknown state name. Trying to switch to using all state names as state numbers\"\n",
      "Generating for node: 6: 100%|██████████| 7/7 [00:00<00:00, 28.20it/s]\n",
      "2021-06-11 15:38:07,549:INFO:synthsonic: Running sampling via ('synthsonic', \"{'proportion': 0.8, 'n_jobs': 1, 'distinct_threshold': 3, 'random_state': RandomState(MT19937) at 0x7F8ACC2A2E20}\")\n",
      "2021-06-11 15:38:07,549:INFO:synthsonic: Running sampling via ('synthsonic', \"{'proportion': 0.8, 'n_jobs': 1, 'distinct_threshold': 3, 'random_state': RandomState(MT19937) at 0x7F8ACC2A2E20}\")\n",
      "2021-06-11 15:38:07,549:INFO:synthsonic: Running sampling via ('synthsonic', \"{'proportion': 0.8, 'n_jobs': 1, 'distinct_threshold': 3, 'random_state': RandomState(MT19937) at 0x7F8ACC2A2E20}\")\n",
      "n_quantiles (500) is greater than the total number of samples (27). n_quantiles is set to num samples.\n"
     ]
    },
    {
     "name": "stdout",
     "output_type": "stream",
     "text": [
      "0.8\n",
      "minority class 1, min dataset (27, 7)\n"
     ]
    },
    {
     "name": "stderr",
     "output_type": "stream",
     "text": [
      "Building tree: 100%|██████████| 15/15.0 [00:00<00:00, 2028.06it/s]\n",
      "Generating for node: 0:   0%|          | 0/7 [00:00<?, ?it/s]/Users/tristenmarto/anaconda3/lib/python3.7/site-packages/pgmpy/factors/discrete/DiscreteFactor.py:522: UserWarning: Found unknown state name. Trying to switch to using all state names as state numbers\n",
      "  \"Found unknown state name. Trying to switch to using all state names as state numbers\"\n",
      "Generating for node: 6: 100%|██████████| 7/7 [00:01<00:00,  5.31it/s]\n",
      "/Users/tristenmarto/anaconda3/lib/python3.7/site-packages/sklearn/isotonic.py:71: UserWarning: Confidence interval of the Spearman correlation coefficient spans zero. Determination of ``increasing`` may be suspect.\n",
      "  warnings.warn(\"Confidence interval of the Spearman \"\n",
      "Generating for node: 0:   0%|          | 0/7 [00:00<?, ?it/s]/Users/tristenmarto/anaconda3/lib/python3.7/site-packages/pgmpy/factors/discrete/DiscreteFactor.py:522: UserWarning: Found unknown state name. Trying to switch to using all state names as state numbers\n",
      "  \"Found unknown state name. Trying to switch to using all state names as state numbers\"\n",
      "Generating for node: 6: 100%|██████████| 7/7 [00:00<00:00, 25.92it/s]\n",
      "2021-06-11 15:38:10,713:INFO:synthsonic: Running sampling via ('synthsonic', \"{'proportion': 0.9, 'n_jobs': 1, 'distinct_threshold': 3, 'random_state': RandomState(MT19937) at 0x7F8ACC2A2D10}\")\n",
      "2021-06-11 15:38:10,713:INFO:synthsonic: Running sampling via ('synthsonic', \"{'proportion': 0.9, 'n_jobs': 1, 'distinct_threshold': 3, 'random_state': RandomState(MT19937) at 0x7F8ACC2A2D10}\")\n",
      "2021-06-11 15:38:10,713:INFO:synthsonic: Running sampling via ('synthsonic', \"{'proportion': 0.9, 'n_jobs': 1, 'distinct_threshold': 3, 'random_state': RandomState(MT19937) at 0x7F8ACC2A2D10}\")\n",
      "n_quantiles (500) is greater than the total number of samples (27). n_quantiles is set to num samples.\n"
     ]
    },
    {
     "name": "stdout",
     "output_type": "stream",
     "text": [
      "0.9\n",
      "minority class 1, min dataset (27, 7)\n"
     ]
    },
    {
     "name": "stderr",
     "output_type": "stream",
     "text": [
      "Building tree: 100%|██████████| 15/15.0 [00:00<00:00, 1210.76it/s]\n",
      "Generating for node: 0:   0%|          | 0/7 [00:00<?, ?it/s]/Users/tristenmarto/anaconda3/lib/python3.7/site-packages/pgmpy/factors/discrete/DiscreteFactor.py:522: UserWarning: Found unknown state name. Trying to switch to using all state names as state numbers\n",
      "  \"Found unknown state name. Trying to switch to using all state names as state numbers\"\n",
      "Generating for node: 6: 100%|██████████| 7/7 [00:01<00:00,  5.66it/s]\n",
      "/Users/tristenmarto/anaconda3/lib/python3.7/site-packages/sklearn/isotonic.py:71: UserWarning: Confidence interval of the Spearman correlation coefficient spans zero. Determination of ``increasing`` may be suspect.\n",
      "  warnings.warn(\"Confidence interval of the Spearman \"\n",
      "Generating for node: 0:   0%|          | 0/7 [00:00<?, ?it/s]/Users/tristenmarto/anaconda3/lib/python3.7/site-packages/pgmpy/factors/discrete/DiscreteFactor.py:522: UserWarning: Found unknown state name. Trying to switch to using all state names as state numbers\n",
      "  \"Found unknown state name. Trying to switch to using all state names as state numbers\"\n",
      "Generating for node: 6: 100%|██████████| 7/7 [00:00<00:00, 27.37it/s]\n",
      "2021-06-11 15:38:13,773:INFO:synthsonic: Running sampling via ('synthsonic', \"{'proportion': 1, 'n_jobs': 1, 'distinct_threshold': 3, 'random_state': RandomState(MT19937) at 0x7F8ACC2A2E20}\")\n",
      "2021-06-11 15:38:13,773:INFO:synthsonic: Running sampling via ('synthsonic', \"{'proportion': 1, 'n_jobs': 1, 'distinct_threshold': 3, 'random_state': RandomState(MT19937) at 0x7F8ACC2A2E20}\")\n",
      "2021-06-11 15:38:13,773:INFO:synthsonic: Running sampling via ('synthsonic', \"{'proportion': 1, 'n_jobs': 1, 'distinct_threshold': 3, 'random_state': RandomState(MT19937) at 0x7F8ACC2A2E20}\")\n",
      "n_quantiles (500) is greater than the total number of samples (27). n_quantiles is set to num samples.\n"
     ]
    },
    {
     "name": "stdout",
     "output_type": "stream",
     "text": [
      "1\n",
      "minority class 1, min dataset (27, 7)\n"
     ]
    },
    {
     "name": "stderr",
     "output_type": "stream",
     "text": [
      "Building tree: 100%|██████████| 15/15.0 [00:00<00:00, 2149.31it/s]\n",
      "Generating for node: 0:   0%|          | 0/7 [00:00<?, ?it/s]/Users/tristenmarto/anaconda3/lib/python3.7/site-packages/pgmpy/factors/discrete/DiscreteFactor.py:522: UserWarning: Found unknown state name. Trying to switch to using all state names as state numbers\n",
      "  \"Found unknown state name. Trying to switch to using all state names as state numbers\"\n",
      "Generating for node: 6: 100%|██████████| 7/7 [00:01<00:00,  5.75it/s]\n",
      "/Users/tristenmarto/anaconda3/lib/python3.7/site-packages/sklearn/isotonic.py:71: UserWarning: Confidence interval of the Spearman correlation coefficient spans zero. Determination of ``increasing`` may be suspect.\n",
      "  warnings.warn(\"Confidence interval of the Spearman \"\n",
      "Generating for node: 0:   0%|          | 0/7 [00:00<?, ?it/s]/Users/tristenmarto/anaconda3/lib/python3.7/site-packages/pgmpy/factors/discrete/DiscreteFactor.py:522: UserWarning: Found unknown state name. Trying to switch to using all state names as state numbers\n",
      "  \"Found unknown state name. Trying to switch to using all state names as state numbers\"\n",
      "Generating for node: 6: 100%|██████████| 7/7 [00:00<00:00, 27.11it/s]\n"
     ]
    }
   ],
   "source": [
    "samples_synth = []\n",
    "\n",
    "for prop in proportions :\n",
    "    o = synthsonic(distinct_threshold=3,\n",
    "                   proportion = prop,\n",
    "                   random_state = random_state)\n",
    "    \n",
    "    print(prop)\n",
    "    x_g, y_g = o.sample(X_train,y_train)\n",
    "    \n",
    "    f_dict = {\n",
    "        'prop':prop,\n",
    "        'x_sample':x_g,\n",
    "        'y_sample':y_g\n",
    "    }\n",
    "    \n",
    "    samples_synth.append(f_dict)"
   ]
  },
  {
   "cell_type": "code",
   "execution_count": 26,
   "metadata": {},
   "outputs": [],
   "source": [
    "xs_smote = [samples_smote[i]['x_sample'] for i in range(len(proportions))]\n",
    "ys_smote = [samples_smote[i]['y_sample'] for i in range(len(proportions))]"
   ]
  },
  {
   "cell_type": "code",
   "execution_count": 27,
   "metadata": {},
   "outputs": [],
   "source": [
    "xs_synth = [samples_synth[i]['x_sample'] for i in range(len(proportions))]\n",
    "ys_synth = [samples_synth[i]['y_sample'] for i in range(len(proportions))]"
   ]
  },
  {
   "cell_type": "markdown",
   "metadata": {},
   "source": [
    "## metrics - XGBOOST"
   ]
  },
  {
   "cell_type": "code",
   "execution_count": 31,
   "metadata": {},
   "outputs": [],
   "source": [
    "def conf_mat(x_train, y_train, x_test, y_test, clf) :\n",
    "    \n",
    "    clf.fit(x_train,y_train)\n",
    "    \n",
    "    pred = clf.predict(x_test)\n",
    "    \n",
    "    return confusion_matrix(y_test,pred)"
   ]
  },
  {
   "cell_type": "code",
   "execution_count": 42,
   "metadata": {},
   "outputs": [],
   "source": [
    "clf = xgb.XGBClassifier(verbosity = 0, random_state=random_state)\n",
    "\n",
    "def metrics_test(proportions,xdata,ydata, clf) :\n",
    "    \n",
    "    res = []\n",
    "    \n",
    "    for prop,data,target in zip(proportions,xdata,ydata) :\n",
    "    \n",
    "        clf.fit(data,target)\n",
    "\n",
    "        prediction = clf.predict(X_test)\n",
    "        proba = clf.predict_proba(X_test)[:,1]\n",
    "\n",
    "        f_dict = {\n",
    "            'proportion':prop,\n",
    "            'balanced acc': balanced_accuracy_score(y_test,prediction),\n",
    "            'precision': precision_score(y_test,prediction),\n",
    "            'recall': recall_score(y_test,prediction),\n",
    "            'f1_score': f1_score(y_test, prediction, average='binary'),\n",
    "            'geometric mean': geometric_mean_score(y_test, prediction),\n",
    "            'average precision' : average_precision_score(y_test, prediction)\n",
    "        }\n",
    "\n",
    "        res.append(f_dict)\n",
    "    \n",
    "    return pd.DataFrame(res)"
   ]
  },
  {
   "cell_type": "code",
   "execution_count": 43,
   "metadata": {},
   "outputs": [
    {
     "data": {
      "text/html": [
       "<div>\n",
       "<style scoped>\n",
       "    .dataframe tbody tr th:only-of-type {\n",
       "        vertical-align: middle;\n",
       "    }\n",
       "\n",
       "    .dataframe tbody tr th {\n",
       "        vertical-align: top;\n",
       "    }\n",
       "\n",
       "    .dataframe thead th {\n",
       "        text-align: right;\n",
       "    }\n",
       "</style>\n",
       "<table border=\"1\" class=\"dataframe\">\n",
       "  <thead>\n",
       "    <tr style=\"text-align: right;\">\n",
       "      <th></th>\n",
       "      <th>title</th>\n",
       "      <th>balanced acc</th>\n",
       "      <th>precision</th>\n",
       "      <th>recall</th>\n",
       "      <th>f1_score</th>\n",
       "      <th>geometric mean</th>\n",
       "      <th>average precision</th>\n",
       "    </tr>\n",
       "  </thead>\n",
       "  <tbody>\n",
       "    <tr>\n",
       "      <th>0</th>\n",
       "      <td>XGBoost: No SMOTE</td>\n",
       "      <td>0.781004</td>\n",
       "      <td>0.384615</td>\n",
       "      <td>0.625</td>\n",
       "      <td>0.47619</td>\n",
       "      <td>0.765265</td>\n",
       "      <td>0.262607</td>\n",
       "    </tr>\n",
       "  </tbody>\n",
       "</table>\n",
       "</div>"
      ],
      "text/plain": [
       "               title  balanced acc  precision  recall  f1_score  \\\n",
       "0  XGBoost: No SMOTE      0.781004   0.384615   0.625   0.47619   \n",
       "\n",
       "   geometric mean  average precision  \n",
       "0        0.765265           0.262607  "
      ]
     },
     "execution_count": 43,
     "metadata": {},
     "output_type": "execute_result"
    }
   ],
   "source": [
    "results"
   ]
  },
  {
   "cell_type": "code",
   "execution_count": 32,
   "metadata": {},
   "outputs": [
    {
     "name": "stderr",
     "output_type": "stream",
     "text": [
      "/Users/tristenmarto/anaconda3/lib/python3.7/site-packages/xgboost/sklearn.py:888: UserWarning: The use of label encoder in XGBClassifier is deprecated and will be removed in a future release. To remove this warning, do the following: 1) Pass option use_label_encoder=False when constructing XGBClassifier object; and 2) Encode your labels (y) as integers starting with 0, i.e. 0, 1, 2, ..., [num_class - 1].\n",
      "  warnings.warn(label_encoder_deprecation_msg, UserWarning)\n"
     ]
    },
    {
     "data": {
      "text/plain": [
       "array([[119,   8],\n",
       "       [  3,   5]])"
      ]
     },
     "execution_count": 32,
     "metadata": {},
     "output_type": "execute_result"
    }
   ],
   "source": [
    "conf_mat(X_train,y_train,X_test,y_test, clf)"
   ]
  },
  {
   "cell_type": "code",
   "execution_count": 44,
   "metadata": {
    "scrolled": true
   },
   "outputs": [
    {
     "name": "stderr",
     "output_type": "stream",
     "text": [
      "/Users/tristenmarto/anaconda3/lib/python3.7/site-packages/xgboost/sklearn.py:888: UserWarning: The use of label encoder in XGBClassifier is deprecated and will be removed in a future release. To remove this warning, do the following: 1) Pass option use_label_encoder=False when constructing XGBClassifier object; and 2) Encode your labels (y) as integers starting with 0, i.e. 0, 1, 2, ..., [num_class - 1].\n",
      "  warnings.warn(label_encoder_deprecation_msg, UserWarning)\n"
     ]
    },
    {
     "data": {
      "text/html": [
       "<div>\n",
       "<style scoped>\n",
       "    .dataframe tbody tr th:only-of-type {\n",
       "        vertical-align: middle;\n",
       "    }\n",
       "\n",
       "    .dataframe tbody tr th {\n",
       "        vertical-align: top;\n",
       "    }\n",
       "\n",
       "    .dataframe thead th {\n",
       "        text-align: right;\n",
       "    }\n",
       "</style>\n",
       "<table border=\"1\" class=\"dataframe\">\n",
       "  <thead>\n",
       "    <tr style=\"text-align: right;\">\n",
       "      <th></th>\n",
       "      <th>proportion</th>\n",
       "      <th>balanced acc</th>\n",
       "      <th>precision</th>\n",
       "      <th>recall</th>\n",
       "      <th>f1_score</th>\n",
       "      <th>geometric mean</th>\n",
       "      <th>average precision</th>\n",
       "    </tr>\n",
       "  </thead>\n",
       "  <tbody>\n",
       "    <tr>\n",
       "      <th>0</th>\n",
       "      <td>0.1</td>\n",
       "      <td>0.788878</td>\n",
       "      <td>0.454545</td>\n",
       "      <td>0.625</td>\n",
       "      <td>0.526316</td>\n",
       "      <td>0.771669</td>\n",
       "      <td>0.306313</td>\n",
       "    </tr>\n",
       "    <tr>\n",
       "      <th>1</th>\n",
       "      <td>0.2</td>\n",
       "      <td>0.902067</td>\n",
       "      <td>0.437500</td>\n",
       "      <td>0.875</td>\n",
       "      <td>0.583333</td>\n",
       "      <td>0.901661</td>\n",
       "      <td>0.390220</td>\n",
       "    </tr>\n",
       "    <tr>\n",
       "      <th>2</th>\n",
       "      <td>0.3</td>\n",
       "      <td>0.839567</td>\n",
       "      <td>0.400000</td>\n",
       "      <td>0.750</td>\n",
       "      <td>0.521739</td>\n",
       "      <td>0.834776</td>\n",
       "      <td>0.314815</td>\n",
       "    </tr>\n",
       "    <tr>\n",
       "      <th>3</th>\n",
       "      <td>0.4</td>\n",
       "      <td>0.839567</td>\n",
       "      <td>0.400000</td>\n",
       "      <td>0.750</td>\n",
       "      <td>0.521739</td>\n",
       "      <td>0.834776</td>\n",
       "      <td>0.314815</td>\n",
       "    </tr>\n",
       "    <tr>\n",
       "      <th>4</th>\n",
       "      <td>0.5</td>\n",
       "      <td>0.898130</td>\n",
       "      <td>0.411765</td>\n",
       "      <td>0.875</td>\n",
       "      <td>0.560000</td>\n",
       "      <td>0.897832</td>\n",
       "      <td>0.367702</td>\n",
       "    </tr>\n",
       "    <tr>\n",
       "      <th>5</th>\n",
       "      <td>0.6</td>\n",
       "      <td>0.769193</td>\n",
       "      <td>0.312500</td>\n",
       "      <td>0.625</td>\n",
       "      <td>0.416667</td>\n",
       "      <td>0.755557</td>\n",
       "      <td>0.217535</td>\n",
       "    </tr>\n",
       "    <tr>\n",
       "      <th>6</th>\n",
       "      <td>0.7</td>\n",
       "      <td>0.781004</td>\n",
       "      <td>0.384615</td>\n",
       "      <td>0.625</td>\n",
       "      <td>0.476190</td>\n",
       "      <td>0.765265</td>\n",
       "      <td>0.262607</td>\n",
       "    </tr>\n",
       "    <tr>\n",
       "      <th>7</th>\n",
       "      <td>0.8</td>\n",
       "      <td>0.831693</td>\n",
       "      <td>0.352941</td>\n",
       "      <td>0.750</td>\n",
       "      <td>0.480000</td>\n",
       "      <td>0.827671</td>\n",
       "      <td>0.279521</td>\n",
       "    </tr>\n",
       "    <tr>\n",
       "      <th>8</th>\n",
       "      <td>0.9</td>\n",
       "      <td>0.831693</td>\n",
       "      <td>0.352941</td>\n",
       "      <td>0.750</td>\n",
       "      <td>0.480000</td>\n",
       "      <td>0.827671</td>\n",
       "      <td>0.279521</td>\n",
       "    </tr>\n",
       "    <tr>\n",
       "      <th>9</th>\n",
       "      <td>1.0</td>\n",
       "      <td>0.847441</td>\n",
       "      <td>0.461538</td>\n",
       "      <td>0.750</td>\n",
       "      <td>0.571429</td>\n",
       "      <td>0.841820</td>\n",
       "      <td>0.360969</td>\n",
       "    </tr>\n",
       "  </tbody>\n",
       "</table>\n",
       "</div>"
      ],
      "text/plain": [
       "   proportion  balanced acc  precision  recall  f1_score  geometric mean  \\\n",
       "0         0.1      0.788878   0.454545   0.625  0.526316        0.771669   \n",
       "1         0.2      0.902067   0.437500   0.875  0.583333        0.901661   \n",
       "2         0.3      0.839567   0.400000   0.750  0.521739        0.834776   \n",
       "3         0.4      0.839567   0.400000   0.750  0.521739        0.834776   \n",
       "4         0.5      0.898130   0.411765   0.875  0.560000        0.897832   \n",
       "5         0.6      0.769193   0.312500   0.625  0.416667        0.755557   \n",
       "6         0.7      0.781004   0.384615   0.625  0.476190        0.765265   \n",
       "7         0.8      0.831693   0.352941   0.750  0.480000        0.827671   \n",
       "8         0.9      0.831693   0.352941   0.750  0.480000        0.827671   \n",
       "9         1.0      0.847441   0.461538   0.750  0.571429        0.841820   \n",
       "\n",
       "   average precision  \n",
       "0           0.306313  \n",
       "1           0.390220  \n",
       "2           0.314815  \n",
       "3           0.314815  \n",
       "4           0.367702  \n",
       "5           0.217535  \n",
       "6           0.262607  \n",
       "7           0.279521  \n",
       "8           0.279521  \n",
       "9           0.360969  "
      ]
     },
     "execution_count": 44,
     "metadata": {},
     "output_type": "execute_result"
    }
   ],
   "source": [
    "result_smote = metrics_test(proportions,xs_smote,ys_smote, clf)\n",
    "result_smote"
   ]
  },
  {
   "cell_type": "code",
   "execution_count": 34,
   "metadata": {},
   "outputs": [
    {
     "name": "stderr",
     "output_type": "stream",
     "text": [
      "/Users/tristenmarto/anaconda3/lib/python3.7/site-packages/xgboost/sklearn.py:888: UserWarning: The use of label encoder in XGBClassifier is deprecated and will be removed in a future release. To remove this warning, do the following: 1) Pass option use_label_encoder=False when constructing XGBClassifier object; and 2) Encode your labels (y) as integers starting with 0, i.e. 0, 1, 2, ..., [num_class - 1].\n",
      "  warnings.warn(label_encoder_deprecation_msg, UserWarning)\n"
     ]
    },
    {
     "data": {
      "text/plain": [
       "array([[118,   9],\n",
       "       [  2,   6]])"
      ]
     },
     "execution_count": 34,
     "metadata": {},
     "output_type": "execute_result"
    }
   ],
   "source": [
    "conf_mat(xs_smote[2],ys_smote[2], X_test, y_test, clf)"
   ]
  },
  {
   "cell_type": "code",
   "execution_count": 35,
   "metadata": {},
   "outputs": [
    {
     "data": {
      "text/plain": [
       "array([[120,   7],\n",
       "       [  2,   6]])"
      ]
     },
     "execution_count": 35,
     "metadata": {},
     "output_type": "execute_result"
    }
   ],
   "source": [
    "conf_mat(xs_smote[-1],ys_smote[-1], X_test, y_test, clf)"
   ]
  },
  {
   "cell_type": "code",
   "execution_count": 45,
   "metadata": {
    "scrolled": true
   },
   "outputs": [
    {
     "name": "stderr",
     "output_type": "stream",
     "text": [
      "/Users/tristenmarto/anaconda3/lib/python3.7/site-packages/xgboost/sklearn.py:888: UserWarning: The use of label encoder in XGBClassifier is deprecated and will be removed in a future release. To remove this warning, do the following: 1) Pass option use_label_encoder=False when constructing XGBClassifier object; and 2) Encode your labels (y) as integers starting with 0, i.e. 0, 1, 2, ..., [num_class - 1].\n",
      "  warnings.warn(label_encoder_deprecation_msg, UserWarning)\n"
     ]
    },
    {
     "data": {
      "text/html": [
       "<div>\n",
       "<style scoped>\n",
       "    .dataframe tbody tr th:only-of-type {\n",
       "        vertical-align: middle;\n",
       "    }\n",
       "\n",
       "    .dataframe tbody tr th {\n",
       "        vertical-align: top;\n",
       "    }\n",
       "\n",
       "    .dataframe thead th {\n",
       "        text-align: right;\n",
       "    }\n",
       "</style>\n",
       "<table border=\"1\" class=\"dataframe\">\n",
       "  <thead>\n",
       "    <tr style=\"text-align: right;\">\n",
       "      <th></th>\n",
       "      <th>proportion</th>\n",
       "      <th>balanced acc</th>\n",
       "      <th>precision</th>\n",
       "      <th>recall</th>\n",
       "      <th>f1_score</th>\n",
       "      <th>geometric mean</th>\n",
       "      <th>average precision</th>\n",
       "    </tr>\n",
       "  </thead>\n",
       "  <tbody>\n",
       "    <tr>\n",
       "      <th>0</th>\n",
       "      <td>0.1</td>\n",
       "      <td>0.788878</td>\n",
       "      <td>0.454545</td>\n",
       "      <td>0.625</td>\n",
       "      <td>0.526316</td>\n",
       "      <td>0.771669</td>\n",
       "      <td>0.306313</td>\n",
       "    </tr>\n",
       "    <tr>\n",
       "      <th>1</th>\n",
       "      <td>0.2</td>\n",
       "      <td>0.781004</td>\n",
       "      <td>0.384615</td>\n",
       "      <td>0.625</td>\n",
       "      <td>0.476190</td>\n",
       "      <td>0.765265</td>\n",
       "      <td>0.262607</td>\n",
       "    </tr>\n",
       "    <tr>\n",
       "      <th>2</th>\n",
       "      <td>0.3</td>\n",
       "      <td>0.777067</td>\n",
       "      <td>0.357143</td>\n",
       "      <td>0.625</td>\n",
       "      <td>0.454545</td>\n",
       "      <td>0.762042</td>\n",
       "      <td>0.245437</td>\n",
       "    </tr>\n",
       "    <tr>\n",
       "      <th>3</th>\n",
       "      <td>0.4</td>\n",
       "      <td>0.777067</td>\n",
       "      <td>0.357143</td>\n",
       "      <td>0.625</td>\n",
       "      <td>0.454545</td>\n",
       "      <td>0.762042</td>\n",
       "      <td>0.245437</td>\n",
       "    </tr>\n",
       "    <tr>\n",
       "      <th>4</th>\n",
       "      <td>0.5</td>\n",
       "      <td>0.777067</td>\n",
       "      <td>0.357143</td>\n",
       "      <td>0.625</td>\n",
       "      <td>0.454545</td>\n",
       "      <td>0.762042</td>\n",
       "      <td>0.245437</td>\n",
       "    </tr>\n",
       "    <tr>\n",
       "      <th>5</th>\n",
       "      <td>0.6</td>\n",
       "      <td>0.777067</td>\n",
       "      <td>0.357143</td>\n",
       "      <td>0.625</td>\n",
       "      <td>0.454545</td>\n",
       "      <td>0.762042</td>\n",
       "      <td>0.245437</td>\n",
       "    </tr>\n",
       "    <tr>\n",
       "      <th>6</th>\n",
       "      <td>0.7</td>\n",
       "      <td>0.784941</td>\n",
       "      <td>0.416667</td>\n",
       "      <td>0.625</td>\n",
       "      <td>0.500000</td>\n",
       "      <td>0.768473</td>\n",
       "      <td>0.282639</td>\n",
       "    </tr>\n",
       "    <tr>\n",
       "      <th>7</th>\n",
       "      <td>0.8</td>\n",
       "      <td>0.788878</td>\n",
       "      <td>0.454545</td>\n",
       "      <td>0.625</td>\n",
       "      <td>0.526316</td>\n",
       "      <td>0.771669</td>\n",
       "      <td>0.306313</td>\n",
       "    </tr>\n",
       "    <tr>\n",
       "      <th>8</th>\n",
       "      <td>0.9</td>\n",
       "      <td>0.788878</td>\n",
       "      <td>0.454545</td>\n",
       "      <td>0.625</td>\n",
       "      <td>0.526316</td>\n",
       "      <td>0.771669</td>\n",
       "      <td>0.306313</td>\n",
       "    </tr>\n",
       "    <tr>\n",
       "      <th>9</th>\n",
       "      <td>1.0</td>\n",
       "      <td>0.784941</td>\n",
       "      <td>0.416667</td>\n",
       "      <td>0.625</td>\n",
       "      <td>0.500000</td>\n",
       "      <td>0.768473</td>\n",
       "      <td>0.282639</td>\n",
       "    </tr>\n",
       "  </tbody>\n",
       "</table>\n",
       "</div>"
      ],
      "text/plain": [
       "   proportion  balanced acc  precision  recall  f1_score  geometric mean  \\\n",
       "0         0.1      0.788878   0.454545   0.625  0.526316        0.771669   \n",
       "1         0.2      0.781004   0.384615   0.625  0.476190        0.765265   \n",
       "2         0.3      0.777067   0.357143   0.625  0.454545        0.762042   \n",
       "3         0.4      0.777067   0.357143   0.625  0.454545        0.762042   \n",
       "4         0.5      0.777067   0.357143   0.625  0.454545        0.762042   \n",
       "5         0.6      0.777067   0.357143   0.625  0.454545        0.762042   \n",
       "6         0.7      0.784941   0.416667   0.625  0.500000        0.768473   \n",
       "7         0.8      0.788878   0.454545   0.625  0.526316        0.771669   \n",
       "8         0.9      0.788878   0.454545   0.625  0.526316        0.771669   \n",
       "9         1.0      0.784941   0.416667   0.625  0.500000        0.768473   \n",
       "\n",
       "   average precision  \n",
       "0           0.306313  \n",
       "1           0.262607  \n",
       "2           0.245437  \n",
       "3           0.245437  \n",
       "4           0.245437  \n",
       "5           0.245437  \n",
       "6           0.282639  \n",
       "7           0.306313  \n",
       "8           0.306313  \n",
       "9           0.282639  "
      ]
     },
     "execution_count": 45,
     "metadata": {},
     "output_type": "execute_result"
    }
   ],
   "source": [
    "result_synth = metrics_test(proportions,xs_synth,ys_synth, clf)\n",
    "result_synth"
   ]
  },
  {
   "cell_type": "code",
   "execution_count": 120,
   "metadata": {},
   "outputs": [
    {
     "data": {
      "text/plain": [
       "array([[913,  29],\n",
       "       [ 12,  90]])"
      ]
     },
     "execution_count": 120,
     "metadata": {},
     "output_type": "execute_result"
    }
   ],
   "source": [
    "conf_mat(xs_synth[2],ys_synth[2], X_test, y_test, clf)"
   ]
  },
  {
   "cell_type": "code",
   "execution_count": 59,
   "metadata": {},
   "outputs": [
    {
     "data": {
      "text/plain": [
       "{'title': 'XGBoost: double oversample',\n",
       " 'balanced acc': 0.8435039370078741,\n",
       " 'precision': 0.42857142857142855,\n",
       " 'recall': 0.75,\n",
       " 'f1_score': 0.5454545454545454,\n",
       " 'geometric mean': 0.8383053772413792,\n",
       " 'average precision': 0.33624338624338623}"
      ]
     },
     "execution_count": 59,
     "metadata": {},
     "output_type": "execute_result"
    }
   ],
   "source": [
    "qres"
   ]
  },
  {
   "cell_type": "markdown",
   "metadata": {},
   "source": [
    "# precision recall curve"
   ]
  },
  {
   "cell_type": "code",
   "execution_count": 47,
   "metadata": {},
   "outputs": [],
   "source": [
    "from sklearn.metrics import precision_recall_curve\n",
    "from sklearn.metrics import plot_precision_recall_curve\n",
    "import matplotlib.pyplot as plt"
   ]
  },
  {
   "cell_type": "code",
   "execution_count": 49,
   "metadata": {},
   "outputs": [
    {
     "name": "stderr",
     "output_type": "stream",
     "text": [
      "/Users/tristenmarto/anaconda3/lib/python3.7/site-packages/xgboost/sklearn.py:888: UserWarning: The use of label encoder in XGBClassifier is deprecated and will be removed in a future release. To remove this warning, do the following: 1) Pass option use_label_encoder=False when constructing XGBClassifier object; and 2) Encode your labels (y) as integers starting with 0, i.e. 0, 1, 2, ..., [num_class - 1].\n",
      "  warnings.warn(label_encoder_deprecation_msg, UserWarning)\n"
     ]
    },
    {
     "data": {
      "text/plain": [
       "Text(0.5, 1.0, 'No oversampling')"
      ]
     },
     "execution_count": 49,
     "metadata": {},
     "output_type": "execute_result"
    },
    {
     "data": {
      "image/png": "[encoded data removed]",
      "text/plain": [
       "<Figure size 432x288 with 1 Axes>"
      ]
     },
     "metadata": {
      "needs_background": "light"
     },
     "output_type": "display_data"
    }
   ],
   "source": [
    "clf.fit(X_train, y_train)\n",
    "\n",
    "disp = plot_precision_recall_curve(clf, X_test, y_test)\n",
    "disp.ax_.set_title(\"No oversampling\")"
   ]
  },
  {
   "cell_type": "code",
   "execution_count": 51,
   "metadata": {},
   "outputs": [
    {
     "name": "stderr",
     "output_type": "stream",
     "text": [
      "/Users/tristenmarto/anaconda3/lib/python3.7/site-packages/xgboost/sklearn.py:888: UserWarning: The use of label encoder in XGBClassifier is deprecated and will be removed in a future release. To remove this warning, do the following: 1) Pass option use_label_encoder=False when constructing XGBClassifier object; and 2) Encode your labels (y) as integers starting with 0, i.e. 0, 1, 2, ..., [num_class - 1].\n",
      "  warnings.warn(label_encoder_deprecation_msg, UserWarning)\n"
     ]
    },
    {
     "data": {
      "text/plain": [
       "Text(0.5, 1.0, '1:1 SMOTE')"
      ]
     },
     "execution_count": 51,
     "metadata": {},
     "output_type": "execute_result"
    },
    {
     "data": {
      "image/png": "[encoded data removed]",
      "text/plain": [
       "<Figure size 432x288 with 1 Axes>"
      ]
     },
     "metadata": {
      "needs_background": "light"
     },
     "output_type": "display_data"
    }
   ],
   "source": [
    "clf.fit(xs_smote[-1],ys_smote[-1])\n",
    "\n",
    "disp = plot_precision_recall_curve(clf, X_test, y_test)\n",
    "disp.ax_.set_title(\"1:1 SMOTE\")"
   ]
  },
  {
   "cell_type": "code",
   "execution_count": 52,
   "metadata": {},
   "outputs": [
    {
     "name": "stderr",
     "output_type": "stream",
     "text": [
      "/Users/tristenmarto/anaconda3/lib/python3.7/site-packages/xgboost/sklearn.py:888: UserWarning: The use of label encoder in XGBClassifier is deprecated and will be removed in a future release. To remove this warning, do the following: 1) Pass option use_label_encoder=False when constructing XGBClassifier object; and 2) Encode your labels (y) as integers starting with 0, i.e. 0, 1, 2, ..., [num_class - 1].\n",
      "  warnings.warn(label_encoder_deprecation_msg, UserWarning)\n"
     ]
    },
    {
     "data": {
      "text/plain": [
       "Text(0.5, 1.0, '1:1 synthsonic')"
      ]
     },
     "execution_count": 52,
     "metadata": {},
     "output_type": "execute_result"
    },
    {
     "data": {
      "image/png": "[encoded data removed]",
      "text/plain": [
       "<Figure size 432x288 with 1 Axes>"
      ]
     },
     "metadata": {
      "needs_background": "light"
     },
     "output_type": "display_data"
    }
   ],
   "source": [
    "clf.fit(xs_synth[-1],ys_synth[-1])\n",
    "\n",
    "disp = plot_precision_recall_curve(clf, X_test, y_test)\n",
    "disp.ax_.set_title(\"1:1 synthsonic\")"
   ]
  },
  {
   "cell_type": "code",
   "execution_count": 61,
   "metadata": {},
   "outputs": [
    {
     "data": {
      "text/plain": [
       "Text(0.5, 1.0, 'double sampling')"
      ]
     },
     "execution_count": 61,
     "metadata": {},
     "output_type": "execute_result"
    },
    {
     "data": {
      "image/png": "[encoded data removed]",
      "text/plain": [
       "<Figure size 432x288 with 1 Axes>"
      ]
     },
     "metadata": {
      "needs_background": "light"
     },
     "output_type": "display_data"
    }
   ],
   "source": [
    "disp = plot_precision_recall_curve(clf, X_test, y_test)\n",
    "disp.ax_.set_title(\"double sampling\")"
   ]
  },
  {
   "cell_type": "markdown",
   "metadata": {},
   "source": [
    "# Quick test - oversampling majority"
   ]
  },
  {
   "cell_type": "code",
   "execution_count": 54,
   "metadata": {},
   "outputs": [
    {
     "name": "stderr",
     "output_type": "stream",
     "text": [
      "2021-06-11 15:59:53,083:INFO:SMOTE: Running sampling via ('SMOTE', \"{'proportion': 4, 'n_neighbors': 5, 'n_jobs': 1, 'random_state': 5}\")\n",
      "2021-06-11 15:59:53,083:INFO:SMOTE: Running sampling via ('SMOTE', \"{'proportion': 4, 'n_neighbors': 5, 'n_jobs': 1, 'random_state': 5}\")\n",
      "2021-06-11 15:59:53,083:INFO:SMOTE: Running sampling via ('SMOTE', \"{'proportion': 4, 'n_neighbors': 5, 'n_jobs': 1, 'random_state': 5}\")\n"
     ]
    }
   ],
   "source": [
    "ov = sv.SMOTE(proportion = 4, random_state=random_state)\n",
    "X_train, y_train = ov.sample(X_train,y_train)"
   ]
  },
  {
   "cell_type": "code",
   "execution_count": 55,
   "metadata": {},
   "outputs": [
    {
     "name": "stderr",
     "output_type": "stream",
     "text": [
      "2021-06-11 16:00:10,757:INFO:SMOTE: Running sampling via ('SMOTE', \"{'proportion': 1, 'n_neighbors': 5, 'n_jobs': 1, 'random_state': 5}\")\n",
      "2021-06-11 16:00:10,757:INFO:SMOTE: Running sampling via ('SMOTE', \"{'proportion': 1, 'n_neighbors': 5, 'n_jobs': 1, 'random_state': 5}\")\n",
      "2021-06-11 16:00:10,757:INFO:SMOTE: Running sampling via ('SMOTE', \"{'proportion': 1, 'n_neighbors': 5, 'n_jobs': 1, 'random_state': 5}\")\n"
     ]
    }
   ],
   "source": [
    "ov = sv.SMOTE(proportion = 1, random_state=random_state)\n",
    "X_g, y_g = ov.sample(X_train,y_train)"
   ]
  },
  {
   "cell_type": "code",
   "execution_count": 56,
   "metadata": {},
   "outputs": [
    {
     "data": {
      "text/plain": [
       "(1230, 7)"
      ]
     },
     "execution_count": 56,
     "metadata": {},
     "output_type": "execute_result"
    }
   ],
   "source": [
    "X_g.shape"
   ]
  },
  {
   "cell_type": "code",
   "execution_count": 57,
   "metadata": {},
   "outputs": [
    {
     "name": "stderr",
     "output_type": "stream",
     "text": [
      "/Users/tristenmarto/anaconda3/lib/python3.7/site-packages/xgboost/sklearn.py:888: UserWarning: The use of label encoder in XGBClassifier is deprecated and will be removed in a future release. To remove this warning, do the following: 1) Pass option use_label_encoder=False when constructing XGBClassifier object; and 2) Encode your labels (y) as integers starting with 0, i.e. 0, 1, 2, ..., [num_class - 1].\n",
      "  warnings.warn(label_encoder_deprecation_msg, UserWarning)\n"
     ]
    },
    {
     "data": {
      "text/plain": [
       "XGBClassifier(base_score=0.5, booster='gbtree', colsample_bylevel=1,\n",
       "              colsample_bynode=1, colsample_bytree=1, gamma=0, gpu_id=-1,\n",
       "              importance_type='gain', interaction_constraints='',\n",
       "              learning_rate=0.300000012, max_delta_step=0, max_depth=6,\n",
       "              min_child_weight=1, missing=nan, monotone_constraints='()',\n",
       "              n_estimators=100, n_jobs=12, num_parallel_tree=1, random_state=5,\n",
       "              reg_alpha=0, reg_lambda=1, scale_pos_weight=1, subsample=1,\n",
       "              tree_method='exact', validate_parameters=1, verbosity=0)"
      ]
     },
     "execution_count": 57,
     "metadata": {},
     "output_type": "execute_result"
    }
   ],
   "source": [
    "clf.fit(X_g,y_g)\n"
   ]
  },
  {
   "cell_type": "code",
   "execution_count": 58,
   "metadata": {},
   "outputs": [],
   "source": [
    "qres = test_metrics(X_g,X_test,y_g,y_test, clf, \"XGBoost: double oversample\")"
   ]
  },
  {
   "cell_type": "code",
   "execution_count": 60,
   "metadata": {},
   "outputs": [
    {
     "data": {
      "text/plain": [
       "array([[119,   8],\n",
       "       [  2,   6]])"
      ]
     },
     "execution_count": 60,
     "metadata": {},
     "output_type": "execute_result"
    }
   ],
   "source": [
    "prediction = clf.predict(X_test)\n",
    "\n",
    "confusion_matrix(y_test,prediction)"
   ]
  },
  {
   "cell_type": "code",
   "execution_count": null,
   "metadata": {},
   "outputs": [],
   "source": []
  }
 ],
 "metadata": {
  "kernelspec": {
   "display_name": "Python 3",
   "language": "python",
   "name": "python3"
  },
  "language_info": {
   "codemirror_mode": {
    "name": "ipython",
    "version": 3
   },
   "file_extension": ".py",
   "mimetype": "text/x-python",
   "name": "python",
   "nbconvert_exporter": "python",
   "pygments_lexer": "ipython3",
   "version": "3.7.6"
  }
 },
 "nbformat": 4,
 "nbformat_minor": 4
}
