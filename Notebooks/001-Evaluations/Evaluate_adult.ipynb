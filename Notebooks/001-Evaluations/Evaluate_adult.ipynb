{
 "cells": [
  {
   "cell_type": "code",
   "execution_count": 9,
   "metadata": {},
   "outputs": [],
   "source": [
    "from sklearn import preprocessing\n",
    "le = preprocessing.LabelEncoder()\n",
    "random_state=4\n",
    "import pandas as pd\n",
    "from Evaluation import synthsonic, writetodict, plotter, plot_oversampling, evaluate_oversamplers\n",
    "import smote_variants as sv\n",
    "from sklearn.tree import DecisionTreeClassifier"
   ]
  },
  {
   "cell_type": "code",
   "execution_count": 5,
   "metadata": {},
   "outputs": [
    {
     "data": {
      "image/png": "[encoded data removed]",
      "text/plain": [
       "<Figure size 432x288 with 1 Axes>"
      ]
     },
     "metadata": {
      "needs_background": "light"
     },
     "output_type": "display_data"
    },
    {
     "name": "stdout",
     "output_type": "stream",
     "text": [
      "Counter({'<=50K': 24720, '>50K': 7841})\n"
     ]
    }
   ],
   "source": [
    "# loading datasets\n",
    "\n",
    "path = \"/Users/tristenmarto/Documents/Studie/Thesis/Synthsonic_data_analysis/Datasets/\"\n",
    "data = path+\"adult.csv\"\n",
    "\n",
    "data = pd.read_csv(data)\n",
    "\n",
    "plotter(data.iloc[:,:-1].values,data.iloc[:,-1].values, \"distribution\")\n",
    "\n",
    "obcol = data.select_dtypes(include=['object'])\n",
    "\n",
    "for col in obcol :\n",
    "    data[col] = le.fit_transform(data[col])\n",
    "\n",
    "\n",
    "data_dict = writetodict(data, 'adult')\n",
    "X,y,name = data_dict['data'],data_dict['target'],data_dict['name']"
   ]
  },
  {
   "cell_type": "code",
   "execution_count": 10,
   "metadata": {},
   "outputs": [],
   "source": [
    "datasets = [data_dict]\n",
    "oversamplers = [synthsonic, sv.NoSMOTE, sv.SMOTE, sv.NT_SMOTE, sv.SMOTE_D]\n",
    "classifier = DecisionTreeClassifier(random_state=random_state)\n",
    "random_state = random_state"
   ]
  },
  {
   "cell_type": "code",
   "execution_count": 11,
   "metadata": {},
   "outputs": [
    {
     "name": "stderr",
     "output_type": "stream",
     "text": [
      "2021-06-03 13:50:43,412:INFO:synthsonic: Running sampling via ('synthsonic', \"{'proportion': 1.0, 'n_jobs': 1, 'distinct_threshold': -1, 'random_state': RandomState(MT19937) at 0x7FA3505A6270}\")\n",
      "2021-06-03 13:50:43,412:INFO:synthsonic: Running sampling via ('synthsonic', \"{'proportion': 1.0, 'n_jobs': 1, 'distinct_threshold': -1, 'random_state': RandomState(MT19937) at 0x7FA3505A6270}\")\n"
     ]
    },
    {
     "name": "stdout",
     "output_type": "stream",
     "text": [
      "('synthsonic', \"{'proportion': 1.0, 'n_jobs': 1, 'distinct_threshold': -1, 'random_state': RandomState(MT19937) at 0x7FA3505A6270}\")\n",
      "minority class 1, min dataset (5246, 14)\n"
     ]
    },
    {
     "name": "stderr",
     "output_type": "stream",
     "text": [
      "Building tree: 100%|██████████| 78/78.0 [00:00<00:00, 917.09it/s]\n",
      "Generating for node: 13: 100%|██████████| 14/14 [00:04<00:00,  3.28it/s]\n",
      "/Users/tristenmarto/anaconda3/lib/python3.7/site-packages/sklearn/isotonic.py:71: UserWarning: Confidence interval of the Spearman correlation coefficient spans zero. Determination of ``increasing`` may be suspect.\n",
      "  warnings.warn(\"Confidence interval of the Spearman \"\n",
      "Generating for node: 13: 100%|██████████| 14/14 [00:01<00:00, 11.51it/s]\n",
      "2021-06-03 13:50:56,607:INFO:NoSMOTE: Running sampling via ('NoSMOTE', '{}')\n",
      "2021-06-03 13:50:56,607:INFO:NoSMOTE: Running sampling via ('NoSMOTE', '{}')\n",
      "2021-06-03 13:50:56,699:INFO:SMOTE: Running sampling via ('SMOTE', \"{'proportion': 1.0, 'n_neighbors': 5, 'n_jobs': 1, 'random_state': 4}\")\n",
      "2021-06-03 13:50:56,699:INFO:SMOTE: Running sampling via ('SMOTE', \"{'proportion': 1.0, 'n_neighbors': 5, 'n_jobs': 1, 'random_state': 4}\")\n"
     ]
    },
    {
     "name": "stdout",
     "output_type": "stream",
     "text": [
      "('NoSMOTE', '{}')\n",
      "('SMOTE', \"{'proportion': 1.0, 'n_neighbors': 5, 'n_jobs': 1, 'random_state': 4}\")\n"
     ]
    },
    {
     "name": "stderr",
     "output_type": "stream",
     "text": [
      "2021-06-03 13:50:56,922:INFO:NT_SMOTE: Running sampling via ('NT_SMOTE', \"{'proportion': 1.0, 'n_jobs': 1, 'random_state': 4}\")\n",
      "2021-06-03 13:50:56,922:INFO:NT_SMOTE: Running sampling via ('NT_SMOTE', \"{'proportion': 1.0, 'n_jobs': 1, 'random_state': 4}\")\n"
     ]
    },
    {
     "name": "stdout",
     "output_type": "stream",
     "text": [
      "('NT_SMOTE', \"{'proportion': 1.0, 'n_jobs': 1, 'random_state': 4}\")\n"
     ]
    },
    {
     "name": "stderr",
     "output_type": "stream",
     "text": [
      "2021-06-03 13:50:57,220:INFO:SMOTE_D: Running sampling via ('SMOTE_D', \"{'proportion': 1.0, 'k': 3, 'n_jobs': 1, 'random_state': 4}\")\n",
      "2021-06-03 13:50:57,220:INFO:SMOTE_D: Running sampling via ('SMOTE_D', \"{'proportion': 1.0, 'k': 3, 'n_jobs': 1, 'random_state': 4}\")\n"
     ]
    },
    {
     "name": "stdout",
     "output_type": "stream",
     "text": [
      "('SMOTE_D', \"{'proportion': 1.0, 'k': 3, 'n_jobs': 1, 'random_state': 4}\")\n"
     ]
    }
   ],
   "source": [
    "results = evaluate_oversamplers(datasets, oversamplers, classifier, random_state)"
   ]
  },
  {
   "cell_type": "code",
   "execution_count": 12,
   "metadata": {},
   "outputs": [
    {
     "data": {
      "text/html": [
       "<div>\n",
       "<style scoped>\n",
       "    .dataframe tbody tr th:only-of-type {\n",
       "        vertical-align: middle;\n",
       "    }\n",
       "\n",
       "    .dataframe tbody tr th {\n",
       "        vertical-align: top;\n",
       "    }\n",
       "\n",
       "    .dataframe thead th {\n",
       "        text-align: right;\n",
       "    }\n",
       "</style>\n",
       "<table border=\"1\" class=\"dataframe\">\n",
       "  <thead>\n",
       "    <tr style=\"text-align: right;\">\n",
       "      <th></th>\n",
       "      <th>dataset</th>\n",
       "      <th>sampler</th>\n",
       "      <th>clf_score</th>\n",
       "      <th>recall</th>\n",
       "      <th>roc_auc_score</th>\n",
       "      <th>f1_score</th>\n",
       "      <th>brier_score_loss</th>\n",
       "      <th>runtime</th>\n",
       "    </tr>\n",
       "  </thead>\n",
       "  <tbody>\n",
       "    <tr>\n",
       "      <th>0</th>\n",
       "      <td>adult</td>\n",
       "      <td>synthsonic</td>\n",
       "      <td>0.813419</td>\n",
       "      <td>0.627360</td>\n",
       "      <td>0.750007</td>\n",
       "      <td>0.618894</td>\n",
       "      <td>0.186581</td>\n",
       "      <td>13.043810</td>\n",
       "    </tr>\n",
       "    <tr>\n",
       "      <th>1</th>\n",
       "      <td>adult</td>\n",
       "      <td>NoSMOTE</td>\n",
       "      <td>0.811186</td>\n",
       "      <td>0.613487</td>\n",
       "      <td>0.743807</td>\n",
       "      <td>0.610781</td>\n",
       "      <td>0.188814</td>\n",
       "      <td>0.003210</td>\n",
       "    </tr>\n",
       "    <tr>\n",
       "      <th>2</th>\n",
       "      <td>adult</td>\n",
       "      <td>SMOTE</td>\n",
       "      <td>0.802252</td>\n",
       "      <td>0.619653</td>\n",
       "      <td>0.740019</td>\n",
       "      <td>0.602134</td>\n",
       "      <td>0.197748</td>\n",
       "      <td>0.064674</td>\n",
       "    </tr>\n",
       "    <tr>\n",
       "      <th>3</th>\n",
       "      <td>adult</td>\n",
       "      <td>NT_SMOTE</td>\n",
       "      <td>0.800949</td>\n",
       "      <td>0.621580</td>\n",
       "      <td>0.739817</td>\n",
       "      <td>0.601305</td>\n",
       "      <td>0.199051</td>\n",
       "      <td>0.144231</td>\n",
       "    </tr>\n",
       "    <tr>\n",
       "      <th>4</th>\n",
       "      <td>adult</td>\n",
       "      <td>SMOTE_D</td>\n",
       "      <td>0.817886</td>\n",
       "      <td>0.640848</td>\n",
       "      <td>0.757717</td>\n",
       "      <td>0.629567</td>\n",
       "      <td>0.182044</td>\n",
       "      <td>0.149441</td>\n",
       "    </tr>\n",
       "  </tbody>\n",
       "</table>\n",
       "</div>"
      ],
      "text/plain": [
       "  dataset     sampler  clf_score    recall  roc_auc_score  f1_score  \\\n",
       "0   adult  synthsonic   0.813419  0.627360       0.750007  0.618894   \n",
       "1   adult     NoSMOTE   0.811186  0.613487       0.743807  0.610781   \n",
       "2   adult       SMOTE   0.802252  0.619653       0.740019  0.602134   \n",
       "3   adult    NT_SMOTE   0.800949  0.621580       0.739817  0.601305   \n",
       "4   adult     SMOTE_D   0.817886  0.640848       0.757717  0.629567   \n",
       "\n",
       "   brier_score_loss    runtime  \n",
       "0          0.186581  13.043810  \n",
       "1          0.188814   0.003210  \n",
       "2          0.197748   0.064674  \n",
       "3          0.199051   0.144231  \n",
       "4          0.182044   0.149441  "
      ]
     },
     "execution_count": 12,
     "metadata": {},
     "output_type": "execute_result"
    }
   ],
   "source": [
    "resultdf = pd.DataFrame(results)\n",
    "resultdf"
   ]
  },
  {
   "cell_type": "code",
   "execution_count": null,
   "metadata": {},
   "outputs": [],
   "source": []
  }
 ],
 "metadata": {
  "kernelspec": {
   "display_name": "Python 3",
   "language": "python",
   "name": "python3"
  },
  "language_info": {
   "codemirror_mode": {
    "name": "ipython",
    "version": 3
   },
   "file_extension": ".py",
   "mimetype": "text/x-python",
   "name": "python",
   "nbconvert_exporter": "python",
   "pygments_lexer": "ipython3",
   "version": "3.7.6"
  }
 },
 "nbformat": 4,
 "nbformat_minor": 4
}
