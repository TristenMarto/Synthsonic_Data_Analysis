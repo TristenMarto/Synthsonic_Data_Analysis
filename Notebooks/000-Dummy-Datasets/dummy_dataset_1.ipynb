{
 "cells": [
  {
   "cell_type": "code",
   "execution_count": 34,
   "metadata": {},
   "outputs": [],
   "source": [
    "import sdgym\n",
    "from sdgym import load_dataset\n",
    "from sdgym import benchmark"
   ]
  },
  {
   "cell_type": "code",
   "execution_count": 35,
   "metadata": {},
   "outputs": [],
   "source": [
    "import pgmpy\n",
    "from imblearn.over_sampling import SMOTE, BorderlineSMOTE\n",
    "from collections import Counter"
   ]
  },
  {
   "cell_type": "code",
   "execution_count": 36,
   "metadata": {},
   "outputs": [],
   "source": [
    "import numpy as np\n",
    "import pandas as pd\n",
    "import matplotlib.pyplot as plt\n",
    "import networkx as nx\n",
    "\n",
    "from sklearn import datasets"
   ]
  },
  {
   "cell_type": "code",
   "execution_count": 37,
   "metadata": {},
   "outputs": [],
   "source": [
    "from synthsonic.models.kde_copula_nn_pdf import KDECopulaNNPdf"
   ]
  },
  {
   "cell_type": "code",
   "execution_count": 38,
   "metadata": {},
   "outputs": [],
   "source": [
    "def plotter(X,y,title) :\n",
    "    \n",
    "    counter = Counter(y)\n",
    "    \n",
    "    for label, _ in counter.items() :\n",
    "        rowix = np.where(y == label)[0]\n",
    "        plt.scatter(X[rowix, 0], X[rowix, 1], label=str(label))\n",
    "    plt.legend()\n",
    "    plt.title(title)\n",
    "    plt.show()\n",
    "\n",
    "    print(counter)"
   ]
  },
  {
   "cell_type": "code",
   "execution_count": 39,
   "metadata": {},
   "outputs": [
    {
     "data": {
      "image/png": "[encoded data removed]",
      "text/plain": [
       "<Figure size 432x288 with 1 Axes>"
      ]
     },
     "metadata": {
      "needs_background": "light"
     },
     "output_type": "display_data"
    },
    {
     "name": "stdout",
     "output_type": "stream",
     "text": [
      "Counter({0: 49500, 1: 500})\n"
     ]
    }
   ],
   "source": [
    "X, y = datasets.make_classification(n_samples=50000, n_features = 4, n_redundant=0, \n",
    "                           n_clusters_per_class=1, weights=[0.99], flip_y=0, random_state=7)\n",
    "\n",
    "counter = Counter(y)\n",
    "\n",
    "\n",
    "plotter(X,y,\"original\")"
   ]
  },
  {
   "cell_type": "code",
   "execution_count": 48,
   "metadata": {},
   "outputs": [
    {
     "data": {
      "text/plain": [
       "array([49500,   500])"
      ]
     },
     "execution_count": 48,
     "metadata": {},
     "output_type": "execute_result"
    }
   ],
   "source": [
    "unique, counts = np.unique(y, return_counts=True)\n",
    "\n",
    "# unique are class labels\n",
    "unique\n",
    "\n",
    "# counts are samples in each label\n",
    "counts"
   ]
  },
  {
   "cell_type": "code",
   "execution_count": 52,
   "metadata": {},
   "outputs": [
    {
     "data": {
      "text/plain": [
       "49500"
      ]
     },
     "execution_count": 52,
     "metadata": {},
     "output_type": "execute_result"
    }
   ],
   "source": [
    "counter = Counter(y)"
   ]
  },
  {
   "cell_type": "code",
   "execution_count": 49,
   "metadata": {},
   "outputs": [
    {
     "data": {
      "text/plain": [
       "{0: 49500, 1: 500}"
      ]
     },
     "execution_count": 49,
     "metadata": {},
     "output_type": "execute_result"
    }
   ],
   "source": [
    "stats = dict(zip(unique,counts))\n",
    "stats"
   ]
  },
  {
   "cell_type": "code",
   "execution_count": 53,
   "metadata": {},
   "outputs": [],
   "source": [
    "min_label = unique[0] if counts[0] < counts[1] else unique[1]\n",
    "maj_label = unique[1] if counts[0] < counts[1] else unique[0]"
   ]
  },
  {
   "cell_type": "code",
   "execution_count": 55,
   "metadata": {},
   "outputs": [
    {
     "data": {
      "text/plain": [
       "49500"
      ]
     },
     "execution_count": 55,
     "metadata": {},
     "output_type": "execute_result"
    }
   ],
   "source": [
    "stats[maj_label]"
   ]
  },
  {
   "cell_type": "code",
   "execution_count": 59,
   "metadata": {},
   "outputs": [
    {
     "data": {
      "text/plain": [
       "array([False, False, False, ..., False, False, False])"
      ]
     },
     "execution_count": 59,
     "metadata": {},
     "output_type": "execute_result"
    }
   ],
   "source": [
    "y == min_label"
   ]
  },
  {
   "cell_type": "code",
   "execution_count": 57,
   "metadata": {},
   "outputs": [
    {
     "data": {
      "text/plain": [
       "array([[-0.5383974 , -1.17065541,  1.20122678,  1.1759992 ],\n",
       "       [-1.44466014,  2.36677317,  0.71092791, -0.18995645],\n",
       "       [-0.54813406, -0.22692635,  1.29137513,  0.73473072],\n",
       "       ...,\n",
       "       [-1.16488586,  0.24663065,  1.37620777,  0.2876798 ],\n",
       "       [-1.19060351, -1.09323529,  1.34794922,  1.17603888],\n",
       "       [-1.49856309,  1.49036121,  1.34890631, -0.51312606]])"
      ]
     },
     "execution_count": 57,
     "metadata": {},
     "output_type": "execute_result"
    }
   ],
   "source": [
    "X_min = X[y == min_label]\n",
    "X_min"
   ]
  },
  {
   "cell_type": "code",
   "execution_count": 72,
   "metadata": {},
   "outputs": [
    {
     "data": {
      "text/plain": [
       "(50050, array([0, 0, 0, ..., 1, 1, 1]))"
      ]
     },
     "execution_count": 72,
     "metadata": {},
     "output_type": "execute_result"
    }
   ],
   "source": [
    "len(np.hstack([y, [min_label]*50])), np.hstack([y, [min_label]*50])"
   ]
  },
  {
   "cell_type": "code",
   "execution_count": 73,
   "metadata": {},
   "outputs": [
    {
     "data": {
      "text/plain": [
       "(50050, array([0, 0, 0, ..., 1, 1, 1]))"
      ]
     },
     "execution_count": 73,
     "metadata": {},
     "output_type": "execute_result"
    }
   ],
   "source": [
    "len(np.hstack([y, np.hstack([min_label]*50)])), np.hstack([y, np.hstack([min_label]*50)])"
   ]
  },
  {
   "cell_type": "code",
   "execution_count": 14,
   "metadata": {},
   "outputs": [
    {
     "name": "stdout",
     "output_type": "stream",
     "text": [
      "0 50000\n",
      "1 50000\n",
      "2 50000\n",
      "3 50000\n"
     ]
    }
   ],
   "source": [
    "for i in range(X.shape[1]) :\n",
    "    print(i, len(np.unique(X[:,i])))"
   ]
  },
  {
   "cell_type": "code",
   "execution_count": 15,
   "metadata": {},
   "outputs": [
    {
     "data": {
      "text/plain": [
       "KDECopulaNNPdf()"
      ]
     },
     "execution_count": 15,
     "metadata": {},
     "output_type": "execute_result"
    }
   ],
   "source": [
    "kde = KDECopulaNNPdf()\n",
    "kde"
   ]
  },
  {
   "cell_type": "code",
   "execution_count": 17,
   "metadata": {},
   "outputs": [
    {
     "name": "stderr",
     "output_type": "stream",
     "text": [
      "Building tree: 100%|██████████| 3/3.0 [00:00<00:00, 2610.56it/s]\n",
      "Generating for node: 2: 100%|██████████| 4/4 [00:01<00:00,  3.96it/s]\n"
     ]
    }
   ],
   "source": [
    "kde = kde.fit(X)"
   ]
  },
  {
   "cell_type": "code",
   "execution_count": 19,
   "metadata": {},
   "outputs": [],
   "source": [
    "x_g, weight = kde.sample(n_samples=X.shape[0])"
   ]
  },
  {
   "cell_type": "code",
   "execution_count": 23,
   "metadata": {},
   "outputs": [
    {
     "data": {
      "image/png": "[encoded data removed]",
      "text/plain": [
       "<Figure size 432x288 with 1 Axes>"
      ]
     },
     "metadata": {
      "needs_background": "light"
     },
     "output_type": "display_data"
    },
    {
     "data": {
      "text/plain": [
       "Text(0.5, 1.0, 'generated')"
      ]
     },
     "execution_count": 23,
     "metadata": {},
     "output_type": "execute_result"
    },
    {
     "data": {
      "image/png": "[encoded data removed]",
      "text/plain": [
       "<Figure size 432x288 with 1 Axes>"
      ]
     },
     "metadata": {
      "needs_background": "light"
     },
     "output_type": "display_data"
    }
   ],
   "source": [
    "i = 1\n",
    "j = 2\n",
    "plt.scatter(X[:,i],X[:,j])\n",
    "plt.title(\"original\")\n",
    "plt.show()\n",
    "\n",
    "plt.scatter(X[:,i],X[:,j])\n",
    "plt.title(\"generated\")"
   ]
  },
  {
   "cell_type": "markdown",
   "metadata": {},
   "source": [
    "## focus on oversampling"
   ]
  },
  {
   "cell_type": "code",
   "execution_count": 24,
   "metadata": {},
   "outputs": [],
   "source": [
    "# Smote\n",
    "smote = SMOTE()\n",
    "bsmote = BorderlineSMOTE()\n",
    "\n",
    "\n",
    "x1,y1 = smote.fit_resample(X,y)\n",
    "\n",
    "# borderline smote\n",
    "x2,y2 = bsmote.fit_resample(X,y)"
   ]
  },
  {
   "cell_type": "code",
   "execution_count": 27,
   "metadata": {},
   "outputs": [
    {
     "name": "stderr",
     "output_type": "stream",
     "text": [
      "Building tree: 100%|██████████| 3/3.0 [00:00<00:00, 2375.03it/s]\n",
      "Generating for node: 3: 100%|██████████| 4/4 [00:00<00:00,  5.01it/s]\n"
     ]
    }
   ],
   "source": [
    "# Synthsonic\n",
    "trow = np.where(y == 1)[0]\n",
    "m = X[trow, :]\n",
    "\n",
    "kde = KDECopulaNNPdf()\n",
    "kde = kde.fit(m)\n",
    "\n",
    "big = counter[0] - counter[1]\n",
    "\n",
    "x_g, weight = kde.sample(n_samples=big)\n",
    "\n"
   ]
  },
  {
   "cell_type": "code",
   "execution_count": 28,
   "metadata": {},
   "outputs": [],
   "source": [
    "x3 = np.concatenate([X,x_g])\n",
    "y3 = np.concatenate([y,np.ones(x_g.shape[0])])"
   ]
  },
  {
   "cell_type": "code",
   "execution_count": 91,
   "metadata": {},
   "outputs": [],
   "source": [
    "def plotter(X,y,title) :\n",
    "    \n",
    "    counter = Counter(y)\n",
    "    \n",
    "    for label, _ in counter.items() :\n",
    "        rowix = np.where(y == label)[0]\n",
    "        plt.scatter(X[rowix, 0], X[rowix, 1], label=str(label))\n",
    "    plt.legend()\n",
    "    plt.title(title)\n",
    "    plt.show()\n",
    "\n",
    "    print(counter)"
   ]
  },
  {
   "cell_type": "code",
   "execution_count": 29,
   "metadata": {},
   "outputs": [
    {
     "data": {
      "image/png": "[encoded data removed]",
      "text/plain": [
       "<Figure size 432x288 with 1 Axes>"
      ]
     },
     "metadata": {
      "needs_background": "light"
     },
     "output_type": "display_data"
    },
    {
     "name": "stdout",
     "output_type": "stream",
     "text": [
      "Counter({0: 49500, 1: 49500})\n"
     ]
    },
    {
     "data": {
      "image/png": "[encoded data removed]",
      "text/plain": [
       "<Figure size 432x288 with 1 Axes>"
      ]
     },
     "metadata": {
      "needs_background": "light"
     },
     "output_type": "display_data"
    },
    {
     "name": "stdout",
     "output_type": "stream",
     "text": [
      "Counter({0: 49500, 1: 49500})\n"
     ]
    },
    {
     "data": {
      "image/png": "[encoded data removed]",
      "text/plain": [
       "<Figure size 432x288 with 1 Axes>"
      ]
     },
     "metadata": {
      "needs_background": "light"
     },
     "output_type": "display_data"
    },
    {
     "name": "stdout",
     "output_type": "stream",
     "text": [
      "Counter({0.0: 49500, 1.0: 49500})\n"
     ]
    }
   ],
   "source": [
    "plotter(x1,y1, \"SMOTE\")\n",
    "\n",
    "plotter(x2,y2, \"Borderline SMOTE\")\n",
    "\n",
    "plotter(x3,y3, \"synthsonic\")"
   ]
  },
  {
   "cell_type": "markdown",
   "metadata": {},
   "source": [
    "# classification test"
   ]
  },
  {
   "cell_type": "code",
   "execution_count": 30,
   "metadata": {},
   "outputs": [],
   "source": [
    "from sklearn.tree import DecisionTreeClassifier\n",
    "from sklearn.model_selection import cross_val_score\n",
    "from sklearn.model_selection import RepeatedStratifiedKFold\n",
    "\n"
   ]
  },
  {
   "cell_type": "code",
   "execution_count": 31,
   "metadata": {},
   "outputs": [],
   "source": [
    "def scorer(X,y) :\n",
    "    \n",
    "    # define model\n",
    "    model = DecisionTreeClassifier()\n",
    "    # define evaluation procedure\n",
    "    cv = RepeatedStratifiedKFold(n_splits=10, n_repeats=3, random_state=1)\n",
    "    # evaluate model\n",
    "    scores = cross_val_score(model, X, y, scoring='roc_auc', cv=cv, n_jobs=-1)\n",
    "    # summarize performance\n",
    "    print('Mean ROC AUC: %.3f' % np.mean(scores))"
   ]
  },
  {
   "cell_type": "code",
   "execution_count": 32,
   "metadata": {},
   "outputs": [],
   "source": [
    "xs = [X,x1,x2,x3]\n",
    "ys = [y,y1,y2,y3]"
   ]
  },
  {
   "cell_type": "code",
   "execution_count": 33,
   "metadata": {},
   "outputs": [
    {
     "name": "stdout",
     "output_type": "stream",
     "text": [
      "x0, y0\n",
      "Mean ROC AUC: 0.949\n",
      "x1, y1\n",
      "Mean ROC AUC: 0.998\n",
      "x2, y2\n",
      "Mean ROC AUC: 0.998\n",
      "x3, y3\n",
      "Mean ROC AUC: 0.996\n"
     ]
    }
   ],
   "source": [
    "i = 0\n",
    "for a,b in zip(xs,ys) :\n",
    "    print(f\"x{i}, y{i}\")\n",
    "    scorer(a,b)\n",
    "    i += 1"
   ]
  },
  {
   "cell_type": "code",
   "execution_count": 145,
   "metadata": {},
   "outputs": [
    {
     "data": {
      "text/plain": [
       "array([[  0,   1,   0, ...,   0,   0,  40],\n",
       "       [  0,   0,   0, ...,   0,   0,   1],\n",
       "       [ -1,  -2,   0, ...,   0,   0,  96],\n",
       "       ...,\n",
       "       [  1,   0,   0, ...,   0,   0,  34],\n",
       "       [  1,  -1,   0, ...,   0,   0, 171],\n",
       "       [  0,   0,   1, ...,   0,   0,  15]])"
      ]
     },
     "execution_count": 145,
     "metadata": {},
     "output_type": "execute_result"
    }
   ],
   "source": []
  },
  {
   "cell_type": "code",
   "execution_count": null,
   "metadata": {},
   "outputs": [],
   "source": []
  }
 ],
 "metadata": {
  "kernelspec": {
   "display_name": "Python 3",
   "language": "python",
   "name": "python3"
  },
  "language_info": {
   "codemirror_mode": {
    "name": "ipython",
    "version": 3
   },
   "file_extension": ".py",
   "mimetype": "text/x-python",
   "name": "python",
   "nbconvert_exporter": "python",
   "pygments_lexer": "ipython3",
   "version": "3.7.6"
  }
 },
 "nbformat": 4,
 "nbformat_minor": 4
}
