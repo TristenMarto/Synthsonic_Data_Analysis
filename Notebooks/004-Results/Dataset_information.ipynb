{
 "cells": [
  {
   "cell_type": "code",
   "execution_count": 1,
   "metadata": {},
   "outputs": [],
   "source": [
    "import numpy as np\n",
    "import pandas as pd\n",
    "import pathlib\n",
    "import sys\n",
    "sys.path.append(str(pathlib.Path.cwd().parents[1]))"
   ]
  },
  {
   "cell_type": "code",
   "execution_count": 32,
   "metadata": {},
   "outputs": [],
   "source": [
    "home_folder = pathlib.Path.cwd().parents[1]\n",
    "path = home_folder.joinpath(home_folder, 'CSV_results')\n",
    "df_info = pd.read_csv(path.joinpath('dataset_info.csv'))\n",
    "ints = ['size','features','numerical_features','categorical_features','majority','minority']\n",
    "df_info.loc[:,ints] = df_info.loc[:,ints].astype(int)\n",
    "df_info.loc[:,'imbalance_ratio']\n",
    "df_info.drop(columns=['imbalance_ratio','type'],inplace=True)"
   ]
  },
  {
   "cell_type": "code",
   "execution_count": 33,
   "metadata": {},
   "outputs": [],
   "source": [
    "from fractions import Fraction\n",
    "zipper = zip(df_info['majority'], df_info['minority'])\n",
    "df_info['imbalance_ratio'] = [f'{round(x/y, 1)}:1' for x,y in zipper]\n",
    "df_info.drop(columns=['majority', 'minority'], inplace = True)"
   ]
  },
  {
   "cell_type": "code",
   "execution_count": 40,
   "metadata": {},
   "outputs": [
    {
     "name": "stdout",
     "output_type": "stream",
     "text": [
      "\\begin{tabular}{lrrrrl}\n",
      "\\toprule\n",
      "        dataset &    size &  features &  numerical\\_features &  categorical\\_features & imbalance\\_ratio \\\\\n",
      "\\midrule\n",
      "          ecoli &     336 &         7 &                   5 &                     2 &           8.6:1 \\\\\n",
      " optical\\_digits &    5620 &        64 &                   0 &                    64 &           9.1:1 \\\\\n",
      "       satimage &    6435 &        36 &                  36 &                     0 &           9.3:1 \\\\\n",
      "     pen\\_digits &   10992 &        16 &                  16 &                     0 &           9.4:1 \\\\\n",
      "        abalone &    4177 &        10 &                   7 &                     3 &           9.7:1 \\\\\n",
      " sick\\_euthyroid &    3163 &        42 &                   6 &                    36 &           9.8:1 \\\\\n",
      "   spectrometer &     531 &        93 &                  93 &                     0 &          10.8:1 \\\\\n",
      "    car\\_eval\\_34 &    1728 &        21 &                   0 &                    21 &          11.9:1 \\\\\n",
      "         isolet &    7797 &       617 &                 610 &                     7 &          12.0:1 \\\\\n",
      "       us\\_crime &    1994 &       100 &                  99 &                     1 &          12.3:1 \\\\\n",
      "      yeast\\_ml8 &    2417 &       103 &                 103 &                     0 &          12.6:1 \\\\\n",
      "          scene &    2407 &       294 &                 294 &                     0 &          12.6:1 \\\\\n",
      "    libras\\_move &     360 &        90 &                  90 &                     0 &          14.0:1 \\\\\n",
      "   thyroid\\_sick &    3772 &        52 &                   6 &                    46 &          15.3:1 \\\\\n",
      "      coil\\_2000 &    9822 &        85 &                   1 &                    84 &          15.8:1 \\\\\n",
      "     arrhythmia &     452 &       278 &                 137 &                   141 &          17.1:1 \\\\\n",
      " solar\\_flare\\_m0 &    1389 &        32 &                   0 &                    32 &          19.4:1 \\\\\n",
      "            oil &     937 &        49 &                  39 &                    10 &          21.9:1 \\\\\n",
      "     car\\_eval\\_4 &    1728 &        21 &                   0 &                    21 &          25.6:1 \\\\\n",
      "   wine\\_quality &    4898 &        11 &                  11 &                     0 &          25.8:1 \\\\\n",
      "     letter\\_img &   20000 &        16 &                   0 &                    16 &          26.2:1 \\\\\n",
      "      yeast\\_me2 &    1484 &         8 &                   6 &                     2 &          28.1:1 \\\\\n",
      "        webpage &   34780 &       300 &                   0 &                   300 &          34.5:1 \\\\\n",
      "    ozone\\_level &    2536 &        72 &                  72 &                     0 &          33.7:1 \\\\\n",
      "    mammography &   11183 &         6 &                   6 &                     0 &          42.0:1 \\\\\n",
      "   protein\\_homo &  145751 &        74 &                  74 &                     0 &         111.5:1 \\\\\n",
      "     abalone\\_19 &    4177 &        10 &                   7 &                     3 &         129.5:1 \\\\\n",
      "\\bottomrule\n",
      "\\end{tabular}\n",
      "\n"
     ]
    }
   ],
   "source": [
    "print(df_info.to_latex(index=False))"
   ]
  },
  {
   "cell_type": "code",
   "execution_count": null,
   "metadata": {},
   "outputs": [],
   "source": []
  },
  {
   "cell_type": "code",
   "execution_count": null,
   "metadata": {},
   "outputs": [],
   "source": []
  },
  {
   "cell_type": "code",
   "execution_count": 15,
   "metadata": {},
   "outputs": [
    {
     "data": {
      "text/plain": [
       "<zip at 0x7fab77bfd460>"
      ]
     },
     "execution_count": 15,
     "metadata": {},
     "output_type": "execute_result"
    }
   ],
   "source": []
  },
  {
   "cell_type": "code",
   "execution_count": null,
   "metadata": {},
   "outputs": [],
   "source": []
  }
 ],
 "metadata": {
  "kernelspec": {
   "display_name": "Python 3",
   "language": "python",
   "name": "python3"
  },
  "language_info": {
   "codemirror_mode": {
    "name": "ipython",
    "version": 3
   },
   "file_extension": ".py",
   "mimetype": "text/x-python",
   "name": "python",
   "nbconvert_exporter": "python",
   "pygments_lexer": "ipython3",
   "version": "3.7.6"
  }
 },
 "nbformat": 4,
 "nbformat_minor": 4
}
