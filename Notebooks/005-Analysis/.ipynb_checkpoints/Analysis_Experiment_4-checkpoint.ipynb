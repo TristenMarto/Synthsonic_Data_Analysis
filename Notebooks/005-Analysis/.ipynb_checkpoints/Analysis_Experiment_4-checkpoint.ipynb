{
 "cells": [
  {
   "cell_type": "code",
   "execution_count": 1,
   "metadata": {},
   "outputs": [],
   "source": [
    "import os\n",
    "import sys\n",
    "import numpy as np\n",
    "import pandas as pd\n",
    "import matplotlib.pyplot as plt\n",
    "from sklearn.tree import DecisionTreeClassifier"
   ]
  },
  {
   "cell_type": "code",
   "execution_count": 2,
   "metadata": {},
   "outputs": [],
   "source": [
    "input_path = \"/Users/tristenmarto/Documents/Studie/Thesis/Synthsonic_data_analysis/CSV_results/Experiment4/\""
   ]
  },
  {
   "cell_type": "code",
   "execution_count": 3,
   "metadata": {},
   "outputs": [],
   "source": [
    "base = pd.read_csv(input_path+\"base_case_dectree.csv\")"
   ]
  },
  {
   "cell_type": "code",
   "execution_count": 4,
   "metadata": {},
   "outputs": [],
   "source": [
    "dfs = []\n",
    "for file in os.listdir(input_path) :\n",
    "    dfs.append(pd.read_csv(input_path+file))\n",
    "    \n",
    "total = pd.concat(dfs, ignore_index=True)"
   ]
  },
  {
   "cell_type": "code",
   "execution_count": 5,
   "metadata": {},
   "outputs": [],
   "source": [
    "def get_best(df, dataset, metric) :\n",
    "    \n",
    "    temp_df = df[df['dataset'] == dataset]\n",
    "    \n",
    "    return df.loc[temp_df.groupby('oversampler')[metric].idxmax()].sort_values(metric, ascending=False)"
   ]
  },
  {
   "cell_type": "code",
   "execution_count": 6,
   "metadata": {},
   "outputs": [],
   "source": [
    "temp = []\n",
    "for dataset in total['dataset'].unique() :\n",
    "    temp.append(get_best(total,dataset,'avg_precision (AUPRC)'))\n",
    "    \n",
    "best_performers = pd.concat(temp)\n",
    "best_performers = pd.concat([best_performers,base])"
   ]
  },
  {
   "cell_type": "code",
   "execution_count": 7,
   "metadata": {},
   "outputs": [
    {
     "data": {
      "text/html": [
       "<div>\n",
       "<style scoped>\n",
       "    .dataframe tbody tr th:only-of-type {\n",
       "        vertical-align: middle;\n",
       "    }\n",
       "\n",
       "    .dataframe tbody tr th {\n",
       "        vertical-align: top;\n",
       "    }\n",
       "\n",
       "    .dataframe thead th {\n",
       "        text-align: right;\n",
       "    }\n",
       "</style>\n",
       "<table border=\"1\" class=\"dataframe\">\n",
       "  <thead>\n",
       "    <tr style=\"text-align: right;\">\n",
       "      <th></th>\n",
       "      <th>dataset</th>\n",
       "      <th>oversampler</th>\n",
       "      <th>proportion</th>\n",
       "      <th>runtime</th>\n",
       "      <th>classifier</th>\n",
       "      <th>balanced_accuracy</th>\n",
       "      <th>geometric_mean</th>\n",
       "      <th>f1_score</th>\n",
       "      <th>precision</th>\n",
       "      <th>recall</th>\n",
       "      <th>avg_precision (AUPRC)</th>\n",
       "      <th>Unnamed: 0</th>\n",
       "    </tr>\n",
       "  </thead>\n",
       "  <tbody>\n",
       "    <tr>\n",
       "      <th>38</th>\n",
       "      <td>ecoli</td>\n",
       "      <td>RandomOverSampler</td>\n",
       "      <td>0.3</td>\n",
       "      <td>0.000945</td>\n",
       "      <td>DecisionTreeClassifier(random_state=5)</td>\n",
       "      <td>0.901515</td>\n",
       "      <td>0.898933</td>\n",
       "      <td>0.800000</td>\n",
       "      <td>0.769231</td>\n",
       "      <td>0.833333</td>\n",
       "      <td>0.659044</td>\n",
       "      <td>NaN</td>\n",
       "    </tr>\n",
       "    <tr>\n",
       "      <th>32</th>\n",
       "      <td>ecoli</td>\n",
       "      <td>Random_SMOTE</td>\n",
       "      <td>0.5</td>\n",
       "      <td>0.004359</td>\n",
       "      <td>DecisionTreeClassifier(random_state=5)</td>\n",
       "      <td>0.928030</td>\n",
       "      <td>0.927961</td>\n",
       "      <td>0.758621</td>\n",
       "      <td>0.647059</td>\n",
       "      <td>0.916667</td>\n",
       "      <td>0.602146</td>\n",
       "      <td>NaN</td>\n",
       "    </tr>\n",
       "    <tr>\n",
       "      <th>50</th>\n",
       "      <td>ecoli</td>\n",
       "      <td>SVMSMOTE</td>\n",
       "      <td>0.3</td>\n",
       "      <td>0.005840</td>\n",
       "      <td>DecisionTreeClassifier(random_state=5)</td>\n",
       "      <td>0.891414</td>\n",
       "      <td>0.889520</td>\n",
       "      <td>0.740741</td>\n",
       "      <td>0.666667</td>\n",
       "      <td>0.833333</td>\n",
       "      <td>0.573574</td>\n",
       "      <td>NaN</td>\n",
       "    </tr>\n",
       "    <tr>\n",
       "      <th>16</th>\n",
       "      <td>ecoli</td>\n",
       "      <td>ADASYN</td>\n",
       "      <td>0.5</td>\n",
       "      <td>0.210751</td>\n",
       "      <td>DecisionTreeClassifier(random_state=5)</td>\n",
       "      <td>0.922980</td>\n",
       "      <td>0.922958</td>\n",
       "      <td>0.733333</td>\n",
       "      <td>0.611111</td>\n",
       "      <td>0.916667</td>\n",
       "      <td>0.569194</td>\n",
       "      <td>NaN</td>\n",
       "    </tr>\n",
       "    <tr>\n",
       "      <th>42</th>\n",
       "      <td>ecoli</td>\n",
       "      <td>SMOTENC</td>\n",
       "      <td>0.5</td>\n",
       "      <td>0.014795</td>\n",
       "      <td>DecisionTreeClassifier(random_state=5)</td>\n",
       "      <td>0.922980</td>\n",
       "      <td>0.922958</td>\n",
       "      <td>0.733333</td>\n",
       "      <td>0.611111</td>\n",
       "      <td>0.916667</td>\n",
       "      <td>0.569194</td>\n",
       "      <td>NaN</td>\n",
       "    </tr>\n",
       "    <tr>\n",
       "      <th>...</th>\n",
       "      <td>...</td>\n",
       "      <td>...</td>\n",
       "      <td>...</td>\n",
       "      <td>...</td>\n",
       "      <td>...</td>\n",
       "      <td>...</td>\n",
       "      <td>...</td>\n",
       "      <td>...</td>\n",
       "      <td>...</td>\n",
       "      <td>...</td>\n",
       "      <td>...</td>\n",
       "      <td>...</td>\n",
       "    </tr>\n",
       "    <tr>\n",
       "      <th>22</th>\n",
       "      <td>webpage</td>\n",
       "      <td>NoOversampling</td>\n",
       "      <td>NaN</td>\n",
       "      <td>NaN</td>\n",
       "      <td>DecisionTreeClassifier()</td>\n",
       "      <td>0.863576</td>\n",
       "      <td>0.855233</td>\n",
       "      <td>0.641811</td>\n",
       "      <td>0.564403</td>\n",
       "      <td>0.743827</td>\n",
       "      <td>0.427049</td>\n",
       "      <td>NaN</td>\n",
       "    </tr>\n",
       "    <tr>\n",
       "      <th>23</th>\n",
       "      <td>ozone_level</td>\n",
       "      <td>NoOversampling</td>\n",
       "      <td>NaN</td>\n",
       "      <td>NaN</td>\n",
       "      <td>DecisionTreeClassifier()</td>\n",
       "      <td>0.629843</td>\n",
       "      <td>0.531356</td>\n",
       "      <td>0.245614</td>\n",
       "      <td>0.212121</td>\n",
       "      <td>0.291667</td>\n",
       "      <td>0.082179</td>\n",
       "      <td>NaN</td>\n",
       "    </tr>\n",
       "    <tr>\n",
       "      <th>24</th>\n",
       "      <td>mammography</td>\n",
       "      <td>NoOversampling</td>\n",
       "      <td>NaN</td>\n",
       "      <td>NaN</td>\n",
       "      <td>DecisionTreeClassifier()</td>\n",
       "      <td>0.815190</td>\n",
       "      <td>0.796041</td>\n",
       "      <td>0.632184</td>\n",
       "      <td>0.625000</td>\n",
       "      <td>0.639535</td>\n",
       "      <td>0.408108</td>\n",
       "      <td>NaN</td>\n",
       "    </tr>\n",
       "    <tr>\n",
       "      <th>25</th>\n",
       "      <td>protein_homo</td>\n",
       "      <td>NoOversampling</td>\n",
       "      <td>NaN</td>\n",
       "      <td>NaN</td>\n",
       "      <td>DecisionTreeClassifier()</td>\n",
       "      <td>0.868943</td>\n",
       "      <td>0.859420</td>\n",
       "      <td>0.722919</td>\n",
       "      <td>0.706013</td>\n",
       "      <td>0.740654</td>\n",
       "      <td>0.525220</td>\n",
       "      <td>NaN</td>\n",
       "    </tr>\n",
       "    <tr>\n",
       "      <th>26</th>\n",
       "      <td>abalone_19</td>\n",
       "      <td>NoOversampling</td>\n",
       "      <td>NaN</td>\n",
       "      <td>NaN</td>\n",
       "      <td>DecisionTreeClassifier()</td>\n",
       "      <td>0.495614</td>\n",
       "      <td>0.000000</td>\n",
       "      <td>0.000000</td>\n",
       "      <td>0.000000</td>\n",
       "      <td>0.000000</td>\n",
       "      <td>0.007977</td>\n",
       "      <td>NaN</td>\n",
       "    </tr>\n",
       "  </tbody>\n",
       "</table>\n",
       "<p>281 rows × 12 columns</p>\n",
       "</div>"
      ],
      "text/plain": [
       "         dataset        oversampler  proportion   runtime  \\\n",
       "38         ecoli  RandomOverSampler         0.3  0.000945   \n",
       "32         ecoli       Random_SMOTE         0.5  0.004359   \n",
       "50         ecoli           SVMSMOTE         0.3  0.005840   \n",
       "16         ecoli             ADASYN         0.5  0.210751   \n",
       "42         ecoli            SMOTENC         0.5  0.014795   \n",
       "..           ...                ...         ...       ...   \n",
       "22       webpage     NoOversampling         NaN       NaN   \n",
       "23   ozone_level     NoOversampling         NaN       NaN   \n",
       "24   mammography     NoOversampling         NaN       NaN   \n",
       "25  protein_homo     NoOversampling         NaN       NaN   \n",
       "26    abalone_19     NoOversampling         NaN       NaN   \n",
       "\n",
       "                                classifier  balanced_accuracy  geometric_mean  \\\n",
       "38  DecisionTreeClassifier(random_state=5)           0.901515        0.898933   \n",
       "32  DecisionTreeClassifier(random_state=5)           0.928030        0.927961   \n",
       "50  DecisionTreeClassifier(random_state=5)           0.891414        0.889520   \n",
       "16  DecisionTreeClassifier(random_state=5)           0.922980        0.922958   \n",
       "42  DecisionTreeClassifier(random_state=5)           0.922980        0.922958   \n",
       "..                                     ...                ...             ...   \n",
       "22                DecisionTreeClassifier()           0.863576        0.855233   \n",
       "23                DecisionTreeClassifier()           0.629843        0.531356   \n",
       "24                DecisionTreeClassifier()           0.815190        0.796041   \n",
       "25                DecisionTreeClassifier()           0.868943        0.859420   \n",
       "26                DecisionTreeClassifier()           0.495614        0.000000   \n",
       "\n",
       "    f1_score  precision    recall  avg_precision (AUPRC)  Unnamed: 0  \n",
       "38  0.800000   0.769231  0.833333               0.659044         NaN  \n",
       "32  0.758621   0.647059  0.916667               0.602146         NaN  \n",
       "50  0.740741   0.666667  0.833333               0.573574         NaN  \n",
       "16  0.733333   0.611111  0.916667               0.569194         NaN  \n",
       "42  0.733333   0.611111  0.916667               0.569194         NaN  \n",
       "..       ...        ...       ...                    ...         ...  \n",
       "22  0.641811   0.564403  0.743827               0.427049         NaN  \n",
       "23  0.245614   0.212121  0.291667               0.082179         NaN  \n",
       "24  0.632184   0.625000  0.639535               0.408108         NaN  \n",
       "25  0.722919   0.706013  0.740654               0.525220         NaN  \n",
       "26  0.000000   0.000000  0.000000               0.007977         NaN  \n",
       "\n",
       "[281 rows x 12 columns]"
      ]
     },
     "execution_count": 7,
     "metadata": {},
     "output_type": "execute_result"
    }
   ],
   "source": [
    "best_performers"
   ]
  },
  {
   "cell_type": "code",
   "execution_count": 8,
   "metadata": {},
   "outputs": [],
   "source": [
    "def rank_metric(df, metric) :\n",
    "    \n",
    "    res = best_performers.groupby('oversampler')[metric].mean().sort_values(ascending=False)\n",
    "    return pd.DataFrame(res)"
   ]
  },
  {
   "cell_type": "code",
   "execution_count": 9,
   "metadata": {},
   "outputs": [
    {
     "data": {
      "text/plain": [
       "(                   avg_precision (AUPRC)\n",
       " oversampler                             \n",
       " RandomOverSampler               0.456372\n",
       " SVMSMOTE                        0.446253\n",
       " ADASYN                          0.423451\n",
       " Random_SMOTE                    0.423198\n",
       " SMOTE                           0.416480\n",
       " Borderline_SMOTE1               0.412473\n",
       " synthsonic                      0.410126\n",
       " polynom_fit_SMOTE               0.409973\n",
       " NoOversampling                  0.386640\n",
       " SMOTENC                         0.369914,\n",
       "                    balanced_accuracy\n",
       " oversampler                         \n",
       " SMOTE                       0.805543\n",
       " ADASYN                      0.802577\n",
       " SVMSMOTE                    0.802459\n",
       " Random_SMOTE                0.800770\n",
       " synthsonic                  0.792719\n",
       " RandomOverSampler           0.791961\n",
       " SMOTENC                     0.786078\n",
       " Borderline_SMOTE1           0.779904\n",
       " polynom_fit_SMOTE           0.779682\n",
       " NoOversampling              0.751479)"
      ]
     },
     "execution_count": 9,
     "metadata": {},
     "output_type": "execute_result"
    }
   ],
   "source": [
    "# avg precision score and balanced accuracy\n",
    "rank_metric(best_performers, 'avg_precision (AUPRC)'), rank_metric(best_performers, 'balanced_accuracy')"
   ]
  },
  {
   "cell_type": "code",
   "execution_count": 10,
   "metadata": {},
   "outputs": [],
   "source": [
    "from sklearn.metrics import precision_recall_curve"
   ]
  },
  {
   "cell_type": "code",
   "execution_count": 11,
   "metadata": {},
   "outputs": [],
   "source": [
    "def find_range(df,group,value) :\n",
    "\n",
    "    return best_performers.groupby(group)[value].agg(np.ptp).sort_values(ascending=False)"
   ]
  },
  {
   "cell_type": "code",
   "execution_count": 12,
   "metadata": {},
   "outputs": [
    {
     "data": {
      "text/plain": [
       "dataset\n",
       "libras_move       0.321509\n",
       "abalone_19        0.269072\n",
       "oil               0.250000\n",
       "yeast_me2         0.178585\n",
       "ecoli             0.155303\n",
       "spectrometer      0.133333\n",
       "isolet            0.111532\n",
       "ozone_level       0.110317\n",
       "mammography       0.100906\n",
       "optical_digits    0.082524\n",
       "yeast_ml8         0.080755\n",
       "wine_quality      0.080732\n",
       "solar_flare_m0    0.080612\n",
       "scene             0.080300\n",
       "satimage          0.072668\n",
       "us_crime          0.071790\n",
       "car_eval_4        0.069610\n",
       "arrhythmia        0.055458\n",
       "abalone           0.047891\n",
       "webpage           0.043774\n",
       "thyroid_sick      0.041612\n",
       "car_eval_34       0.034091\n",
       "protein_homo      0.031473\n",
       "sick_euthyroid    0.030928\n",
       "coil_2000         0.027349\n",
       "pen_digits        0.019658\n",
       "letter_img        0.011038\n",
       "Name: balanced_accuracy, dtype: float64"
      ]
     },
     "execution_count": 12,
     "metadata": {},
     "output_type": "execute_result"
    }
   ],
   "source": [
    "find_range(best_performers,'dataset','balanced_accuracy')"
   ]
  },
  {
   "cell_type": "code",
   "execution_count": 13,
   "metadata": {},
   "outputs": [],
   "source": [
    "# top 5 biggest variation between oversamplers\n",
    "biggest_change = find_range(best_performers,'dataset','balanced_accuracy')[:5]\n",
    "biggest_change = list(biggest_change.index)"
   ]
  },
  {
   "cell_type": "code",
   "execution_count": 14,
   "metadata": {},
   "outputs": [],
   "source": [
    "from sklearn.model_selection import train_test_split\n",
    "from sklearn.metrics import auc\n",
    "from imblearn.datasets import fetch_datasets\n",
    "from pathlib import Path\n",
    "import os\n",
    "import sys\n",
    "from sklearn.preprocessing import StandardScaler, LabelEncoder\n",
    "\n",
    "\n",
    "def read_from_file(input_path, dataset, oversampler) :\n",
    "\n",
    "    datasets = []\n",
    "\n",
    "    target = os.path.join(input_path,dataset,oversampler)\n",
    "\n",
    "    try :\n",
    "        for file in os.listdir(target) :\n",
    "            input_file = os.path.join(target, file)\n",
    "            p = Path(input_file)\n",
    "\n",
    "            temp_df = pd.read_csv(input_file)\n",
    "            datasets.append(temp_df)\n",
    "    \n",
    "    except FileNotFoundError :\n",
    "        print(f\"No files found for {dataset} and {oversampler}\")\n",
    "        \n",
    "    \n",
    "    return datasets\n",
    "\n",
    "def load_data(name) :\n",
    "    \n",
    "    dataset =  fetch_datasets()[name]\n",
    "    X,y,title = dataset['data'], dataset['target'], dataset['DESCR']\n",
    "    \n",
    "    return X,y,title\n",
    "\n",
    "def train_clf(dataset, sample, clf) :\n",
    "    \n",
    "    # load dataset to get test data\n",
    "    X,y,title = load_data(dataset)\n",
    "    \n",
    "    _, X_test, _, y_test = train_test_split(X,y,test_size=0.35, stratify=y, random_state=5)\n",
    "    \n",
    "    data = sample.loc[:,:'target']\n",
    "    \n",
    "    X_train, y_train = data.iloc[:,:-1].values, data.iloc[:,-1].values\n",
    "    \n",
    "    y_train = LabelEncoder().fit_transform(y_train)\n",
    "    \n",
    "    \n",
    "    clf.fit(X_train, y_train)\n",
    "\n",
    "    probas = clf.predict_proba(X_test)[:,1]\n",
    "    \n",
    "    precision, recall, _ = precision_recall_curve(y_test, probas)\n",
    "    aucscore = auc(recall, precision)\n",
    "    \n",
    "    return precision, recall, aucscore\n",
    "    \n",
    "def load_samples(df, dataset, location) :\n",
    "    \n",
    "    sampled_data = []\n",
    "    \n",
    "    sample = df[df['dataset'] == dataset].iloc[:,:3]\n",
    "    \n",
    "    for i in range(sample.shape[0]) :\n",
    "        dataset_ = str(sample.iloc[i][0])\n",
    "        oversampler_ = str(sample.iloc[i][1])\n",
    "        prop_ = sample.iloc[i][2]\n",
    "        if prop_ == 1.0 :\n",
    "            prop = str(sample.iloc[i][2].astype(int))\n",
    "        else :\n",
    "            prop = str(sample.iloc[i][2])\n",
    "            \n",
    "        \n",
    "        file = str(dataset_)+\"_\"+str(oversampler_)+\"_\"+str(prop).replace(\".\",\"_\")\n",
    "        path = loc / dataset_ / oversampler_ / file\n",
    "        sampled_data.append(pd.read_csv(os.path.join(path.with_suffix('.csv'))))\n",
    "        \n",
    "    \n",
    "    sampled_data = pd.concat(sampled_data)\n",
    "    \n",
    "    \n",
    "    return sampled_data\n",
    "\n",
    "def base_case(dataset, clf) :\n",
    "    \n",
    "    X,y,title = load_data(dataset)\n",
    "    \n",
    "    X_train, X_test, y_train, y_test = train_test_split(X,y,test_size=0.35, stratify=y, random_state=5)\n",
    "    \n",
    "    clf.fit(X_train,y_train)\n",
    "    \n",
    "    probas = clf.predict_proba(X_test)[:,1]\n",
    "    \n",
    "    precision, recall, _ = precision_recall_curve(y_test, probas)\n",
    "    #aucscore = auc(recall, precision)\n",
    "    \n",
    "    return precision, recall, aucscore\n",
    "\n",
    "def plot_pr_curve(dataset,sampler, pr,rec) :\n",
    "    \n",
    "    plt.figure()\n",
    "    plt.plot(rec, pr, marker='.', label=sampler)\n",
    "\n",
    "    plt.title(f\"PR curve {dataset}\")\n",
    "    plt.xlabel('Recall')\n",
    "    plt.ylabel('Precision')\n",
    "\n",
    "    plt.legend()\n",
    "\n",
    "    plt.show()\n",
    "    \n"
   ]
  },
  {
   "cell_type": "code",
   "execution_count": 15,
   "metadata": {},
   "outputs": [
    {
     "data": {
      "text/plain": [
       "['libras_move', 'abalone_19', 'oil', 'yeast_me2', 'ecoli']"
      ]
     },
     "execution_count": 15,
     "metadata": {},
     "output_type": "execute_result"
    }
   ],
   "source": [
    "biggest_change"
   ]
  },
  {
   "cell_type": "markdown",
   "metadata": {},
   "source": [
    "# libras move"
   ]
  },
  {
   "cell_type": "code",
   "execution_count": 23,
   "metadata": {
    "scrolled": false
   },
   "outputs": [
    {
     "data": {
      "image/png": "[encoded data removed]",
      "text/plain": [
       "<Figure size 864x504 with 1 Axes>"
      ]
     },
     "metadata": {
      "needs_background": "light"
     },
     "output_type": "display_data"
    }
   ],
   "source": [
    "loc = Path('/Users/tristenmarto/Documents/Studie/Thesis/Synthsonic_data_analysis/Samples2/')\n",
    "samples = load_samples(best_performers[best_performers['oversampler'] != 'NoOversampling'], 'libras_move', loc)\n",
    "\n",
    "d = 'libras_move'\n",
    "clf = DecisionTreeClassifier(random_state=5)\n",
    "\n",
    "\n",
    "samplers = samples['oversampler'].unique()\n",
    "\n",
    "\n",
    "plt.figure(figsize=(12,7))\n",
    "pr,rec, auc_s = base_case(d, clf)\n",
    "plt.plot(rec,pr, marker='.', label='NoOversampling')\n",
    "for s in samplers :\n",
    "    \n",
    "    sample = samples[samples['oversampler'] == s]\n",
    "    \n",
    "    pr, rec, aucscore = train_clf(d,sample,clf)\n",
    "\n",
    "    plt.plot(rec, pr, marker='.', label=s)\n",
    "\n",
    "    plt.title(f\"PR curve {d}\")\n",
    "    plt.xlabel('Recall')\n",
    "    plt.ylabel('Precision')\n",
    "\n",
    "    plt.legend()\n",
    "\n",
    "\n",
    "    \n",
    "plt.show()"
   ]
  },
  {
   "cell_type": "code",
   "execution_count": 25,
   "metadata": {},
   "outputs": [
    {
     "data": {
      "text/plain": [
       "(array([0.06349206, 0.        , 1.        ]), array([1., 0., 0.]))"
      ]
     },
     "execution_count": 25,
     "metadata": {},
     "output_type": "execute_result"
    }
   ],
   "source": [
    "pr,rec, auc_s = base_case(d, clf)\n",
    "pr, rec"
   ]
  },
  {
   "cell_type": "code",
   "execution_count": 24,
   "metadata": {},
   "outputs": [
    {
     "data": {
      "image/png": "[encoded data removed]",
      "text/plain": [
       "<Figure size 432x288 with 1 Axes>"
      ]
     },
     "metadata": {
      "needs_background": "light"
     },
     "output_type": "display_data"
    },
    {
     "data": {
      "image/png": "[encoded data removed]",
      "text/plain": [
       "<Figure size 432x288 with 1 Axes>"
      ]
     },
     "metadata": {
      "needs_background": "light"
     },
     "output_type": "display_data"
    },
    {
     "data": {
      "image/png": "[encoded data removed]",
      "text/plain": [
       "<Figure size 432x288 with 1 Axes>"
      ]
     },
     "metadata": {
      "needs_background": "light"
     },
     "output_type": "display_data"
    },
    {
     "data": {
      "image/png": "[encoded data removed]",
      "text/plain": [
       "<Figure size 432x288 with 1 Axes>"
      ]
     },
     "metadata": {
      "needs_background": "light"
     },
     "output_type": "display_data"
    },
    {
     "data": {
      "image/png": "[encoded data removed]",
      "text/plain": [
       "<Figure size 432x288 with 1 Axes>"
      ]
     },
     "metadata": {
      "needs_background": "light"
     },
     "output_type": "display_data"
    },
    {
     "data": {
      "image/png": "[encoded data removed]",
      "text/plain": [
       "<Figure size 432x288 with 1 Axes>"
      ]
     },
     "metadata": {
      "needs_background": "light"
     },
     "output_type": "display_data"
    },
    {
     "data": {
      "image/png": "[encoded data removed]",
      "text/plain": [
       "<Figure size 432x288 with 1 Axes>"
      ]
     },
     "metadata": {
      "needs_background": "light"
     },
     "output_type": "display_data"
    },
    {
     "data": {
      "image/png": "[encoded data removed]",
      "text/plain": [
       "<Figure size 432x288 with 1 Axes>"
      ]
     },
     "metadata": {
      "needs_background": "light"
     },
     "output_type": "display_data"
    },
    {
     "data": {
      "image/png": "[encoded data removed]",
      "text/plain": [
       "<Figure size 432x288 with 1 Axes>"
      ]
     },
     "metadata": {
      "needs_background": "light"
     },
     "output_type": "display_data"
    }
   ],
   "source": [
    "for s in samplers :\n",
    "    plt.figure()\n",
    "    sample = samples[samples['oversampler'] == s]\n",
    "    \n",
    "    pr, rec, aucscore = train_clf(d,sample,clf)\n",
    "\n",
    "    plt.plot(rec, pr, marker='.', label=s)\n",
    "\n",
    "    plt.title(f\"PR curve {d}\")\n",
    "    plt.xlabel('Recall')\n",
    "    plt.ylabel('Precision')\n",
    "\n",
    "    plt.legend()\n",
    "\n",
    "    plt.show()\n",
    "    \n",
    "plt.figure()\n",
    "pr,rec, auc_s = base_case(d, clf)\n",
    "plt.plot(rec,pr, marker='.', label='NoOversampling')\n",
    "\n",
    "plt.title(f\"PR curve NoOversampling\")\n",
    "plt.xlabel('Recall')\n",
    "plt.ylabel('Precision')\n",
    "\n",
    "plt.legend()\n",
    "plt.show()"
   ]
  },
  {
   "cell_type": "code",
   "execution_count": 26,
   "metadata": {},
   "outputs": [],
   "source": [
    "# predicted probabilities of NoOversampling\n",
    "X,y,title = load_data('libras_move')\n",
    "\n",
    "X_train, X_test, y_train, y_test = train_test_split(X,y,test_size=0.35, stratify=y, random_state=5)\n",
    "\n",
    "clf.fit(X_train,y_train)\n",
    "\n",
    "probas = clf.predict_proba(X_test)[:,1]"
   ]
  },
  {
   "cell_type": "code",
   "execution_count": 37,
   "metadata": {},
   "outputs": [
    {
     "name": "stdout",
     "output_type": "stream",
     "text": [
      "Predicted probabilities for base classifier\n",
      "[0. 0. 0. 0. 0. 0. 0. 0. 0. 0. 0. 0. 0. 0. 0. 0. 0. 0. 0. 1. 0. 1. 0. 0.\n",
      " 0. 1. 0. 0. 0. 1. 1. 0. 0. 0. 0. 0. 0. 0. 0. 0. 0. 0. 0. 0. 0. 0. 0. 0.\n",
      " 0. 0. 0. 0. 1. 0. 0. 0. 0. 0. 0. 0. 0. 0. 0. 0. 0. 0. 0. 0. 0. 0. 0. 0.\n",
      " 0. 1. 0. 0. 0. 0. 0. 0. 0. 0. 0. 0. 0. 0. 0. 0. 0. 0. 0. 0. 0. 1. 0. 0.\n",
      " 0. 0. 0. 0. 0. 0. 0. 0. 0. 0. 0. 1. 0. 0. 0. 1. 0. 0. 0. 0. 1. 0. 0. 0.\n",
      " 0. 0. 0. 0. 0. 0.]\n"
     ]
    }
   ],
   "source": [
    "print(\"Predicted probabilities for base classifier\")\n",
    "print(probas[:,1])"
   ]
  },
  {
   "cell_type": "code",
   "execution_count": 38,
   "metadata": {},
   "outputs": [],
   "source": [
    "X,y,title = load_data('libras_move')\n",
    "\n",
    "_, X_test, _, y_test = train_test_split(X,y,test_size=0.35, stratify=y, random_state=5)\n",
    "\n",
    "sample = samples[samples['oversampler'] == 'synthsonic']\n",
    "\n",
    "data = sample.loc[:,:'target']\n",
    "\n",
    "X_train, y_train = data.iloc[:,:-1].values, data.iloc[:,-1].values\n",
    "\n",
    "y_train = LabelEncoder().fit_transform(y_train)\n",
    "\n",
    "clf.fit(X_train, y_train)\n",
    "\n",
    "probas = clf.predict_proba(X_test)\n",
    "\n",
    "precision, recall, thresholds = precision_recall_curve(y_test, probas[:,1])\n",
    "aucscore = auc(recall, precision)"
   ]
  },
  {
   "cell_type": "code",
   "execution_count": 39,
   "metadata": {},
   "outputs": [
    {
     "name": "stdout",
     "output_type": "stream",
     "text": [
      "Predicted probabilities for synthsonic\n",
      "[0. 0. 0. 0. 0. 0. 0. 0. 0. 0. 0. 0. 0. 0. 0. 0. 0. 0. 0. 1. 0. 1. 0. 0.\n",
      " 0. 1. 0. 0. 0. 1. 1. 0. 0. 0. 0. 0. 0. 0. 0. 0. 0. 0. 0. 0. 0. 0. 0. 0.\n",
      " 0. 0. 0. 0. 1. 0. 0. 0. 0. 0. 0. 0. 0. 0. 0. 0. 0. 0. 0. 0. 0. 0. 0. 0.\n",
      " 0. 1. 0. 0. 0. 0. 0. 0. 0. 0. 0. 0. 0. 0. 0. 0. 0. 0. 0. 0. 0. 1. 0. 0.\n",
      " 0. 0. 0. 0. 0. 0. 0. 0. 0. 0. 0. 1. 0. 0. 0. 1. 0. 0. 0. 0. 1. 0. 0. 0.\n",
      " 0. 0. 0. 0. 0. 0.]\n"
     ]
    }
   ],
   "source": [
    "print(\"Predicted probabilities for synthsonic\")\n",
    "print(probas[:,1])"
   ]
  },
  {
   "cell_type": "markdown",
   "metadata": {},
   "source": [
    "# car eval 4"
   ]
  },
  {
   "cell_type": "code",
   "execution_count": null,
   "metadata": {},
   "outputs": [],
   "source": [
    "best_eprform"
   ]
  },
  {
   "cell_type": "code",
   "execution_count": null,
   "metadata": {},
   "outputs": [],
   "source": [
    "import xgboost as xgb\n",
    "\n",
    "# analysis of xgboost - libras_move\n",
    "loc = Path('/Users/tristenmarto/Documents/Studie/Thesis/Synthsonic_data_analysis/Samples2/')\n",
    "\n",
    "d = 'car_eval_4'\n",
    "samples = load_samples(best_performers, d, loc)\n",
    "clf = KNeighborsClassifier()\n",
    "\n",
    "\n",
    "samplers = samples['oversampler'].unique()\n",
    "\n",
    "plt.figure(figsize=(12,7))\n",
    "for s in samplers :\n",
    "    \n",
    "    sample = samples[samples['oversampler'] == s]\n",
    "    \n",
    "    pr, rec, aucscore = train_clf(d,sample,clf)\n",
    "\n",
    "    plt.plot(rec, pr, marker='.', label=s)\n",
    "\n",
    "    plt.title(f\"PR curve {d}\")\n",
    "    plt.xlabel('Recall')\n",
    "    plt.ylabel('Precision')\n",
    "\n",
    "    plt.legend()\n",
    "\n",
    "plt.show()"
   ]
  },
  {
   "cell_type": "code",
   "execution_count": null,
   "metadata": {},
   "outputs": [],
   "source": [
    "pr,rec, auc = base_case('car_eval_4', clf)\n",
    "plot_pr_curve('car_eval_4', 'NoOversampling', pr, rec)"
   ]
  },
  {
   "cell_type": "code",
   "execution_count": null,
   "metadata": {},
   "outputs": [],
   "source": [
    "for s in samplers :\n",
    "    plt.figure()\n",
    "    sample = samples[samples['oversampler'] == s]\n",
    "    \n",
    "    pr, rec, aucscore = train_clf(d,sample,clf)\n",
    "\n",
    "    plt.plot(rec, pr, marker='.', label=s)\n",
    "\n",
    "    plt.title(f\"PR curve {d}\")\n",
    "    plt.xlabel('Recall')\n",
    "    plt.ylabel('Precision')\n",
    "\n",
    "    plt.legend()\n",
    "\n",
    "    plt.show()\n",
    "    \n"
   ]
  },
  {
   "cell_type": "markdown",
   "metadata": {},
   "source": [
    "# abalone"
   ]
  },
  {
   "cell_type": "code",
   "execution_count": null,
   "metadata": {},
   "outputs": [],
   "source": [
    "import xgboost as xgb\n",
    "\n",
    "# analysis of xgboost - libras_move\n",
    "loc = Path('/Users/tristenmarto/Documents/Studie/Thesis/Synthsonic_data_analysis/Samples2/')\n",
    "\n",
    "d = 'abalone'\n",
    "samples = load_samples(best_performers, d, loc)\n",
    "clf = KNeighborsClassifier()\n",
    "\n",
    "\n",
    "samplers = samples['oversampler'].unique()\n",
    "\n",
    "plt.figure(figsize=(12,7))\n",
    "for s in samplers :\n",
    "    \n",
    "    sample = samples[samples['oversampler'] == s]\n",
    "    \n",
    "    pr, rec, aucscore = train_clf(d,sample,clf)\n",
    "\n",
    "    plt.plot(rec, pr, marker='.', label=s)\n",
    "\n",
    "    plt.title(f\"PR curve {d}\")\n",
    "    plt.xlabel('Recall')\n",
    "    plt.ylabel('Precision')\n",
    "\n",
    "    plt.legend()\n",
    "\n",
    "plt.show()"
   ]
  },
  {
   "cell_type": "code",
   "execution_count": null,
   "metadata": {},
   "outputs": [],
   "source": [
    "pr,rec, auc = base_case('abalone', clf)\n",
    "plot_pr_curve('abalone', 'NoOversampling', pr, rec)"
   ]
  },
  {
   "cell_type": "code",
   "execution_count": null,
   "metadata": {},
   "outputs": [],
   "source": [
    "for s in samplers :\n",
    "    plt.figure()\n",
    "    sample = samples[samples['oversampler'] == s]\n",
    "    \n",
    "    pr, rec, aucscore = train_clf(d,sample,clf)\n",
    "\n",
    "    plt.plot(rec, pr, marker='.', label=s)\n",
    "\n",
    "    plt.title(f\"PR curve {d}\")\n",
    "    plt.xlabel('Recall')\n",
    "    plt.ylabel('Precision')\n",
    "\n",
    "    plt.legend()\n",
    "\n",
    "    plt.show()"
   ]
  },
  {
   "cell_type": "markdown",
   "metadata": {},
   "source": [
    "# arrhythmia"
   ]
  },
  {
   "cell_type": "code",
   "execution_count": null,
   "metadata": {},
   "outputs": [],
   "source": [
    "import xgboost as xgb\n",
    "\n",
    "# analysis of xgboost - libras_move\n",
    "loc = Path('/Users/tristenmarto/Documents/Studie/Thesis/Synthsonic_data_analysis/Samples2/')\n",
    "\n",
    "d = 'arrhythmia'\n",
    "samples = load_samples(best_performers, d, loc)\n",
    "clf = KNeighborsClassifier()\n",
    "\n",
    "\n",
    "samplers = samples['oversampler'].unique()\n",
    "\n",
    "plt.figure(figsize=(12,7))\n",
    "for s in samplers :\n",
    "    \n",
    "    sample = samples[samples['oversampler'] == s]\n",
    "    \n",
    "    pr, rec, aucscore = train_clf(d,sample,clf)\n",
    "\n",
    "    plt.plot(rec, pr, marker='.', label=s)\n",
    "\n",
    "    plt.title(f\"PR curve {d}\")\n",
    "    plt.xlabel('Recall')\n",
    "    plt.ylabel('Precision')\n",
    "\n",
    "    plt.legend()\n",
    "\n",
    "plt.show()"
   ]
  },
  {
   "cell_type": "code",
   "execution_count": null,
   "metadata": {},
   "outputs": [],
   "source": [
    "pr,rec, auc = base_case('arrhythmia', clf)\n",
    "plot_pr_curve('arrhythmia', 'NoOversampling', pr, rec)"
   ]
  },
  {
   "cell_type": "code",
   "execution_count": null,
   "metadata": {},
   "outputs": [],
   "source": [
    "for s in samplers :\n",
    "    plt.figure()\n",
    "    sample = samples[samples['oversampler'] == s]\n",
    "    \n",
    "    pr, rec, aucscore = train_clf(d,sample,clf)\n",
    "\n",
    "    plt.plot(rec, pr, marker='.', label=s)\n",
    "\n",
    "    plt.title(f\"PR curve {d}\")\n",
    "    plt.xlabel('Recall')\n",
    "    plt.ylabel('Precision')\n",
    "\n",
    "    plt.legend()\n",
    "\n",
    "    plt.show()"
   ]
  },
  {
   "cell_type": "markdown",
   "metadata": {},
   "source": [
    "# abalone_19"
   ]
  },
  {
   "cell_type": "code",
   "execution_count": null,
   "metadata": {},
   "outputs": [],
   "source": [
    "import xgboost as xgb\n",
    "\n",
    "# analysis of xgboost - libras_move\n",
    "loc = Path('/Users/tristenmarto/Documents/Studie/Thesis/Synthsonic_data_analysis/Samples2/')\n",
    "\n",
    "d = 'abalone_19'\n",
    "samples = load_samples(best_performers, d, loc)\n",
    "clf = KNeighborsClassifier()\n",
    "\n",
    "\n",
    "samplers = samples['oversampler'].unique()\n",
    "\n",
    "plt.figure(figsize=(12,7))\n",
    "for s in samplers :\n",
    "    \n",
    "    sample = samples[samples['oversampler'] == s]\n",
    "    \n",
    "    pr, rec, aucscore = train_clf(d,sample,clf)\n",
    "\n",
    "    plt.plot(rec, pr, marker='.', label=s)\n",
    "\n",
    "    plt.title(f\"PR curve {d}\")\n",
    "    plt.xlabel('Recall')\n",
    "    plt.ylabel('Precision')\n",
    "\n",
    "    plt.legend()\n",
    "\n",
    "plt.show()"
   ]
  },
  {
   "cell_type": "code",
   "execution_count": null,
   "metadata": {},
   "outputs": [],
   "source": [
    "pr,rec, auc = base_case('abalone_19', clf)\n",
    "plot_pr_curve('abalone_19', 'NoOversampling', pr, rec)"
   ]
  },
  {
   "cell_type": "code",
   "execution_count": null,
   "metadata": {},
   "outputs": [],
   "source": [
    "for s in samplers :\n",
    "    plt.figure()\n",
    "    sample = samples[samples['oversampler'] == s]\n",
    "    \n",
    "    pr, rec, aucscore = train_clf(d,sample,clf)\n",
    "\n",
    "    plt.plot(rec, pr, marker='.', label=s)\n",
    "\n",
    "    plt.title(f\"PR curve {d}\")\n",
    "    plt.xlabel('Recall')\n",
    "    plt.ylabel('Precision')\n",
    "\n",
    "    plt.legend()\n",
    "\n",
    "    plt.show()"
   ]
  },
  {
   "cell_type": "code",
   "execution_count": null,
   "metadata": {},
   "outputs": [],
   "source": []
  }
 ],
 "metadata": {
  "kernelspec": {
   "display_name": "Python 3",
   "language": "python",
   "name": "python3"
  },
  "language_info": {
   "codemirror_mode": {
    "name": "ipython",
    "version": 3
   },
   "file_extension": ".py",
   "mimetype": "text/x-python",
   "name": "python",
   "nbconvert_exporter": "python",
   "pygments_lexer": "ipython3",
   "version": "3.7.6"
  }
 },
 "nbformat": 4,
 "nbformat_minor": 4
}
