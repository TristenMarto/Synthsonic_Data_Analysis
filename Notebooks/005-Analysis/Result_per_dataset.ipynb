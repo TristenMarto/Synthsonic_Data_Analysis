{
 "cells": [
  {
   "cell_type": "code",
   "execution_count": 2,
   "metadata": {},
   "outputs": [],
   "source": [
    "import numpy as np\n",
    "import pandas as pd\n",
    "import matplotlib.pyplot as plt"
   ]
  },
  {
   "cell_type": "code",
   "execution_count": 4,
   "metadata": {},
   "outputs": [],
   "source": [
    "result_path = '/Users/tristenmarto/Documents/Studie/Thesis/Synthsonic_data_analysis/CSV_results/'"
   ]
  },
  {
   "cell_type": "code",
   "execution_count": 9,
   "metadata": {},
   "outputs": [],
   "source": [
    "df = pd.read_csv(result_path+\"results_all_datasets.csv\")"
   ]
  },
  {
   "cell_type": "code",
   "execution_count": 24,
   "metadata": {},
   "outputs": [
    {
     "data": {
      "text/html": [
       "<div>\n",
       "<style scoped>\n",
       "    .dataframe tbody tr th:only-of-type {\n",
       "        vertical-align: middle;\n",
       "    }\n",
       "\n",
       "    .dataframe tbody tr th {\n",
       "        vertical-align: top;\n",
       "    }\n",
       "\n",
       "    .dataframe thead th {\n",
       "        text-align: right;\n",
       "    }\n",
       "</style>\n",
       "<table border=\"1\" class=\"dataframe\">\n",
       "  <thead>\n",
       "    <tr style=\"text-align: right;\">\n",
       "      <th></th>\n",
       "      <th>name</th>\n",
       "      <th>oversampler</th>\n",
       "      <th>proportion</th>\n",
       "      <th>balanced acc</th>\n",
       "      <th>precision</th>\n",
       "      <th>recall</th>\n",
       "      <th>f1_score</th>\n",
       "      <th>geometric mean</th>\n",
       "      <th>average precision</th>\n",
       "    </tr>\n",
       "  </thead>\n",
       "  <tbody>\n",
       "    <tr>\n",
       "      <th>777</th>\n",
       "      <td>ecoli</td>\n",
       "      <td>synthsonic</td>\n",
       "      <td>0.1</td>\n",
       "      <td>0.980952</td>\n",
       "      <td>0.600000</td>\n",
       "      <td>1.000000</td>\n",
       "      <td>0.750000</td>\n",
       "      <td>0.980767</td>\n",
       "      <td>0.600000</td>\n",
       "    </tr>\n",
       "    <tr>\n",
       "      <th>135</th>\n",
       "      <td>ecoli</td>\n",
       "      <td>No Oversampling</td>\n",
       "      <td>0.0</td>\n",
       "      <td>0.976190</td>\n",
       "      <td>0.545455</td>\n",
       "      <td>1.000000</td>\n",
       "      <td>0.705882</td>\n",
       "      <td>0.975900</td>\n",
       "      <td>0.545455</td>\n",
       "    </tr>\n",
       "    <tr>\n",
       "      <th>157</th>\n",
       "      <td>ecoli</td>\n",
       "      <td>Random_SMOTE</td>\n",
       "      <td>0.7</td>\n",
       "      <td>0.961905</td>\n",
       "      <td>0.428571</td>\n",
       "      <td>1.000000</td>\n",
       "      <td>0.600000</td>\n",
       "      <td>0.961150</td>\n",
       "      <td>0.428571</td>\n",
       "    </tr>\n",
       "    <tr>\n",
       "      <th>783</th>\n",
       "      <td>ecoli</td>\n",
       "      <td>ADASYN</td>\n",
       "      <td>0.1</td>\n",
       "      <td>0.888095</td>\n",
       "      <td>0.454545</td>\n",
       "      <td>0.833333</td>\n",
       "      <td>0.588235</td>\n",
       "      <td>0.886405</td>\n",
       "      <td>0.387797</td>\n",
       "    </tr>\n",
       "    <tr>\n",
       "      <th>137</th>\n",
       "      <td>ecoli</td>\n",
       "      <td>Borderline_SMOTE1</td>\n",
       "      <td>0.3</td>\n",
       "      <td>0.957143</td>\n",
       "      <td>0.400000</td>\n",
       "      <td>1.000000</td>\n",
       "      <td>0.571429</td>\n",
       "      <td>0.956183</td>\n",
       "      <td>0.400000</td>\n",
       "    </tr>\n",
       "    <tr>\n",
       "      <th>1058</th>\n",
       "      <td>ecoli</td>\n",
       "      <td>SMOTE</td>\n",
       "      <td>0.7</td>\n",
       "      <td>0.957143</td>\n",
       "      <td>0.400000</td>\n",
       "      <td>1.000000</td>\n",
       "      <td>0.571429</td>\n",
       "      <td>0.956183</td>\n",
       "      <td>0.400000</td>\n",
       "    </tr>\n",
       "    <tr>\n",
       "      <th>144</th>\n",
       "      <td>ecoli</td>\n",
       "      <td>polynom_fit_SMOTE</td>\n",
       "      <td>0.5</td>\n",
       "      <td>0.957143</td>\n",
       "      <td>0.400000</td>\n",
       "      <td>1.000000</td>\n",
       "      <td>0.571429</td>\n",
       "      <td>0.956183</td>\n",
       "      <td>0.400000</td>\n",
       "    </tr>\n",
       "    <tr>\n",
       "      <th>1</th>\n",
       "      <td>ecoli</td>\n",
       "      <td>RandomOverSampler</td>\n",
       "      <td>0.5</td>\n",
       "      <td>0.883333</td>\n",
       "      <td>0.416667</td>\n",
       "      <td>0.833333</td>\n",
       "      <td>0.555556</td>\n",
       "      <td>0.881917</td>\n",
       "      <td>0.356231</td>\n",
       "    </tr>\n",
       "    <tr>\n",
       "      <th>148</th>\n",
       "      <td>ecoli</td>\n",
       "      <td>SVM_balance</td>\n",
       "      <td>0.1</td>\n",
       "      <td>0.947619</td>\n",
       "      <td>0.352941</td>\n",
       "      <td>1.000000</td>\n",
       "      <td>0.521739</td>\n",
       "      <td>0.946170</td>\n",
       "      <td>0.352941</td>\n",
       "    </tr>\n",
       "  </tbody>\n",
       "</table>\n",
       "</div>"
      ],
      "text/plain": [
       "       name        oversampler  proportion  balanced acc  precision    recall  \\\n",
       "777   ecoli         synthsonic         0.1      0.980952   0.600000  1.000000   \n",
       "135   ecoli    No Oversampling         0.0      0.976190   0.545455  1.000000   \n",
       "157   ecoli       Random_SMOTE         0.7      0.961905   0.428571  1.000000   \n",
       "783   ecoli             ADASYN         0.1      0.888095   0.454545  0.833333   \n",
       "137   ecoli  Borderline_SMOTE1         0.3      0.957143   0.400000  1.000000   \n",
       "1058  ecoli              SMOTE         0.7      0.957143   0.400000  1.000000   \n",
       "144   ecoli  polynom_fit_SMOTE         0.5      0.957143   0.400000  1.000000   \n",
       "1     ecoli  RandomOverSampler         0.5      0.883333   0.416667  0.833333   \n",
       "148   ecoli        SVM_balance         0.1      0.947619   0.352941  1.000000   \n",
       "\n",
       "      f1_score  geometric mean  average precision  \n",
       "777   0.750000        0.980767           0.600000  \n",
       "135   0.705882        0.975900           0.545455  \n",
       "157   0.600000        0.961150           0.428571  \n",
       "783   0.588235        0.886405           0.387797  \n",
       "137   0.571429        0.956183           0.400000  \n",
       "1058  0.571429        0.956183           0.400000  \n",
       "144   0.571429        0.956183           0.400000  \n",
       "1     0.555556        0.881917           0.356231  \n",
       "148   0.521739        0.946170           0.352941  "
      ]
     },
     "execution_count": 24,
     "metadata": {},
     "output_type": "execute_result"
    }
   ],
   "source": [
    "df.loc[df[df['name'] == 'ecoli'].groupby('oversampler')['f1_score'].idxmax()].sort_values('f1_score',ascending=False)"
   ]
  },
  {
   "cell_type": "code",
   "execution_count": 13,
   "metadata": {},
   "outputs": [],
   "source": [
    "datasets = df['name'].unique()"
   ]
  },
  {
   "cell_type": "code",
   "execution_count": 34,
   "metadata": {},
   "outputs": [],
   "source": [
    "dflist = []\n",
    "\n",
    "for dataset in datasets :\n",
    "    \n",
    "    temp_df = df[df['name'] == dataset]\n",
    "    \n",
    "    temp_res = df.loc[temp_df.groupby('oversampler')['f1_score'].idxmax()].sort_values('f1_score',ascending=False)\n",
    "    \n",
    "    dflist.append(temp_res)"
   ]
  },
  {
   "cell_type": "code",
   "execution_count": 40,
   "metadata": {},
   "outputs": [],
   "source": [
    "# We'll define an Excel writer object and the target file\n",
    "Excelwriter = pd.ExcelWriter(result_path+\"results_per_dataset.xlsx\",engine=\"xlsxwriter\")"
   ]
  },
  {
   "cell_type": "code",
   "execution_count": 41,
   "metadata": {},
   "outputs": [],
   "source": [
    "#We now loop process the list of dataframes\n",
    "for df in dflist:\n",
    "    df.to_excel(Excelwriter, sheet_name=df['name'].iloc[0],index=False)\n",
    "#And finally save the file\n",
    "Excelwriter.save()"
   ]
  },
  {
   "cell_type": "code",
   "execution_count": 38,
   "metadata": {},
   "outputs": [
    {
     "name": "stdout",
     "output_type": "stream",
     "text": [
      "ecoli\n",
      "optical_digits\n",
      "satimage\n",
      "pen_digits\n",
      "abalone\n",
      "sick_euthyroid\n",
      "spectrometer\n",
      "car_eval_34\n",
      "isolet\n",
      "us_crime\n",
      "yeast_ml8\n",
      "scene\n",
      "libras_move\n",
      "thyroid_sick\n",
      "coil_2000\n",
      "arrhythmia\n",
      "solar_flare_m0\n",
      "oil\n",
      "car_eval_4\n",
      "wine_quality\n",
      "letter_img\n",
      "yeast_me2\n",
      "webpage\n",
      "ozone_level\n",
      "mammography\n",
      "protein_homo\n",
      "abalone_19\n"
     ]
    }
   ],
   "source": [
    "for df in dflist :\n",
    "    print(df['name'].iloc[0])"
   ]
  },
  {
   "cell_type": "code",
   "execution_count": null,
   "metadata": {},
   "outputs": [],
   "source": []
  }
 ],
 "metadata": {
  "kernelspec": {
   "display_name": "Python 3",
   "language": "python",
   "name": "python3"
  },
  "language_info": {
   "codemirror_mode": {
    "name": "ipython",
    "version": 3
   },
   "file_extension": ".py",
   "mimetype": "text/x-python",
   "name": "python",
   "nbconvert_exporter": "python",
   "pygments_lexer": "ipython3",
   "version": "3.7.6"
  }
 },
 "nbformat": 4,
 "nbformat_minor": 4
}
