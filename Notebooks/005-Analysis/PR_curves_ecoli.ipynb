{
 "cells": [
  {
   "cell_type": "code",
   "execution_count": 1,
   "metadata": {},
   "outputs": [],
   "source": [
    "import numpy as np\n",
    "import pandas as pd\n",
    "import matplotlib.pyplot as plt\n",
    "from imblearn.datasets import fetch_datasets\n",
    "from imblearn.over_sampling import SMOTE\n",
    "from collections import Counter\n",
    "import os\n",
    "import sys\n",
    "sys.path.append('/Users/tristenmarto/Documents/Studie/Thesis/Synthsonic_data_analysis')\n",
    "from sklearn.preprocessing import StandardScaler, LabelEncoder, Binarizer\n",
    "from sklearn.decomposition import PCA\n",
    "from xgboost.sklearn import XGBClassifier\n",
    "from sklearn.neighbors import KNeighborsClassifier\n",
    "from sklearn.tree import DecisionTreeClassifier\n",
    "from sv_synthsonic import synthsonic, load_data, pca_plot\n",
    "from sklearn.metrics import precision_recall_curve, plot_precision_recall_curve, auc, confusion_matrix\n",
    "from sklearn.model_selection import train_test_split, StratifiedKFold"
   ]
  },
  {
   "cell_type": "code",
   "execution_count": 15,
   "metadata": {},
   "outputs": [],
   "source": [
    "X,y,title = load_data('ecoli')\n",
    "clf = DecisionTreeClassifier(random_state=5)\n",
    "over = synthsonic(random_state=5, proportion=1)"
   ]
  },
  {
   "cell_type": "code",
   "execution_count": 3,
   "metadata": {},
   "outputs": [
    {
     "name": "stderr",
     "output_type": "stream",
     "text": [
      "2021-07-14 18:02:11,389:INFO:synthsonic: Running sampling via ('synthsonic', \"{'proportion': 1, 'distinct_threshold': -1, 'random_state': 5, 'do_PCA': True}\")\n",
      "2021-07-14 18:02:11,389:INFO:synthsonic: Running sampling via ('synthsonic', \"{'proportion': 1, 'distinct_threshold': -1, 'random_state': 5, 'do_PCA': True}\")\n",
      "n_quantiles (500) is greater than the total number of samples (28). n_quantiles is set to num samples.\n",
      "Building tree: 100%|██████████| 15/15.0 [00:00<00:00, 2271.04it/s]\n",
      "Generating for node: 4:  29%|██▊       | 2/7 [00:00<00:00,  8.40it/s]/Users/tristenmarto/anaconda3/lib/python3.7/site-packages/pgmpy/factors/discrete/DiscreteFactor.py:522: UserWarning: Found unknown state name. Trying to switch to using all state names as state numbers\n",
      "  \"Found unknown state name. Trying to switch to using all state names as state numbers\"\n",
      "Generating for node: 3: 100%|██████████| 7/7 [00:01<00:00,  4.63it/s]\n",
      "/Users/tristenmarto/anaconda3/lib/python3.7/site-packages/sklearn/isotonic.py:71: UserWarning: Confidence interval of the Spearman correlation coefficient spans zero. Determination of ``increasing`` may be suspect.\n",
      "  warnings.warn(\"Confidence interval of the Spearman \"\n",
      "Generating for node: 4:   0%|          | 0/7 [00:00<?, ?it/s]/Users/tristenmarto/anaconda3/lib/python3.7/site-packages/pgmpy/factors/discrete/DiscreteFactor.py:522: UserWarning: Found unknown state name. Trying to switch to using all state names as state numbers\n",
      "  \"Found unknown state name. Trying to switch to using all state names as state numbers\"\n",
      "Generating for node: 3: 100%|██████████| 7/7 [00:00<00:00, 18.56it/s]\n",
      "2021-07-14 18:02:15,874:INFO:synthsonic: Running sampling via ('synthsonic', \"{'proportion': 1, 'distinct_threshold': -1, 'random_state': 5, 'do_PCA': True}\")\n",
      "2021-07-14 18:02:15,874:INFO:synthsonic: Running sampling via ('synthsonic', \"{'proportion': 1, 'distinct_threshold': -1, 'random_state': 5, 'do_PCA': True}\")\n",
      "n_quantiles (500) is greater than the total number of samples (28). n_quantiles is set to num samples.\n",
      "Building tree: 100%|██████████| 15/15.0 [00:00<00:00, 1377.17it/s]\n",
      "Generating for node: 0:   0%|          | 0/7 [00:00<?, ?it/s]/Users/tristenmarto/anaconda3/lib/python3.7/site-packages/pgmpy/factors/discrete/DiscreteFactor.py:522: UserWarning: Found unknown state name. Trying to switch to using all state names as state numbers\n",
      "  \"Found unknown state name. Trying to switch to using all state names as state numbers\"\n",
      "Generating for node: 4: 100%|██████████| 7/7 [00:03<00:00,  1.97it/s]\n",
      "/Users/tristenmarto/anaconda3/lib/python3.7/site-packages/sklearn/isotonic.py:71: UserWarning: Confidence interval of the Spearman correlation coefficient spans zero. Determination of ``increasing`` may be suspect.\n",
      "  warnings.warn(\"Confidence interval of the Spearman \"\n",
      "Generating for node: 0:   0%|          | 0/7 [00:00<?, ?it/s]/Users/tristenmarto/anaconda3/lib/python3.7/site-packages/pgmpy/factors/discrete/DiscreteFactor.py:522: UserWarning: Found unknown state name. Trying to switch to using all state names as state numbers\n",
      "  \"Found unknown state name. Trying to switch to using all state names as state numbers\"\n",
      "Generating for node: 4: 100%|██████████| 7/7 [00:00<00:00, 19.53it/s]\n",
      "2021-07-14 18:02:22,093:INFO:synthsonic: Running sampling via ('synthsonic', \"{'proportion': 1, 'distinct_threshold': -1, 'random_state': 5, 'do_PCA': True}\")\n",
      "2021-07-14 18:02:22,093:INFO:synthsonic: Running sampling via ('synthsonic', \"{'proportion': 1, 'distinct_threshold': -1, 'random_state': 5, 'do_PCA': True}\")\n",
      "n_quantiles (500) is greater than the total number of samples (28). n_quantiles is set to num samples.\n",
      "Building tree: 100%|██████████| 15/15.0 [00:00<00:00, 1438.54it/s]\n",
      "Generating for node: 0:   0%|          | 0/7 [00:00<?, ?it/s]/Users/tristenmarto/anaconda3/lib/python3.7/site-packages/pgmpy/factors/discrete/DiscreteFactor.py:522: UserWarning: Found unknown state name. Trying to switch to using all state names as state numbers\n",
      "  \"Found unknown state name. Trying to switch to using all state names as state numbers\"\n",
      "Generating for node: 2: 100%|██████████| 7/7 [00:01<00:00,  5.35it/s]\n",
      "/Users/tristenmarto/anaconda3/lib/python3.7/site-packages/sklearn/isotonic.py:71: UserWarning: Confidence interval of the Spearman correlation coefficient spans zero. Determination of ``increasing`` may be suspect.\n",
      "  warnings.warn(\"Confidence interval of the Spearman \"\n",
      "Generating for node: 0:   0%|          | 0/7 [00:00<?, ?it/s]/Users/tristenmarto/anaconda3/lib/python3.7/site-packages/pgmpy/factors/discrete/DiscreteFactor.py:522: UserWarning: Found unknown state name. Trying to switch to using all state names as state numbers\n",
      "  \"Found unknown state name. Trying to switch to using all state names as state numbers\"\n",
      "Generating for node: 2: 100%|██████████| 7/7 [00:00<00:00, 19.48it/s]\n",
      "2021-07-14 18:02:25,806:INFO:synthsonic: Running sampling via ('synthsonic', \"{'proportion': 1, 'distinct_threshold': -1, 'random_state': 5, 'do_PCA': True}\")\n",
      "2021-07-14 18:02:25,806:INFO:synthsonic: Running sampling via ('synthsonic', \"{'proportion': 1, 'distinct_threshold': -1, 'random_state': 5, 'do_PCA': True}\")\n",
      "n_quantiles (500) is greater than the total number of samples (28). n_quantiles is set to num samples.\n",
      "Building tree: 100%|██████████| 15/15.0 [00:00<00:00, 2705.65it/s]\n",
      "Generating for node: 0:   0%|          | 0/7 [00:00<?, ?it/s]/Users/tristenmarto/anaconda3/lib/python3.7/site-packages/pgmpy/factors/discrete/DiscreteFactor.py:522: UserWarning: Found unknown state name. Trying to switch to using all state names as state numbers\n",
      "  \"Found unknown state name. Trying to switch to using all state names as state numbers\"\n",
      "Generating for node: 4: 100%|██████████| 7/7 [00:01<00:00,  4.40it/s]\n",
      "/Users/tristenmarto/anaconda3/lib/python3.7/site-packages/sklearn/isotonic.py:71: UserWarning: Confidence interval of the Spearman correlation coefficient spans zero. Determination of ``increasing`` may be suspect.\n",
      "  warnings.warn(\"Confidence interval of the Spearman \"\n",
      "Generating for node: 0:   0%|          | 0/7 [00:00<?, ?it/s]/Users/tristenmarto/anaconda3/lib/python3.7/site-packages/pgmpy/factors/discrete/DiscreteFactor.py:522: UserWarning: Found unknown state name. Trying to switch to using all state names as state numbers\n",
      "  \"Found unknown state name. Trying to switch to using all state names as state numbers\"\n",
      "Generating for node: 4: 100%|██████████| 7/7 [00:00<00:00, 19.71it/s]\n",
      "2021-07-14 18:02:31,060:INFO:synthsonic: Running sampling via ('synthsonic', \"{'proportion': 1, 'distinct_threshold': -1, 'random_state': 5, 'do_PCA': True}\")\n",
      "2021-07-14 18:02:31,060:INFO:synthsonic: Running sampling via ('synthsonic', \"{'proportion': 1, 'distinct_threshold': -1, 'random_state': 5, 'do_PCA': True}\")\n",
      "n_quantiles (500) is greater than the total number of samples (28). n_quantiles is set to num samples.\n",
      "Building tree: 100%|██████████| 15/15.0 [00:00<00:00, 3592.04it/s]\n",
      "Generating for node: 0:   0%|          | 0/7 [00:00<?, ?it/s]/Users/tristenmarto/anaconda3/lib/python3.7/site-packages/pgmpy/factors/discrete/DiscreteFactor.py:522: UserWarning: Found unknown state name. Trying to switch to using all state names as state numbers\n",
      "  \"Found unknown state name. Trying to switch to using all state names as state numbers\"\n",
      "Generating for node: 6: 100%|██████████| 7/7 [00:01<00:00,  5.00it/s]\n",
      "/Users/tristenmarto/anaconda3/lib/python3.7/site-packages/sklearn/isotonic.py:71: UserWarning: Confidence interval of the Spearman correlation coefficient spans zero. Determination of ``increasing`` may be suspect.\n",
      "  warnings.warn(\"Confidence interval of the Spearman \"\n",
      "Generating for node: 0:   0%|          | 0/7 [00:00<?, ?it/s]/Users/tristenmarto/anaconda3/lib/python3.7/site-packages/pgmpy/factors/discrete/DiscreteFactor.py:522: UserWarning: Found unknown state name. Trying to switch to using all state names as state numbers\n",
      "  \"Found unknown state name. Trying to switch to using all state names as state numbers\"\n",
      "Generating for node: 6: 100%|██████████| 7/7 [00:00<00:00, 18.98it/s]\n"
     ]
    },
    {
     "data": {
      "image/png": "[encoded data removed]",
      "text/plain": [
       "<Figure size 864x504 with 2 Axes>"
      ]
     },
     "metadata": {
      "needs_background": "light"
     },
     "output_type": "display_data"
    }
   ],
   "source": [
    "# make plots\n",
    "f, axes = plt.subplots(1, 2, figsize=(12, 7))\n",
    "f.suptitle(f\"PR Curve for standard and oversampled {clf}\")\n",
    "\n",
    "# do kfold cross val and plot the PR curves\n",
    "k_fold = StratifiedKFold(n_splits=5, shuffle=True, random_state=5)\n",
    "\n",
    "y_real = []\n",
    "y_proba = []\n",
    "for i, (train_index, test_index) in enumerate(k_fold.split(X,y), 1):\n",
    "    X_train, X_test = X[train_index], X[test_index]\n",
    "    y_train, y_test = y[train_index], y[test_index]    \n",
    "\n",
    "    clf.fit(X_train, y_train)\n",
    "    probas = clf.predict_proba(X_test)\n",
    "    precision, recall, _ = precision_recall_curve(y_test, probas[:,1])\n",
    "    lab = f\"Fold {i} AUC = {auc(recall, precision)}\"\n",
    "    axes[0].step(recall, precision, label=lab)\n",
    "    y_real.append(y_test)\n",
    "    y_proba.append(probas[:,1])\n",
    "\n",
    "y_real = np.concatenate(y_real)\n",
    "y_proba = np.concatenate(y_proba)\n",
    "precision, recall, _ = precision_recall_curve(y_real, y_proba)\n",
    "lab = f\"Overall AUC = {auc(recall, precision)}\"\n",
    "axes[0].step(recall, precision, label=lab, lw=2, color='black')\n",
    "axes[0].set_xlabel('Recall')\n",
    "axes[0].set_ylabel('Precision')\n",
    "axes[0].legend(fontsize='small')\n",
    "\n",
    "# do kfold cross val and plot the PR curves\n",
    "y_real = []\n",
    "y_proba = []\n",
    "for i, (train_index, test_index) in enumerate(k_fold.split(X,y), 1):\n",
    "    X_train, X_test = X[train_index], X[test_index]\n",
    "    y_train, y_test = y[train_index], y[test_index]    \n",
    "\n",
    "    # generate samples\n",
    "    try :\n",
    "        X_train, y_train = over.sample(X_train, y_train)\n",
    "\n",
    "    except :\n",
    "        X_train, y_train = over.fit_resample(X_train, y_train)\n",
    "\n",
    "    clf.fit(X_train, y_train)\n",
    "    probas = clf.predict_proba(X_test)\n",
    "    precision, recall, _ = precision_recall_curve(y_test, probas[:,1])\n",
    "    lab = f\"Fold {i} AUC = {auc(recall, precision)}\"\n",
    "    axes[1].step(recall, precision, label=lab)\n",
    "    y_real.append(y_test)\n",
    "    y_proba.append(probas[:,1])\n",
    "\n",
    "y_real = np.concatenate(y_real)\n",
    "y_proba = np.concatenate(y_proba)\n",
    "precision, recall, _ = precision_recall_curve(y_real, y_proba)\n",
    "lab = f\"Overall AUC = {auc(recall, precision)}\"\n",
    "axes[1].step(recall, precision, label=lab, lw=2, color='black')\n",
    "axes[1].set_xlabel('Recall')\n",
    "axes[1].set_ylabel('Precision')\n",
    "axes[1].legend(fontsize='small')\n",
    "\n",
    "f.tight_layout()"
   ]
  },
  {
   "cell_type": "code",
   "execution_count": 5,
   "metadata": {},
   "outputs": [],
   "source": [
    "def classify(dataset, over, clf) :\n",
    "    \n",
    "    X,y,title = load_data(dataset)\n",
    "    # single split\n",
    "    X_train, X_test, y_train, y_test = train_test_split(X,y,test_size = 0.33, stratify = y, random_state = 5)\n",
    "    X_g, y_g = over.sample(X_train, y_train)\n",
    "    clf.fit(X_g, y_g)\n",
    "    pred = clf.predict(X_test)\n",
    "    probas = clf.predict_proba(X_test)\n",
    "\n",
    "    print(\"class imbalance:\",Counter(y))\n",
    "\n",
    "    return pred, probas\n",
    "\n",
    "def get_pr_curve(y_true, probas, thresholds) :\n",
    "    \n",
    "    xax = []\n",
    "    yax = []\n",
    "    \n",
    "    for thr in thresholds :\n",
    "        preds = Binarizer(threshold=thr).fit_transform([probas]).ravel()\n",
    "        tn, fp, fn, tp = confusion_matrix(y_true, preds).ravel()\n",
    "        precision = tp/(fp+tp)\n",
    "        recall = tp/(tp+fn)\n",
    "        \n",
    "        xax.append(recall)\n",
    "        yax.append(precision)\n",
    "        \n",
    "    return xax, yax"
   ]
  },
  {
   "cell_type": "code",
   "execution_count": 16,
   "metadata": {},
   "outputs": [
    {
     "name": "stderr",
     "output_type": "stream",
     "text": [
      "2021-07-14 18:33:21,183:INFO:synthsonic: Running sampling via ('synthsonic', \"{'proportion': 1, 'distinct_threshold': -1, 'random_state': 5, 'do_PCA': True}\")\n",
      "2021-07-14 18:33:21,183:INFO:synthsonic: Running sampling via ('synthsonic', \"{'proportion': 1, 'distinct_threshold': -1, 'random_state': 5, 'do_PCA': True}\")\n",
      "n_quantiles (500) is greater than the total number of samples (23). n_quantiles is set to num samples.\n",
      "Building tree: 100%|██████████| 15/15.0 [00:00<00:00, 3227.05it/s]\n",
      "Generating for node: 0:   0%|          | 0/7 [00:00<?, ?it/s]/Users/tristenmarto/anaconda3/lib/python3.7/site-packages/pgmpy/factors/discrete/DiscreteFactor.py:522: UserWarning: Found unknown state name. Trying to switch to using all state names as state numbers\n",
      "  \"Found unknown state name. Trying to switch to using all state names as state numbers\"\n",
      "Generating for node: 4: 100%|██████████| 7/7 [00:01<00:00,  4.29it/s]\n",
      "/Users/tristenmarto/anaconda3/lib/python3.7/site-packages/sklearn/isotonic.py:71: UserWarning: Confidence interval of the Spearman correlation coefficient spans zero. Determination of ``increasing`` may be suspect.\n",
      "  warnings.warn(\"Confidence interval of the Spearman \"\n",
      "Generating for node: 0:   0%|          | 0/7 [00:00<?, ?it/s]/Users/tristenmarto/anaconda3/lib/python3.7/site-packages/pgmpy/factors/discrete/DiscreteFactor.py:522: UserWarning: Found unknown state name. Trying to switch to using all state names as state numbers\n",
      "  \"Found unknown state name. Trying to switch to using all state names as state numbers\"\n",
      "Generating for node: 4: 100%|██████████| 7/7 [00:00<00:00, 26.54it/s]\n"
     ]
    },
    {
     "name": "stdout",
     "output_type": "stream",
     "text": [
      "class imbalance: Counter({0: 301, 1: 35})\n"
     ]
    },
    {
     "name": "stderr",
     "output_type": "stream",
     "text": [
      "/Users/tristenmarto/anaconda3/lib/python3.7/site-packages/ipykernel_launcher.py:23: RuntimeWarning: invalid value encountered in long_scalars\n"
     ]
    },
    {
     "data": {
      "text/plain": [
       "<matplotlib.collections.PathCollection at 0x7fa8a328e950>"
      ]
     },
     "execution_count": 16,
     "metadata": {},
     "output_type": "execute_result"
    },
    {
     "data": {
      "image/png": "[encoded data removed]",
      "text/plain": [
       "<Figure size 864x504 with 1 Axes>"
      ]
     },
     "metadata": {
      "needs_background": "light"
     },
     "output_type": "display_data"
    }
   ],
   "source": [
    "X,y,title = load_data('ecoli')\n",
    "pred, probas = classify('ecoli', over, clf)\n",
    "thresholds = np.linspace(0,1,num=100)\n",
    "X_train, X_test, y_train, y_test = train_test_split(X,y,test_size = 0.33, stratify = y, random_state = 5)\n",
    "xax, yax = get_pr_curve(y_test, probas[:,1], thresholds)\n",
    "plt.figure(figsize=(12,7))\n",
    "plt.title(\"PR curve ecoli\")\n",
    "plt.xlabel(\"Recall\")\n",
    "plt.ylabel(\"Precision\")\n",
    "plt.scatter(xax, yax)"
   ]
  },
  {
   "cell_type": "code",
   "execution_count": 12,
   "metadata": {},
   "outputs": [
    {
     "data": {
      "text/plain": [
       "<sklearn.metrics._plot.precision_recall_curve.PrecisionRecallDisplay at 0x7fa89f4c84d0>"
      ]
     },
     "execution_count": 12,
     "metadata": {},
     "output_type": "execute_result"
    },
    {
     "data": {
      "image/png": "[encoded data removed]",
      "text/plain": [
       "<Figure size 432x288 with 1 Axes>"
      ]
     },
     "metadata": {
      "needs_background": "light"
     },
     "output_type": "display_data"
    }
   ],
   "source": [
    "plot_precision_recall_curve(clf, X_test, y_test)"
   ]
  },
  {
   "cell_type": "code",
   "execution_count": 17,
   "metadata": {},
   "outputs": [
    {
     "name": "stderr",
     "output_type": "stream",
     "text": [
      "2021-07-14 18:33:31,752:INFO:synthsonic: Running sampling via ('synthsonic', \"{'proportion': 1, 'distinct_threshold': -1, 'random_state': 5, 'do_PCA': True}\")\n",
      "2021-07-14 18:33:31,752:INFO:synthsonic: Running sampling via ('synthsonic', \"{'proportion': 1, 'distinct_threshold': -1, 'random_state': 5, 'do_PCA': True}\")\n",
      "n_quantiles (500) is greater than the total number of samples (23). n_quantiles is set to num samples.\n",
      "Building tree: 100%|██████████| 15/15.0 [00:00<00:00, 157.21it/s]\n",
      "Generating for node: 0:   0%|          | 0/7 [00:00<?, ?it/s]/Users/tristenmarto/anaconda3/lib/python3.7/site-packages/pgmpy/factors/discrete/DiscreteFactor.py:522: UserWarning: Found unknown state name. Trying to switch to using all state names as state numbers\n",
      "  \"Found unknown state name. Trying to switch to using all state names as state numbers\"\n",
      "Generating for node: 4: 100%|██████████| 7/7 [00:01<00:00,  3.97it/s]\n",
      "/Users/tristenmarto/anaconda3/lib/python3.7/site-packages/sklearn/isotonic.py:71: UserWarning: Confidence interval of the Spearman correlation coefficient spans zero. Determination of ``increasing`` may be suspect.\n",
      "  warnings.warn(\"Confidence interval of the Spearman \"\n",
      "Generating for node: 0:   0%|          | 0/7 [00:00<?, ?it/s]/Users/tristenmarto/anaconda3/lib/python3.7/site-packages/pgmpy/factors/discrete/DiscreteFactor.py:522: UserWarning: Found unknown state name. Trying to switch to using all state names as state numbers\n",
      "  \"Found unknown state name. Trying to switch to using all state names as state numbers\"\n",
      "Generating for node: 4: 100%|██████████| 7/7 [00:00<00:00, 26.61it/s]\n"
     ]
    },
    {
     "data": {
      "text/plain": [
       "<sklearn.metrics._plot.precision_recall_curve.PrecisionRecallDisplay at 0x7fa8b4460610>"
      ]
     },
     "execution_count": 17,
     "metadata": {},
     "output_type": "execute_result"
    },
    {
     "data": {
      "image/png": "[encoded data removed]",
      "text/plain": [
       "<Figure size 432x288 with 1 Axes>"
      ]
     },
     "metadata": {
      "needs_background": "light"
     },
     "output_type": "display_data"
    }
   ],
   "source": [
    "X_train, y_train = over.sample(X_train,y_train)\n",
    "clf.fit(X_train,y_train)\n",
    "plot_precision_recall_curve(clf, X_test, y_test)"
   ]
  },
  {
   "cell_type": "code",
   "execution_count": 18,
   "metadata": {},
   "outputs": [
    {
     "data": {
      "text/plain": [
       "array([[1., 0.],\n",
       "       [0., 1.],\n",
       "       [0., 1.],\n",
       "       [1., 0.],\n",
       "       [0., 1.],\n",
       "       [1., 0.],\n",
       "       [1., 0.],\n",
       "       [1., 0.],\n",
       "       [1., 0.],\n",
       "       [1., 0.],\n",
       "       [1., 0.],\n",
       "       [1., 0.],\n",
       "       [1., 0.],\n",
       "       [1., 0.],\n",
       "       [1., 0.],\n",
       "       [1., 0.],\n",
       "       [1., 0.],\n",
       "       [1., 0.],\n",
       "       [1., 0.],\n",
       "       [1., 0.],\n",
       "       [1., 0.],\n",
       "       [0., 1.],\n",
       "       [1., 0.],\n",
       "       [1., 0.],\n",
       "       [1., 0.],\n",
       "       [1., 0.],\n",
       "       [1., 0.],\n",
       "       [1., 0.],\n",
       "       [1., 0.],\n",
       "       [1., 0.],\n",
       "       [1., 0.],\n",
       "       [1., 0.],\n",
       "       [0., 1.],\n",
       "       [1., 0.],\n",
       "       [1., 0.],\n",
       "       [1., 0.],\n",
       "       [1., 0.],\n",
       "       [1., 0.],\n",
       "       [1., 0.],\n",
       "       [1., 0.],\n",
       "       [1., 0.],\n",
       "       [0., 1.],\n",
       "       [1., 0.],\n",
       "       [1., 0.],\n",
       "       [1., 0.],\n",
       "       [1., 0.],\n",
       "       [1., 0.],\n",
       "       [0., 1.],\n",
       "       [1., 0.],\n",
       "       [1., 0.],\n",
       "       [1., 0.],\n",
       "       [0., 1.],\n",
       "       [1., 0.],\n",
       "       [1., 0.],\n",
       "       [1., 0.],\n",
       "       [1., 0.],\n",
       "       [1., 0.],\n",
       "       [1., 0.],\n",
       "       [0., 1.],\n",
       "       [1., 0.],\n",
       "       [1., 0.],\n",
       "       [1., 0.],\n",
       "       [1., 0.],\n",
       "       [1., 0.],\n",
       "       [1., 0.],\n",
       "       [1., 0.],\n",
       "       [1., 0.],\n",
       "       [1., 0.],\n",
       "       [1., 0.],\n",
       "       [1., 0.],\n",
       "       [1., 0.],\n",
       "       [1., 0.],\n",
       "       [1., 0.],\n",
       "       [1., 0.],\n",
       "       [1., 0.],\n",
       "       [1., 0.],\n",
       "       [1., 0.],\n",
       "       [1., 0.],\n",
       "       [1., 0.],\n",
       "       [0., 1.],\n",
       "       [1., 0.],\n",
       "       [1., 0.],\n",
       "       [0., 1.],\n",
       "       [1., 0.],\n",
       "       [0., 1.],\n",
       "       [1., 0.],\n",
       "       [1., 0.],\n",
       "       [1., 0.],\n",
       "       [1., 0.],\n",
       "       [0., 1.],\n",
       "       [1., 0.],\n",
       "       [1., 0.],\n",
       "       [1., 0.],\n",
       "       [1., 0.],\n",
       "       [0., 1.],\n",
       "       [1., 0.],\n",
       "       [1., 0.],\n",
       "       [1., 0.],\n",
       "       [1., 0.],\n",
       "       [1., 0.],\n",
       "       [1., 0.],\n",
       "       [1., 0.],\n",
       "       [1., 0.],\n",
       "       [1., 0.],\n",
       "       [0., 1.],\n",
       "       [1., 0.],\n",
       "       [1., 0.],\n",
       "       [1., 0.],\n",
       "       [1., 0.],\n",
       "       [1., 0.],\n",
       "       [1., 0.]])"
      ]
     },
     "execution_count": 18,
     "metadata": {},
     "output_type": "execute_result"
    }
   ],
   "source": [
    "probas"
   ]
  },
  {
   "cell_type": "code",
   "execution_count": null,
   "metadata": {},
   "outputs": [],
   "source": []
  }
 ],
 "metadata": {
  "kernelspec": {
   "display_name": "Python 3",
   "language": "python",
   "name": "python3"
  },
  "language_info": {
   "codemirror_mode": {
    "name": "ipython",
    "version": 3
   },
   "file_extension": ".py",
   "mimetype": "text/x-python",
   "name": "python",
   "nbconvert_exporter": "python",
   "pygments_lexer": "ipython3",
   "version": "3.7.6"
  }
 },
 "nbformat": 4,
 "nbformat_minor": 4
}
