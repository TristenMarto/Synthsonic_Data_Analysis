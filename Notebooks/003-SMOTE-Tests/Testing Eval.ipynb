{
 "cells": [
  {
   "cell_type": "code",
   "execution_count": 1,
   "metadata": {},
   "outputs": [],
   "source": [
    "import sys\n",
    "sys.path.append(\"/Users/tristenmarto/Documents/Studie/Thesis/Synthsonic_data_analysis\")\n",
    "\n",
    "import pandas as pd\n",
    "import numpy as np\n",
    "import smote_variants as sv\n",
    "import matplotlib.pyplot as plt\n",
    "\n",
    "from collections import Counter\n",
    "from sklearn import preprocessing\n",
    "\n",
    "from svSynthsonic import synthsonic\n",
    "from Evaluation import plot_oversampling, evaluate_oversamplers, writetodict"
   ]
  },
  {
   "cell_type": "code",
   "execution_count": 2,
   "metadata": {},
   "outputs": [],
   "source": [
    "path = \"/Users/tristenmarto/Documents/Studie/Thesis/Synthsonic_data_analysis/Datasets/\"\n",
    "credit_fraud = path+\"credit_fraud.csv\"\n",
    "credit_fraud = pd.read_csv(credit_fraud)"
   ]
  },
  {
   "cell_type": "code",
   "execution_count": 3,
   "metadata": {},
   "outputs": [],
   "source": [
    "credit_fraud_dict = writetodict(credit_fraud, \"credit_fraud\")\n",
    "X,y = credit_fraud_dict['data'],credit_fraud_dict['target']"
   ]
  },
  {
   "cell_type": "code",
   "execution_count": 22,
   "metadata": {},
   "outputs": [
    {
     "data": {
      "text/plain": [
       "(284807, 29)"
      ]
     },
     "execution_count": 22,
     "metadata": {},
     "output_type": "execute_result"
    }
   ],
   "source": [
    "X.shape"
   ]
  },
  {
   "cell_type": "code",
   "execution_count": 4,
   "metadata": {},
   "outputs": [],
   "source": [
    "s = synthsonic(distinct_threshold=-1)"
   ]
  },
  {
   "cell_type": "code",
   "execution_count": 6,
   "metadata": {},
   "outputs": [
    {
     "name": "stderr",
     "output_type": "stream",
     "text": [
      "n_quantiles (500) is greater than the total number of samples (492). n_quantiles is set to num samples.\n"
     ]
    },
    {
     "name": "stdout",
     "output_type": "stream",
     "text": [
      "minority class 1, min dataset (492, 29)\n"
     ]
    },
    {
     "name": "stderr",
     "output_type": "stream",
     "text": [
      "Building tree: 100%|██████████| 378/378.0 [00:00<00:00, 907.12it/s]\n",
      "Generating for node: 20: 100%|██████████| 29/29 [00:07<00:00,  3.76it/s]\n",
      "Generating for node: 20: 100%|██████████| 29/29 [00:21<00:00,  1.34it/s]\n"
     ]
    },
    {
     "ename": "IndexError",
     "evalue": "boolean index did not match indexed array along dimension 0; dimension is 564229 but corresponding boolean dimension is 568630",
     "output_type": "error",
     "traceback": [
      "\u001b[0;31m---------------------------------------------------------------------------\u001b[0m",
      "\u001b[0;31mIndexError\u001b[0m                                Traceback (most recent call last)",
      "\u001b[0;32m<ipython-input-6-0457a1d8bbd6>\u001b[0m in \u001b[0;36m<module>\u001b[0;34m\u001b[0m\n\u001b[0;32m----> 1\u001b[0;31m \u001b[0mplot_oversampling\u001b[0m\u001b[0;34m(\u001b[0m\u001b[0mX\u001b[0m\u001b[0;34m,\u001b[0m\u001b[0my\u001b[0m\u001b[0;34m,\u001b[0m\u001b[0;34m[\u001b[0m\u001b[0ms\u001b[0m\u001b[0;34m]\u001b[0m\u001b[0;34m)\u001b[0m\u001b[0;34m\u001b[0m\u001b[0;34m\u001b[0m\u001b[0m\n\u001b[0m",
      "\u001b[0;32m~/Documents/Studie/Thesis/Synthsonic_data_analysis/Evaluation.py\u001b[0m in \u001b[0;36mplot_oversampling\u001b[0;34m(X, y, oversamplers)\u001b[0m\n\u001b[1;32m     32\u001b[0m \u001b[0;34m\u001b[0m\u001b[0m\n\u001b[1;32m     33\u001b[0m         \u001b[0max\u001b[0m\u001b[0;34m=\u001b[0m \u001b[0mplt\u001b[0m\u001b[0;34m.\u001b[0m\u001b[0msubplot\u001b[0m\u001b[0;34m(\u001b[0m\u001b[0;36m122\u001b[0m\u001b[0;34m)\u001b[0m\u001b[0;34m\u001b[0m\u001b[0;34m\u001b[0m\u001b[0m\n\u001b[0;32m---> 34\u001b[0;31m         \u001b[0mplt\u001b[0m\u001b[0;34m.\u001b[0m\u001b[0mscatter\u001b[0m\u001b[0;34m(\u001b[0m\u001b[0mX_samp\u001b[0m\u001b[0;34m[\u001b[0m\u001b[0my_samp\u001b[0m \u001b[0;34m==\u001b[0m \u001b[0;36m0\u001b[0m\u001b[0;34m]\u001b[0m\u001b[0;34m[\u001b[0m\u001b[0;34m:\u001b[0m\u001b[0;34m,\u001b[0m\u001b[0;36m0\u001b[0m\u001b[0;34m]\u001b[0m\u001b[0;34m,\u001b[0m \u001b[0mX_samp\u001b[0m\u001b[0;34m[\u001b[0m\u001b[0my_samp\u001b[0m \u001b[0;34m==\u001b[0m \u001b[0;36m0\u001b[0m\u001b[0;34m]\u001b[0m\u001b[0;34m[\u001b[0m\u001b[0;34m:\u001b[0m\u001b[0;34m,\u001b[0m\u001b[0;36m1\u001b[0m\u001b[0;34m]\u001b[0m\u001b[0;34m,\u001b[0m \u001b[0mlabel\u001b[0m\u001b[0;34m=\u001b[0m\u001b[0;34m'majority class'\u001b[0m\u001b[0;34m,\u001b[0m \u001b[0mc\u001b[0m\u001b[0;34m=\u001b[0m\u001b[0;34m'orange'\u001b[0m\u001b[0;34m,\u001b[0m \u001b[0mmarker\u001b[0m\u001b[0;34m=\u001b[0m\u001b[0;34m'o'\u001b[0m\u001b[0;34m)\u001b[0m\u001b[0;34m\u001b[0m\u001b[0;34m\u001b[0m\u001b[0m\n\u001b[0m\u001b[1;32m     35\u001b[0m         \u001b[0mplt\u001b[0m\u001b[0;34m.\u001b[0m\u001b[0mscatter\u001b[0m\u001b[0;34m(\u001b[0m\u001b[0mX_samp\u001b[0m\u001b[0;34m[\u001b[0m\u001b[0my_samp\u001b[0m \u001b[0;34m==\u001b[0m \u001b[0;36m1\u001b[0m\u001b[0;34m]\u001b[0m\u001b[0;34m[\u001b[0m\u001b[0;34m:\u001b[0m\u001b[0;34m,\u001b[0m\u001b[0;36m0\u001b[0m\u001b[0;34m]\u001b[0m\u001b[0;34m,\u001b[0m \u001b[0mX_samp\u001b[0m\u001b[0;34m[\u001b[0m\u001b[0my_samp\u001b[0m \u001b[0;34m==\u001b[0m \u001b[0;36m1\u001b[0m\u001b[0;34m]\u001b[0m\u001b[0;34m[\u001b[0m\u001b[0;34m:\u001b[0m\u001b[0;34m,\u001b[0m\u001b[0;36m1\u001b[0m\u001b[0;34m]\u001b[0m\u001b[0;34m,\u001b[0m \u001b[0mlabel\u001b[0m\u001b[0;34m=\u001b[0m\u001b[0;34m'minority class'\u001b[0m\u001b[0;34m,\u001b[0m \u001b[0mc\u001b[0m\u001b[0;34m=\u001b[0m\u001b[0;34m'olive'\u001b[0m\u001b[0;34m,\u001b[0m \u001b[0mmarker\u001b[0m\u001b[0;34m=\u001b[0m\u001b[0;34m'o'\u001b[0m\u001b[0;34m)\u001b[0m\u001b[0;34m\u001b[0m\u001b[0;34m\u001b[0m\u001b[0m\n\u001b[1;32m     36\u001b[0m         \u001b[0mplt\u001b[0m\u001b[0;34m.\u001b[0m\u001b[0mtitle\u001b[0m\u001b[0;34m(\u001b[0m\u001b[0mo\u001b[0m\u001b[0;34m.\u001b[0m\u001b[0m__class__\u001b[0m\u001b[0;34m.\u001b[0m\u001b[0m__name__\u001b[0m\u001b[0;34m)\u001b[0m\u001b[0;34m\u001b[0m\u001b[0;34m\u001b[0m\u001b[0m\n",
      "\u001b[0;31mIndexError\u001b[0m: boolean index did not match indexed array along dimension 0; dimension is 564229 but corresponding boolean dimension is 568630"
     ]
    },
    {
     "data": {
      "image/png": "[encoded data removed]",
      "text/plain": [
       "<Figure size 864x360 with 2 Axes>"
      ]
     },
     "metadata": {
      "needs_background": "light"
     },
     "output_type": "display_data"
    }
   ],
   "source": [
    "plot_oversampling(X,y,[s])"
   ]
  },
  {
   "cell_type": "code",
   "execution_count": 10,
   "metadata": {},
   "outputs": [],
   "source": [
    "from synthsonic.models.kde_copula_nn_pdf import KDECopulaNNPdf\n",
    "\n",
    "class tsynthsonic(sv.OverSampling) :\n",
    "    \n",
    "    def __init__(self,\n",
    "                 proportion=1.0,\n",
    "                 distinct_threshold=100,\n",
    "                 n_jobs=1, \n",
    "                 random_state=None) :\n",
    "        \n",
    "        \n",
    "        super().__init__()\n",
    "        \n",
    "        self.check_greater_or_equal(proportion, \"proportion\", 0)\n",
    "        self.check_n_jobs(n_jobs, 'n_jobs')\n",
    "\n",
    "        self.proportion = proportion\n",
    "        self.distinct_threshold = distinct_threshold\n",
    "        self.n_jobs = n_jobs\n",
    "        self.random_state = random_state\n",
    "        \n",
    "    @classmethod\n",
    "    def parameter_combinations(cls, raw=False) :\n",
    "        \n",
    "        parameter_combinations = {'proportion': [0.1, 0.25, 0.5, 0.75,\n",
    "                                                 1.0, 1.5, 2.0]}\n",
    "        \n",
    "        return cls.generate_parameter_combinations(parameter_combinations, raw)\n",
    "    \n",
    "    def sample(self, X, y) :\n",
    "    \n",
    "        # Find minority class\n",
    "        # self.find_minority(X,y)\n",
    "        self.class_label_statistics(X, y)\n",
    "        \n",
    "        self.X_min = X[y == self.min_label]\n",
    "        \n",
    "        print(f\"minority class {self.min_label}, min dataset {self.X_min.shape}\")\n",
    "        \n",
    "        # fit model\n",
    "        kde = KDECopulaNNPdf(distinct_threshold=self.distinct_threshold)\n",
    "        kde = kde.fit(self.X_min)\n",
    "        \n",
    "        # determine n_samples\n",
    "        self.n_to_sample = self.det_n_to_sample(self.proportion,\n",
    "                                           self.class_stats[self.maj_label],\n",
    "                                           self.class_stats[self.min_label])\n",
    "\n",
    "        \n",
    "        \n",
    "        # sample\n",
    "        x1 = kde.sample_no_weights(n_samples=self.n_to_sample)\n",
    "        \n",
    "        X_samp = np.vstack([X,x1])\n",
    "        y_samp = np.hstack([y, [self.min_label]*self.n_to_sample])\n",
    "        \n",
    "        return X_samp, y_samp\n",
    "    \n",
    "        \n",
    "        def get_params(self) :\n",
    "            \n",
    "            return {'proportion': self.proportion, \n",
    "                'n_jobs': self.n_jobs,\n",
    "                'distinct_threshold': self.distinct_threshold,\n",
    "                'random_state': self.random_state}"
   ]
  },
  {
   "cell_type": "code",
   "execution_count": 11,
   "metadata": {},
   "outputs": [],
   "source": [
    "st = tsynthsonic(distinct_threshold=-1)"
   ]
  },
  {
   "cell_type": "code",
   "execution_count": 12,
   "metadata": {},
   "outputs": [
    {
     "name": "stderr",
     "output_type": "stream",
     "text": [
      "n_quantiles (500) is greater than the total number of samples (492). n_quantiles is set to num samples.\n"
     ]
    },
    {
     "name": "stdout",
     "output_type": "stream",
     "text": [
      "minority class 1, min dataset (492, 29)\n"
     ]
    },
    {
     "name": "stderr",
     "output_type": "stream",
     "text": [
      "Building tree: 100%|██████████| 378/378.0 [00:00<00:00, 912.48it/s]\n",
      "Generating for node: 20: 100%|██████████| 29/29 [00:08<00:00,  3.54it/s]\n",
      "Generating for node: 20: 100%|██████████| 29/29 [00:22<00:00,  1.29it/s]\n"
     ]
    }
   ],
   "source": [
    "t,u = st.sample(X,y)"
   ]
  },
  {
   "cell_type": "code",
   "execution_count": 14,
   "metadata": {},
   "outputs": [
    {
     "data": {
      "text/plain": [
       "(564229, 29)"
      ]
     },
     "execution_count": 14,
     "metadata": {},
     "output_type": "execute_result"
    }
   ],
   "source": [
    "t.shape"
   ]
  },
  {
   "cell_type": "code",
   "execution_count": 15,
   "metadata": {},
   "outputs": [
    {
     "data": {
      "text/plain": [
       "(284807, 29)"
      ]
     },
     "execution_count": 15,
     "metadata": {},
     "output_type": "execute_result"
    }
   ],
   "source": [
    "X.shape"
   ]
  },
  {
   "cell_type": "code",
   "execution_count": 16,
   "metadata": {},
   "outputs": [
    {
     "data": {
      "text/plain": [
       "569614"
      ]
     },
     "execution_count": 16,
     "metadata": {},
     "output_type": "execute_result"
    }
   ],
   "source": [
    "284807*2"
   ]
  },
  {
   "cell_type": "code",
   "execution_count": null,
   "metadata": {},
   "outputs": [],
   "source": []
  }
 ],
 "metadata": {
  "kernelspec": {
   "display_name": "Python 3",
   "language": "python",
   "name": "python3"
  },
  "language_info": {
   "codemirror_mode": {
    "name": "ipython",
    "version": 3
   },
   "file_extension": ".py",
   "mimetype": "text/x-python",
   "name": "python",
   "nbconvert_exporter": "python",
   "pygments_lexer": "ipython3",
   "version": "3.7.6"
  }
 },
 "nbformat": 4,
 "nbformat_minor": 4
}
