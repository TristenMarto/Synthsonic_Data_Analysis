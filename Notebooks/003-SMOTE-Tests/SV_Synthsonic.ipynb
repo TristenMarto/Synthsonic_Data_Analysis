{
 "cells": [
  {
   "cell_type": "code",
   "execution_count": 5,
   "metadata": {},
   "outputs": [],
   "source": [
    "import numpy as np\n",
    "import matplotlib.pyplot as plt\n",
    "import smote_variants as sv\n",
    "import imbalanced_databases as imbd\n",
    "import pandas as pd\n",
    "\n",
    "from collections import Counter\n",
    "\n",
    "from sklearn import datasets\n",
    "\n",
    "from sklearn.pipeline import Pipeline\n",
    "from sklearn.tree import DecisionTreeClassifier\n",
    "from synthsonic.models.kde_copula_nn_pdf import KDECopulaNNPdf\n",
    "\n",
    "from sklearn.model_selection import cross_val_score\n",
    "from sklearn.model_selection import RepeatedStratifiedKFold\n",
    "\n",
    "from sklearn.tree import DecisionTreeClassifier\n",
    "from sklearn.neighbors import KNeighborsClassifier"
   ]
  },
  {
   "cell_type": "code",
   "execution_count": 25,
   "metadata": {},
   "outputs": [],
   "source": [
    "class synthsonic(sv.OverSampling) :\n",
    "    \n",
    "    def __init__(self,\n",
    "                 proportion=1.0,\n",
    "                 distinct_threshold=-1,\n",
    "                 n_jobs=1, \n",
    "                 random_state=None) :\n",
    "        \n",
    "        \n",
    "        super().__init__()\n",
    "        \n",
    "        self.check_greater_or_equal(proportion, \"proportion\", 0)\n",
    "        self.check_n_jobs(n_jobs, 'n_jobs')\n",
    "\n",
    "        self.proportion = proportion\n",
    "        self.distinct_threshold = distinct_threshold\n",
    "        self.n_jobs = n_jobs\n",
    "\n",
    "        self.set_random_state(random_state)\n",
    "        \n",
    "    @classmethod\n",
    "    def parameter_combinations(cls, raw=False) :\n",
    "        \n",
    "        parameter_combinations = {'proportion': [0.1, 0.25, 0.5, 0.75,\n",
    "                                                 1.0, 1.5, 2.0]}\n",
    "        \n",
    "        return cls.generate_parameter_combinations(parameter_combinations, raw)\n",
    "    \n",
    "    def sample(self, X, y) :\n",
    "        \n",
    "        # Find minority class\n",
    "        # self.find_minority(X,y)\n",
    "        \n",
    "        self.class_label_statistics(X, y)\n",
    "        \n",
    "        self.X_min = X[y == self.min_label]\n",
    "        \n",
    "        # determine n_samples\n",
    "        self.n_to_sample = self.det_n_to_sample(self.proportion,\n",
    "                                           self.class_stats[self.maj_label],\n",
    "                                           self.class_stats[self.min_label])\n",
    "        \n",
    "        # fit model\n",
    "        kde = KDECopulaNNPdf(distinct_threshold=self.distinct_threshold)\n",
    "        kde = kde.fit(self.X_min)\n",
    "        \n",
    "        \n",
    "        # sample\n",
    "        x1 = kde.sample_no_weights(n_samples=self.n_to_sample)\n",
    "        \n",
    "        X_samp = np.vstack([X,x1])\n",
    "        y_samp = np.hstack([y, [self.min_label]*self.n_to_sample])\n",
    "        \n",
    "        return X_samp, y_samp\n",
    "\n",
    "#     def get_params(self) :\n",
    "#         return {'proportion': self.proportion, \n",
    "#                 'n_jobs': self.n_jobs,\n",
    "#                 'distinct_threshold':self.distinct.threshold,\n",
    "#                 'random_state': self.random_state}\n",
    "    \n",
    "\n",
    "\n",
    "def writetodict(dataset,name) :\n",
    "    \n",
    "    data = dataset.iloc[:,:-1].values\n",
    "    target = dataset.iloc[:,-1].values\n",
    "\n",
    "    return {'data':data,\n",
    "            'target':target,\n",
    "            'name':name}\n",
    "    \n",
    "def plotter(X,y,title) :\n",
    "    \n",
    "    counter = Counter(y)\n",
    "    \n",
    "    for label, _ in counter.items() :\n",
    "        rowix = np.where(y == label)[0]\n",
    "        plt.scatter(X[rowix, 0], X[rowix, 1], label=str(label))\n",
    "    plt.legend()\n",
    "    plt.title(title)\n",
    "    plt.show()\n",
    "\n",
    "    print(counter)"
   ]
  },
  {
   "cell_type": "code",
   "execution_count": 7,
   "metadata": {},
   "outputs": [
    {
     "data": {
      "image/png": "[encoded data removed]",
      "text/plain": [
       "<Figure size 432x288 with 1 Axes>"
      ]
     },
     "metadata": {
      "needs_background": "light"
     },
     "output_type": "display_data"
    },
    {
     "name": "stdout",
     "output_type": "stream",
     "text": [
      "Counter({0: 49500, 1: 500})\n"
     ]
    }
   ],
   "source": [
    "X, y = datasets.make_classification(n_samples=50000, n_features = 4, n_redundant=0, \n",
    "                           n_clusters_per_class=1, weights=[0.99], flip_y=0, random_state=7)\n",
    "\n",
    "counter = Counter(y)\n",
    "\n",
    "\n",
    "plotter(X,y,\"original\")"
   ]
  },
  {
   "cell_type": "code",
   "execution_count": 27,
   "metadata": {},
   "outputs": [
    {
     "name": "stderr",
     "output_type": "stream",
     "text": [
      "Building tree: 100%|██████████| 3/3.0 [00:00<00:00, 2139.59it/s]\n",
      "Generating for node: 3: 100%|██████████| 4/4 [00:00<00:00,  5.92it/s]\n",
      "Generating for node: 3: 100%|██████████| 4/4 [00:00<00:00,  9.22it/s]\n"
     ]
    }
   ],
   "source": [
    "synth = synthsonic()\n",
    "xs, ys = synth.sample(X,y)"
   ]
  },
  {
   "cell_type": "code",
   "execution_count": 29,
   "metadata": {},
   "outputs": [
    {
     "data": {
      "text/plain": [
       "(99000, 4)"
      ]
     },
     "execution_count": 29,
     "metadata": {},
     "output_type": "execute_result"
    }
   ],
   "source": [
    "xs.shape"
   ]
  },
  {
   "cell_type": "code",
   "execution_count": 30,
   "metadata": {},
   "outputs": [
    {
     "data": {
      "text/plain": [
       "99000"
      ]
     },
     "execution_count": 30,
     "metadata": {},
     "output_type": "execute_result"
    }
   ],
   "source": []
  },
  {
   "cell_type": "code",
   "execution_count": null,
   "metadata": {},
   "outputs": [],
   "source": []
  }
 ],
 "metadata": {
  "kernelspec": {
   "display_name": "Python 3",
   "language": "python",
   "name": "python3"
  },
  "language_info": {
   "codemirror_mode": {
    "name": "ipython",
    "version": 3
   },
   "file_extension": ".py",
   "mimetype": "text/x-python",
   "name": "python",
   "nbconvert_exporter": "python",
   "pygments_lexer": "ipython3",
   "version": "3.7.6"
  }
 },
 "nbformat": 4,
 "nbformat_minor": 4
}
