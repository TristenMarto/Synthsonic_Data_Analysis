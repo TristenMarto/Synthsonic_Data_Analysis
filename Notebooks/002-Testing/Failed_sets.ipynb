{
 "cells": [
  {
   "cell_type": "code",
   "execution_count": 23,
   "metadata": {},
   "outputs": [],
   "source": [
    "failed = [('RandomOverSampler', 0.1, 'abalone'), ('SMOTENC', 0.1, 'abalone'), ('SVMSMOTE', 0.1, 'abalone'), ('SMOTENC', 0.1, 'car_eval_34'), ('SMOTENC', 0.3, 'car_eval_34'), ('SMOTENC', 0.5, 'car_eval_34'), ('SMOTENC', 0.7, 'car_eval_34'), ('SMOTENC', 0.9, 'car_eval_34'), ('SMOTENC', 1, 'car_eval_34'), ('SMOTENC', 0.1, 'car_eval_4'), ('SMOTENC', 0.3, 'car_eval_4'), ('SMOTENC', 0.5, 'car_eval_4'), ('SMOTENC', 0.7, 'car_eval_4'), ('SMOTENC', 0.9, 'car_eval_4'), ('SMOTENC', 1, 'car_eval_4'), ('RandomOverSampler', 0.1, 'ecoli'), ('SMOTENC', 0.1, 'ecoli'), ('SVMSMOTE', 0.1, 'ecoli'), ('SMOTENC', 0.1, 'letter_img'), ('SMOTENC', 0.3, 'letter_img'), ('SMOTENC', 0.5, 'letter_img'), ('SMOTENC', 0.7, 'letter_img'), ('SMOTENC', 0.9, 'letter_img'), ('SMOTENC', 1, 'letter_img'), ('SMOTENC', 0.1, 'libras_move'), ('SMOTENC', 0.3, 'libras_move'), ('SMOTENC', 0.5, 'libras_move'), ('SMOTENC', 0.7, 'libras_move'), ('SMOTENC', 0.9, 'libras_move'), ('SMOTENC', 1, 'libras_move'), ('SMOTENC', 0.1, 'mammography'), ('SMOTENC', 0.3, 'mammography'), ('SMOTENC', 0.5, 'mammography'), ('SMOTENC', 0.7, 'mammography'), ('SMOTENC', 0.9, 'mammography'), ('SMOTENC', 1, 'mammography'), ('RandomOverSampler', 0.1, 'optical_digits'), ('SMOTENC', 0.1, 'optical_digits'), ('SMOTENC', 0.3, 'optical_digits'), ('SMOTENC', 0.5, 'optical_digits'), ('SMOTENC', 0.7, 'optical_digits'), ('SMOTENC', 0.9, 'optical_digits'), ('SMOTENC', 1, 'optical_digits'), ('SVMSMOTE', 0.1, 'optical_digits'), ('SMOTENC', 0.1, 'ozone_level'), ('SMOTENC', 0.3, 'ozone_level'), ('SMOTENC', 0.5, 'ozone_level'), ('SMOTENC', 0.7, 'ozone_level'), ('SMOTENC', 0.9, 'ozone_level'), ('SMOTENC', 1, 'ozone_level'), ('RandomOverSampler', 0.1, 'pen_digits'), ('SMOTENC', 0.1, 'pen_digits'), ('SMOTENC', 0.3, 'pen_digits'), ('SMOTENC', 0.5, 'pen_digits'), ('SMOTENC', 0.7, 'pen_digits'), ('SMOTENC', 0.9, 'pen_digits'), ('SMOTENC', 1, 'pen_digits'), ('SVMSMOTE', 0.1, 'pen_digits'), ('SMOTENC', 0.1, 'protein_homo'), ('SMOTENC', 0.3, 'protein_homo'), ('SMOTENC', 0.5, 'protein_homo'), ('SMOTENC', 0.7, 'protein_homo'), ('SMOTENC', 0.9, 'protein_homo'), ('SMOTENC', 1, 'protein_homo'), ('RandomOverSampler', 0.1, 'satimage'), ('SMOTENC', 0.1, 'satimage'), ('SMOTENC', 0.3, 'satimage'), ('SMOTENC', 0.5, 'satimage'), ('SMOTENC', 0.7, 'satimage'), ('SMOTENC', 0.9, 'satimage'), ('SMOTENC', 1, 'satimage'), ('SVMSMOTE', 0.1, 'satimage'), ('SMOTENC', 0.1, 'scene'), ('SMOTENC', 0.3, 'scene'), ('SMOTENC', 0.5, 'scene'), ('SMOTENC', 0.7, 'scene'), ('SMOTENC', 0.9, 'scene'), ('SMOTENC', 1, 'scene'), ('RandomOverSampler', 0.1, 'sick_euthyroid'), ('SMOTENC', 0.1, 'sick_euthyroid'), ('SVMSMOTE', 0.1, 'sick_euthyroid'), ('SMOTENC', 0.1, 'solar_flare_m0'), ('SMOTENC', 0.3, 'solar_flare_m0'), ('SMOTENC', 0.5, 'solar_flare_m0'), ('SMOTENC', 0.7, 'solar_flare_m0'), ('SMOTENC', 0.9, 'solar_flare_m0'), ('SMOTENC', 1, 'solar_flare_m0'), ('SMOTENC', 0.1, 'spectrometer'), ('SMOTENC', 0.3, 'spectrometer'), ('SMOTENC', 0.5, 'spectrometer'), ('SMOTENC', 0.7, 'spectrometer'), ('SMOTENC', 0.9, 'spectrometer'), ('SMOTENC', 1, 'spectrometer'), ('SMOTENC', 0.1, 'webpage'), ('SMOTENC', 0.3, 'webpage'), ('SMOTENC', 0.5, 'webpage'), ('SMOTENC', 0.7, 'webpage'), ('SMOTENC', 0.9, 'webpage'), ('SMOTENC', 1, 'webpage'), ('SMOTENC', 0.1, 'wine_quality'), ('SMOTENC', 0.3, 'wine_quality'), ('SMOTENC', 0.5, 'wine_quality'), ('SMOTENC', 0.7, 'wine_quality'), ('SMOTENC', 0.9, 'wine_quality'), ('SMOTENC', 1, 'wine_quality'), ('SMOTENC', 0.1, 'yeast_ml8'), ('SMOTENC', 0.3, 'yeast_ml8'), ('SMOTENC', 0.5, 'yeast_ml8'), ('SMOTENC', 0.7, 'yeast_ml8'), ('SMOTENC', 0.9, 'yeast_ml8'), ('SMOTENC', 1, 'yeast_ml8')]"
   ]
  },
  {
   "cell_type": "code",
   "execution_count": 2,
   "metadata": {},
   "outputs": [],
   "source": [
    "import sys\n",
    "import os\n",
    "\n",
    "sys.path.append('/Users/tristenmarto/Documents/Studie/Thesis/Synthsonic_data_analysis')\n",
    "\n",
    "from Evaluation import synthsonic\n",
    "import pandas as pd\n",
    "import numpy as np\n",
    "import csv\n",
    "import time\n",
    "import smote_variants as sv\n",
    "from sklearn.preprocessing import StandardScaler, LabelEncoder\n",
    "from imblearn.over_sampling import RandomOverSampler, SMOTENC, SVMSMOTE\n",
    "from imblearn.datasets import fetch_datasets\n",
    "from sklearn.model_selection import train_test_split"
   ]
  },
  {
   "cell_type": "code",
   "execution_count": 3,
   "metadata": {},
   "outputs": [],
   "source": [
    "def load_data(name) :\n",
    "    \n",
    "    datasets = fetch_datasets()\n",
    "\n",
    "    data = datasets[name]\n",
    "\n",
    "    X,y,title = data['data'], data['target'], data['DESCR']\n",
    "    \n",
    "    le = LabelEncoder()\n",
    "    y_enc = le.fit_transform(y)\n",
    "\n",
    "    return X, y_enc, title\n",
    "\n",
    "def sample_oversamplers(result_path, datasets, oversamplers, proportions, random_state = 5) :\n",
    "\n",
    "    failed_sets=[]\n",
    "\n",
    "    for dataset in datasets :\n",
    "        \n",
    "        # load data\n",
    "        X,y,title = load_data(dataset)\n",
    "\n",
    "        print(20*\"-\")\n",
    "        print(title)\n",
    "\n",
    "        datasetfolder = str(result_path)+str(title)\n",
    "        if not os.path.exists(datasetfolder) :\n",
    "            os.makedirs(datasetfolder)\n",
    "\n",
    "        # split to train\n",
    "        X_train, X_test, y_train, y_test = train_test_split(X,y, test_size = 0.35, random_state=random_state)\n",
    "\n",
    "        # initialize oversampler\n",
    "        for oversampler in oversamplers :\n",
    "            print(oversampler.__name__)\n",
    "\n",
    "            subfolder = str(datasetfolder)+\"/\"+str(oversampler.__name__)\n",
    "\n",
    "            if not os.path.exists(subfolder) :\n",
    "                os.makedirs(subfolder)\n",
    "\n",
    "            for prop in proportions :\n",
    "                print(f\"oversampling with {oversampler.__name__} with proportion {prop}\")\n",
    "\n",
    "                if oversampler.__name__ == 'synthsonic' :\n",
    "                    o = oversampler(random_state=random_state,\n",
    "                    distinct_threshold = 20,\n",
    "                    proportion = prop)\n",
    "\n",
    "                elif oversampler.__name__ == 'ADASYN' :\n",
    "                    o = oversampler(beta = prop,\n",
    "                                    n_jobs=-1)\n",
    "\n",
    "                elif oversampler.__name__ == 'SVM_balance' :\n",
    "                    o = oversampler(random_state = random_state,\n",
    "                                    proportion = prop,\n",
    "                                    n_jobs=-1)\n",
    "\n",
    "                elif oversampler.__name__ == 'SMOTENC' :\n",
    "                    cats = []\n",
    "\n",
    "                    for i in range(X_train.shape[1]) :\n",
    "                        if len(np.unique(X_train[:,i])) < 20 :\n",
    "                            cats.append(i)\n",
    "\n",
    "                        o = oversampler(random_state=random_state,\n",
    "                                        categorical_features = cats,\n",
    "                                        sampling_strategy = prop)\n",
    "\n",
    "                else :\n",
    "                    try :\n",
    "                        print(f\"Trying {oversampler.__name__} with proportion\")\n",
    "                        o = oversampler(random_state=random_state,\n",
    "                                        proportion = prop)\n",
    "                    \n",
    "                    except :\n",
    "                        try : \n",
    "                            print(f\"Trying {oversampler.__name__} with sampling strategy\")\n",
    "                            o = oversampler(random_state=random_state,\n",
    "                                            sampling_strategy=prop)\n",
    "\n",
    "                        except :\n",
    "                            print(\"No configurations possible, setting default parameters\")\n",
    "                            o = oversampler(random_state=random_state)\n",
    "\n",
    "                savefile = str(dataset)+str(oversampler.__name__)+str(prop).replace(\".\",\"_\")\n",
    "\n",
    "                # generate the sample\n",
    "                try :\n",
    "                    x_g, y_g = o.sample(X_train,y_train)\n",
    "\n",
    "                    temp_df = pd.DataFrame(np.c_[x_g,y_g])\n",
    "                    temp_df.to_csv(subfolder+\"/\"+savefile+\".csv\", index=False)\n",
    "\n",
    "                except AttributeError :\n",
    "                    \n",
    "                    try :\n",
    "                        x_g, y_g = o.fit_resample(X_train,y_train)\n",
    "                        \n",
    "                        temp_df = pd.DataFrame(np.c_[x_g,y_g])\n",
    "                        temp_df.to_csv(subfolder+\"/\"+savefile+\".csv\", index=False)\n",
    "\n",
    "                    except ValueError :\n",
    "                        print(\"proportion too low to resample, continuing with others\")\n",
    "                        failed_sets.append((oversampler.__name__, prop, dataset))\n",
    "\n",
    "                    except IndexError :\n",
    "                        print(\"something failed\")\n",
    "                        failed_sets.append((oversampler.__name__, prop, dataset))\n",
    "\n",
    "\n",
    "                except ValueError :\n",
    "                    print(f\"Could not run {oversampler.__name__} for {dataset}\")\n",
    "                    \n",
    "                    if oversampler.__name__ == 'synthsonic' :\n",
    "                        try :\n",
    "                            \n",
    "                            o = oversampler(random_state=random_state,\n",
    "                                        distinct_threshold = 20,\n",
    "                                        proportion = prop,\n",
    "                                        do_PCA = False)\n",
    "\n",
    "                            x_g, y_g = o.sample(X_train,y_train)\n",
    "\n",
    "                            temp_df = pd.DataFrame(np.c_[x_g,y_g])\n",
    "                            temp_df.to_csv(subfolder+\"/\"+savefile+\".csv\", index=False)\n",
    "\n",
    "                        except :\n",
    "                            failed_sets.append((oversampler.__name__, prop, dataset))\n",
    "    \n",
    "                except IndexError :\n",
    "                    failed_sets.append((oversampler.__name__, prop, dataset))\n",
    "\n",
    "\n",
    "    print(failed_sets)\n",
    "\n",
    "\n"
   ]
  },
  {
   "cell_type": "code",
   "execution_count": 24,
   "metadata": {},
   "outputs": [
    {
     "name": "stdout",
     "output_type": "stream",
     "text": [
      "('RandomOverSampler', 0.1, 'abalone')\n",
      "('SMOTENC', 0.1, 'abalone')\n",
      "('SVMSMOTE', 0.1, 'abalone')\n",
      "('SMOTENC', 0.1, 'car_eval_34')\n",
      "('SMOTENC', 0.3, 'car_eval_34')\n",
      "('SMOTENC', 0.5, 'car_eval_34')\n",
      "('SMOTENC', 0.7, 'car_eval_34')\n",
      "('SMOTENC', 0.9, 'car_eval_34')\n",
      "('SMOTENC', 1, 'car_eval_34')\n",
      "('SMOTENC', 0.1, 'car_eval_4')\n",
      "('SMOTENC', 0.3, 'car_eval_4')\n",
      "('SMOTENC', 0.5, 'car_eval_4')\n",
      "('SMOTENC', 0.7, 'car_eval_4')\n",
      "('SMOTENC', 0.9, 'car_eval_4')\n",
      "('SMOTENC', 1, 'car_eval_4')\n",
      "('RandomOverSampler', 0.1, 'ecoli')\n",
      "('SMOTENC', 0.1, 'ecoli')\n",
      "('SVMSMOTE', 0.1, 'ecoli')\n",
      "('SMOTENC', 0.1, 'letter_img')\n",
      "('SMOTENC', 0.3, 'letter_img')\n",
      "('SMOTENC', 0.5, 'letter_img')\n",
      "('SMOTENC', 0.7, 'letter_img')\n",
      "('SMOTENC', 0.9, 'letter_img')\n",
      "('SMOTENC', 1, 'letter_img')\n",
      "('SMOTENC', 0.1, 'libras_move')\n",
      "('SMOTENC', 0.3, 'libras_move')\n",
      "('SMOTENC', 0.5, 'libras_move')\n",
      "('SMOTENC', 0.7, 'libras_move')\n",
      "('SMOTENC', 0.9, 'libras_move')\n",
      "('SMOTENC', 1, 'libras_move')\n",
      "('SMOTENC', 0.1, 'mammography')\n",
      "('SMOTENC', 0.3, 'mammography')\n",
      "('SMOTENC', 0.5, 'mammography')\n",
      "('SMOTENC', 0.7, 'mammography')\n",
      "('SMOTENC', 0.9, 'mammography')\n",
      "('SMOTENC', 1, 'mammography')\n",
      "('RandomOverSampler', 0.1, 'optical_digits')\n",
      "('SMOTENC', 0.1, 'optical_digits')\n",
      "('SMOTENC', 0.3, 'optical_digits')\n",
      "('SMOTENC', 0.5, 'optical_digits')\n",
      "('SMOTENC', 0.7, 'optical_digits')\n",
      "('SMOTENC', 0.9, 'optical_digits')\n",
      "('SMOTENC', 1, 'optical_digits')\n",
      "('SVMSMOTE', 0.1, 'optical_digits')\n",
      "('SMOTENC', 0.1, 'ozone_level')\n",
      "('SMOTENC', 0.3, 'ozone_level')\n",
      "('SMOTENC', 0.5, 'ozone_level')\n",
      "('SMOTENC', 0.7, 'ozone_level')\n",
      "('SMOTENC', 0.9, 'ozone_level')\n",
      "('SMOTENC', 1, 'ozone_level')\n",
      "('RandomOverSampler', 0.1, 'pen_digits')\n",
      "('SMOTENC', 0.1, 'pen_digits')\n",
      "('SMOTENC', 0.3, 'pen_digits')\n",
      "('SMOTENC', 0.5, 'pen_digits')\n",
      "('SMOTENC', 0.7, 'pen_digits')\n",
      "('SMOTENC', 0.9, 'pen_digits')\n",
      "('SMOTENC', 1, 'pen_digits')\n",
      "('SVMSMOTE', 0.1, 'pen_digits')\n",
      "('SMOTENC', 0.1, 'protein_homo')\n",
      "('SMOTENC', 0.3, 'protein_homo')\n",
      "('SMOTENC', 0.5, 'protein_homo')\n",
      "('SMOTENC', 0.7, 'protein_homo')\n",
      "('SMOTENC', 0.9, 'protein_homo')\n",
      "('SMOTENC', 1, 'protein_homo')\n",
      "('RandomOverSampler', 0.1, 'satimage')\n",
      "('SMOTENC', 0.1, 'satimage')\n",
      "('SMOTENC', 0.3, 'satimage')\n",
      "('SMOTENC', 0.5, 'satimage')\n",
      "('SMOTENC', 0.7, 'satimage')\n",
      "('SMOTENC', 0.9, 'satimage')\n",
      "('SMOTENC', 1, 'satimage')\n",
      "('SVMSMOTE', 0.1, 'satimage')\n",
      "('SMOTENC', 0.1, 'scene')\n",
      "('SMOTENC', 0.3, 'scene')\n",
      "('SMOTENC', 0.5, 'scene')\n",
      "('SMOTENC', 0.7, 'scene')\n",
      "('SMOTENC', 0.9, 'scene')\n",
      "('SMOTENC', 1, 'scene')\n",
      "('RandomOverSampler', 0.1, 'sick_euthyroid')\n",
      "('SMOTENC', 0.1, 'sick_euthyroid')\n",
      "('SVMSMOTE', 0.1, 'sick_euthyroid')\n",
      "('SMOTENC', 0.1, 'solar_flare_m0')\n",
      "('SMOTENC', 0.3, 'solar_flare_m0')\n",
      "('SMOTENC', 0.5, 'solar_flare_m0')\n",
      "('SMOTENC', 0.7, 'solar_flare_m0')\n",
      "('SMOTENC', 0.9, 'solar_flare_m0')\n",
      "('SMOTENC', 1, 'solar_flare_m0')\n",
      "('SMOTENC', 0.1, 'spectrometer')\n",
      "('SMOTENC', 0.3, 'spectrometer')\n",
      "('SMOTENC', 0.5, 'spectrometer')\n",
      "('SMOTENC', 0.7, 'spectrometer')\n",
      "('SMOTENC', 0.9, 'spectrometer')\n",
      "('SMOTENC', 1, 'spectrometer')\n",
      "('SMOTENC', 0.1, 'webpage')\n",
      "('SMOTENC', 0.3, 'webpage')\n",
      "('SMOTENC', 0.5, 'webpage')\n",
      "('SMOTENC', 0.7, 'webpage')\n",
      "('SMOTENC', 0.9, 'webpage')\n",
      "('SMOTENC', 1, 'webpage')\n",
      "('SMOTENC', 0.1, 'wine_quality')\n",
      "('SMOTENC', 0.3, 'wine_quality')\n",
      "('SMOTENC', 0.5, 'wine_quality')\n",
      "('SMOTENC', 0.7, 'wine_quality')\n",
      "('SMOTENC', 0.9, 'wine_quality')\n",
      "('SMOTENC', 1, 'wine_quality')\n",
      "('SMOTENC', 0.1, 'yeast_ml8')\n",
      "('SMOTENC', 0.3, 'yeast_ml8')\n",
      "('SMOTENC', 0.5, 'yeast_ml8')\n",
      "('SMOTENC', 0.7, 'yeast_ml8')\n",
      "('SMOTENC', 0.9, 'yeast_ml8')\n",
      "('SMOTENC', 1, 'yeast_ml8')\n"
     ]
    }
   ],
   "source": [
    "for i in failed :\n",
    "    print(i)"
   ]
  },
  {
   "cell_type": "code",
   "execution_count": 17,
   "metadata": {},
   "outputs": [],
   "source": [
    "oversamplers = []\n",
    "datasets = []\n",
    "proportions = []\n",
    "\n",
    "for i in failed :\n",
    "    oversamplers.append(i[0])\n",
    "    proportions.append(i[1])\n",
    "    datasets.append(i[2])"
   ]
  },
  {
   "cell_type": "code",
   "execution_count": 22,
   "metadata": {},
   "outputs": [
    {
     "data": {
      "text/plain": [
       "array([0.1, 0.3, 0.5, 0.7, 0.9, 1. ])"
      ]
     },
     "execution_count": 22,
     "metadata": {},
     "output_type": "execute_result"
    }
   ],
   "source": [
    "np.unique(proportions)"
   ]
  },
  {
   "cell_type": "code",
   "execution_count": 11,
   "metadata": {},
   "outputs": [
    {
     "data": {
      "text/plain": [
       "'SMOTENC'"
      ]
     },
     "execution_count": 11,
     "metadata": {},
     "output_type": "execute_result"
    }
   ],
   "source": [
    "oversamplers"
   ]
  },
  {
   "cell_type": "code",
   "execution_count": 5,
   "metadata": {},
   "outputs": [],
   "source": [
    "X,y,z = load_data('spectrometer')\n",
    "\n",
    "X_train, X_test, y_train, y_test = train_test_split(X,y,test_size=0.33, random_state=5)"
   ]
  },
  {
   "cell_type": "code",
   "execution_count": 6,
   "metadata": {},
   "outputs": [],
   "source": [
    "o = synthsonic(do_PCA=False, distinct_threshold=20, random_state=5, proportion=0.3)"
   ]
  },
  {
   "cell_type": "code",
   "execution_count": 7,
   "metadata": {},
   "outputs": [
    {
     "name": "stderr",
     "output_type": "stream",
     "text": [
      "2021-06-21 10:11:45,212:INFO:synthsonic: Running sampling via ('synthsonic', \"{'proportion': 0.3, 'n_jobs': 1, 'distinct_threshold': 20, 'random_state': 5}\")\n",
      "2021-06-21 10:11:45,212:INFO:synthsonic: Running sampling via ('synthsonic', \"{'proportion': 0.3, 'n_jobs': 1, 'distinct_threshold': 20, 'random_state': 5}\")\n",
      "n_quantiles (500) is greater than the total number of samples (28). n_quantiles is set to num samples.\n",
      "Cannot order non-linear variables by pca (turned off). Switching to mutual information.\n",
      "Building tree:   3%|▎         | 120/4186.0 [00:00<00:03, 1117.01it/s]"
     ]
    },
    {
     "name": "stdout",
     "output_type": "stream",
     "text": [
      "minority class 1, min dataset (28, 93)\n"
     ]
    },
    {
     "name": "stderr",
     "output_type": "stream",
     "text": [
      "Building tree: 100%|██████████| 4186/4186.0 [00:04<00:00, 1014.05it/s]\n",
      "Generating for node: 91: 100%|██████████| 93/93 [00:31<00:00,  2.94it/s]\n"
     ]
    },
    {
     "ename": "TqdmKeyError",
     "evalue": "\"Unknown argument(s): {'description': 'mutual info regression'}\"",
     "output_type": "error",
     "traceback": [
      "\u001b[0;31m---------------------------------------------------------------------------\u001b[0m",
      "\u001b[0;31mTqdmKeyError\u001b[0m                              Traceback (most recent call last)",
      "\u001b[0;32m<ipython-input-7-d72835a46c15>\u001b[0m in \u001b[0;36m<module>\u001b[0;34m\u001b[0m\n\u001b[0;32m----> 1\u001b[0;31m \u001b[0mo\u001b[0m\u001b[0;34m.\u001b[0m\u001b[0msample\u001b[0m\u001b[0;34m(\u001b[0m\u001b[0mX_train\u001b[0m\u001b[0;34m,\u001b[0m\u001b[0my_train\u001b[0m\u001b[0;34m)\u001b[0m\u001b[0;34m\u001b[0m\u001b[0;34m\u001b[0m\u001b[0m\n\u001b[0m",
      "\u001b[0;32m~/Documents/Studie/Thesis/Synthsonic_data_analysis/Evaluation.py\u001b[0m in \u001b[0;36msample\u001b[0;34m(self, X, y)\u001b[0m\n\u001b[1;32m     79\u001b[0m                              \u001b[0mnumerical_columns\u001b[0m\u001b[0;34m=\u001b[0m\u001b[0;34m[\u001b[0m\u001b[0;34m]\u001b[0m\u001b[0;34m,\u001b[0m\u001b[0;34m\u001b[0m\u001b[0;34m\u001b[0m\u001b[0m\n\u001b[1;32m     80\u001b[0m                              categorical_columns=[])\n\u001b[0;32m---> 81\u001b[0;31m         \u001b[0mkde\u001b[0m \u001b[0;34m=\u001b[0m \u001b[0mkde\u001b[0m\u001b[0;34m.\u001b[0m\u001b[0mfit\u001b[0m\u001b[0;34m(\u001b[0m\u001b[0mself\u001b[0m\u001b[0;34m.\u001b[0m\u001b[0mX_min\u001b[0m\u001b[0;34m)\u001b[0m\u001b[0;34m\u001b[0m\u001b[0;34m\u001b[0m\u001b[0m\n\u001b[0m\u001b[1;32m     82\u001b[0m \u001b[0;34m\u001b[0m\u001b[0m\n\u001b[1;32m     83\u001b[0m         \u001b[0;31m# determine n_samples\u001b[0m\u001b[0;34m\u001b[0m\u001b[0;34m\u001b[0m\u001b[0;34m\u001b[0m\u001b[0m\n",
      "\u001b[0;32m~/anaconda3/lib/python3.7/site-packages/synthsonic-0.1.0-py3.7.egg/synthsonic/models/kde_copula_nn_pdf.py\u001b[0m in \u001b[0;36mfit\u001b[0;34m(self, X, y)\u001b[0m\n\u001b[1;32m    307\u001b[0m         \u001b[0mself\u001b[0m\u001b[0;34m.\u001b[0m\u001b[0mlogger\u001b[0m\u001b[0;34m.\u001b[0m\u001b[0minfo\u001b[0m\u001b[0;34m(\u001b[0m\u001b[0;34mf'Configuring classifier.'\u001b[0m\u001b[0;34m)\u001b[0m\u001b[0;34m\u001b[0m\u001b[0;34m\u001b[0m\u001b[0m\n\u001b[1;32m    308\u001b[0m         \u001b[0mX_trans\u001b[0m \u001b[0;34m=\u001b[0m \u001b[0mself\u001b[0m\u001b[0;34m.\u001b[0m\u001b[0m_join_and_reorder\u001b[0m\u001b[0;34m(\u001b[0m\u001b[0mX_cat\u001b[0m\u001b[0;34m,\u001b[0m \u001b[0mX_uniform\u001b[0m\u001b[0;34m,\u001b[0m \u001b[0mself\u001b[0m\u001b[0;34m.\u001b[0m\u001b[0mcategorical_columns\u001b[0m\u001b[0;34m,\u001b[0m \u001b[0mself\u001b[0m\u001b[0;34m.\u001b[0m\u001b[0mnumerical_columns\u001b[0m\u001b[0;34m)\u001b[0m\u001b[0;34m\u001b[0m\u001b[0;34m\u001b[0m\u001b[0m\n\u001b[0;32m--> 309\u001b[0;31m         \u001b[0mself\u001b[0m\u001b[0;34m.\u001b[0m\u001b[0m_configure_classifier\u001b[0m\u001b[0;34m(\u001b[0m\u001b[0mX_discrete\u001b[0m\u001b[0;34m,\u001b[0m \u001b[0mX_trans\u001b[0m\u001b[0;34m)\u001b[0m\u001b[0;34m\u001b[0m\u001b[0;34m\u001b[0m\u001b[0m\n\u001b[0m\u001b[1;32m    310\u001b[0m \u001b[0;34m\u001b[0m\u001b[0m\n\u001b[1;32m    311\u001b[0m         \u001b[0;32mreturn\u001b[0m \u001b[0mself\u001b[0m\u001b[0;34m\u001b[0m\u001b[0;34m\u001b[0m\u001b[0m\n",
      "\u001b[0;32m~/anaconda3/lib/python3.7/site-packages/synthsonic-0.1.0-py3.7.egg/synthsonic/models/kde_copula_nn_pdf.py\u001b[0m in \u001b[0;36m_configure_classifier\u001b[0;34m(self, X_discrete, X_trans)\u001b[0m\n\u001b[1;32m    399\u001b[0m         \u001b[0mn_sample\u001b[0m \u001b[0;34m=\u001b[0m \u001b[0mint\u001b[0m\u001b[0;34m(\u001b[0m\u001b[0mX_discrete\u001b[0m\u001b[0;34m.\u001b[0m\u001b[0mshape\u001b[0m\u001b[0;34m[\u001b[0m\u001b[0;36m0\u001b[0m\u001b[0;34m]\u001b[0m \u001b[0;34m*\u001b[0m \u001b[0;34m(\u001b[0m\u001b[0;36m1.\u001b[0m \u001b[0;34m-\u001b[0m \u001b[0mself\u001b[0m\u001b[0;34m.\u001b[0m\u001b[0mtest_size\u001b[0m\u001b[0;34m)\u001b[0m\u001b[0;34m)\u001b[0m \u001b[0;34m+\u001b[0m \u001b[0mmax\u001b[0m\u001b[0;34m(\u001b[0m\u001b[0;36m250000\u001b[0m\u001b[0;34m,\u001b[0m \u001b[0mX_discrete\u001b[0m\u001b[0;34m.\u001b[0m\u001b[0mshape\u001b[0m\u001b[0;34m[\u001b[0m\u001b[0;36m0\u001b[0m\u001b[0;34m]\u001b[0m\u001b[0;34m)\u001b[0m\u001b[0;34m\u001b[0m\u001b[0;34m\u001b[0m\u001b[0m\n\u001b[1;32m    400\u001b[0m         \u001b[0mX_bn\u001b[0m \u001b[0;34m=\u001b[0m \u001b[0mself\u001b[0m\u001b[0;34m.\u001b[0m\u001b[0m_sample_bayesian_network\u001b[0m\u001b[0;34m(\u001b[0m\u001b[0msize\u001b[0m\u001b[0;34m=\u001b[0m\u001b[0mn_sample\u001b[0m\u001b[0;34m,\u001b[0m \u001b[0madd_uniform\u001b[0m\u001b[0;34m=\u001b[0m\u001b[0;32mFalse\u001b[0m\u001b[0;34m,\u001b[0m \u001b[0mseed\u001b[0m\u001b[0;34m=\u001b[0m\u001b[0mself\u001b[0m\u001b[0;34m.\u001b[0m\u001b[0mrandom_state\u001b[0m\u001b[0;34m)\u001b[0m\u001b[0;34m\u001b[0m\u001b[0;34m\u001b[0m\u001b[0m\n\u001b[0;32m--> 401\u001b[0;31m         \u001b[0mself\u001b[0m\u001b[0;34m.\u001b[0m\u001b[0m_configure_nonlinear_variables\u001b[0m\u001b[0;34m(\u001b[0m\u001b[0mX_discrete\u001b[0m\u001b[0;34m=\u001b[0m\u001b[0mX_discrete\u001b[0m\u001b[0;34m,\u001b[0m \u001b[0mX_expect\u001b[0m\u001b[0;34m=\u001b[0m\u001b[0mX_bn\u001b[0m\u001b[0;34m)\u001b[0m\u001b[0;34m\u001b[0m\u001b[0;34m\u001b[0m\u001b[0m\n\u001b[0m\u001b[1;32m    402\u001b[0m \u001b[0;34m\u001b[0m\u001b[0m\n\u001b[1;32m    403\u001b[0m         \u001b[0;31m# fit the classifier with selected non-linear variables (default is all)\u001b[0m\u001b[0;34m\u001b[0m\u001b[0;34m\u001b[0m\u001b[0;34m\u001b[0m\u001b[0m\n",
      "\u001b[0;32m~/anaconda3/lib/python3.7/site-packages/synthsonic-0.1.0-py3.7.egg/synthsonic/models/kde_copula_nn_pdf.py\u001b[0m in \u001b[0;36m_configure_nonlinear_variables\u001b[0;34m(self, X_discrete, X_expect)\u001b[0m\n\u001b[1;32m    626\u001b[0m         \u001b[0;32mif\u001b[0m \u001b[0mself\u001b[0m\u001b[0;34m.\u001b[0m\u001b[0mordering\u001b[0m \u001b[0;34m==\u001b[0m \u001b[0;34m\"mi\"\u001b[0m\u001b[0;34m:\u001b[0m\u001b[0;34m\u001b[0m\u001b[0;34m\u001b[0m\u001b[0m\n\u001b[1;32m    627\u001b[0m             \u001b[0mself\u001b[0m\u001b[0;34m.\u001b[0m\u001b[0mlogger\u001b[0m\u001b[0;34m.\u001b[0m\u001b[0minfo\u001b[0m\u001b[0;34m(\u001b[0m\u001b[0;34mf'Selecting non-linear features: {self.ordering}'\u001b[0m\u001b[0;34m)\u001b[0m\u001b[0;34m\u001b[0m\u001b[0;34m\u001b[0m\u001b[0m\n\u001b[0;32m--> 628\u001b[0;31m             \u001b[0mself\u001b[0m\u001b[0;34m.\u001b[0m\u001b[0mnonlinear_indices_\u001b[0m\u001b[0;34m,\u001b[0m \u001b[0mself\u001b[0m\u001b[0;34m.\u001b[0m\u001b[0mresidual_indices_\u001b[0m \u001b[0;34m=\u001b[0m \u001b[0mself\u001b[0m\u001b[0;34m.\u001b[0m\u001b[0m_configure_vars_mi\u001b[0m\u001b[0;34m(\u001b[0m\u001b[0mX_discrete\u001b[0m\u001b[0;34m,\u001b[0m \u001b[0mX_expect\u001b[0m\u001b[0;34m)\u001b[0m\u001b[0;34m\u001b[0m\u001b[0;34m\u001b[0m\u001b[0m\n\u001b[0m\u001b[1;32m    629\u001b[0m         \u001b[0;32melif\u001b[0m \u001b[0mself\u001b[0m\u001b[0;34m.\u001b[0m\u001b[0mordering\u001b[0m \u001b[0;34m==\u001b[0m \u001b[0;34m\"phik\"\u001b[0m\u001b[0;34m:\u001b[0m\u001b[0;34m\u001b[0m\u001b[0;34m\u001b[0m\u001b[0m\n\u001b[1;32m    630\u001b[0m             \u001b[0mself\u001b[0m\u001b[0;34m.\u001b[0m\u001b[0mlogger\u001b[0m\u001b[0;34m.\u001b[0m\u001b[0minfo\u001b[0m\u001b[0;34m(\u001b[0m\u001b[0;34mf'Selecting non-linear features: {self.ordering}'\u001b[0m\u001b[0;34m)\u001b[0m\u001b[0;34m\u001b[0m\u001b[0;34m\u001b[0m\u001b[0m\n",
      "\u001b[0;32m~/anaconda3/lib/python3.7/site-packages/synthsonic-0.1.0-py3.7.egg/synthsonic/models/kde_copula_nn_pdf.py\u001b[0m in \u001b[0;36m_configure_vars_mi\u001b[0;34m(self, X_discrete, X_expect)\u001b[0m\n\u001b[1;32m    706\u001b[0m         \u001b[0;31m# use mutual information to capture residual levels of non-linearity\u001b[0m\u001b[0;34m\u001b[0m\u001b[0;34m\u001b[0m\u001b[0;34m\u001b[0m\u001b[0m\n\u001b[1;32m    707\u001b[0m         \u001b[0mmi\u001b[0m \u001b[0;34m=\u001b[0m \u001b[0mnp\u001b[0m\u001b[0;34m.\u001b[0m\u001b[0mzeros\u001b[0m\u001b[0;34m(\u001b[0m\u001b[0;34m(\u001b[0m\u001b[0mn_features\u001b[0m\u001b[0;34m,\u001b[0m \u001b[0mn_features\u001b[0m\u001b[0;34m)\u001b[0m\u001b[0;34m)\u001b[0m\u001b[0;34m\u001b[0m\u001b[0;34m\u001b[0m\u001b[0m\n\u001b[0;32m--> 708\u001b[0;31m         \u001b[0;32mfor\u001b[0m \u001b[0mi\u001b[0m \u001b[0;32min\u001b[0m \u001b[0mtqdm\u001b[0m\u001b[0;34m(\u001b[0m\u001b[0mrange\u001b[0m\u001b[0;34m(\u001b[0m\u001b[0mn_features\u001b[0m\u001b[0;34m)\u001b[0m\u001b[0;34m,\u001b[0m \u001b[0mdescription\u001b[0m\u001b[0;34m=\u001b[0m\u001b[0;34m'mutual info regression'\u001b[0m\u001b[0;34m,\u001b[0m \u001b[0mtotal\u001b[0m\u001b[0;34m=\u001b[0m\u001b[0mn_features\u001b[0m\u001b[0;34m)\u001b[0m\u001b[0;34m:\u001b[0m\u001b[0;34m\u001b[0m\u001b[0;34m\u001b[0m\u001b[0m\n\u001b[0m\u001b[1;32m    709\u001b[0m             \u001b[0mmi\u001b[0m\u001b[0;34m[\u001b[0m\u001b[0mi\u001b[0m\u001b[0;34m,\u001b[0m \u001b[0;34m:\u001b[0m\u001b[0;34m]\u001b[0m \u001b[0;34m=\u001b[0m \u001b[0mmutual_info_regression\u001b[0m\u001b[0;34m(\u001b[0m\u001b[0mX_discrete\u001b[0m\u001b[0;34m,\u001b[0m \u001b[0mX_discrete\u001b[0m\u001b[0;34m[\u001b[0m\u001b[0;34m:\u001b[0m\u001b[0;34m,\u001b[0m \u001b[0mi\u001b[0m\u001b[0;34m]\u001b[0m\u001b[0;34m,\u001b[0m \u001b[0mrandom_state\u001b[0m\u001b[0;34m=\u001b[0m\u001b[0mself\u001b[0m\u001b[0;34m.\u001b[0m\u001b[0mrandom_state\u001b[0m \u001b[0;34m+\u001b[0m \u001b[0mi\u001b[0m\u001b[0;34m)\u001b[0m\u001b[0;34m\u001b[0m\u001b[0;34m\u001b[0m\u001b[0m\n\u001b[1;32m    710\u001b[0m \u001b[0;34m\u001b[0m\u001b[0m\n",
      "\u001b[0;32m~/anaconda3/lib/python3.7/site-packages/tqdm/std.py\u001b[0m in \u001b[0;36m__init__\u001b[0;34m(self, iterable, desc, total, leave, file, ncols, mininterval, maxinterval, miniters, ascii, disable, unit, unit_scale, dynamic_ncols, smoothing, bar_format, initial, position, postfix, unit_divisor, write_bytes, lock_args, nrows, colour, delay, gui, **kwargs)\u001b[0m\n\u001b[1;32m   1012\u001b[0m                     fp_write=getattr(file, 'write', sys.stderr.write))\n\u001b[1;32m   1013\u001b[0m                 \u001b[0;32mif\u001b[0m \u001b[0;34m\"nested\"\u001b[0m \u001b[0;32min\u001b[0m \u001b[0mkwargs\u001b[0m \u001b[0;32melse\u001b[0m\u001b[0;34m\u001b[0m\u001b[0;34m\u001b[0m\u001b[0m\n\u001b[0;32m-> 1014\u001b[0;31m                 TqdmKeyError(\"Unknown argument(s): \" + str(kwargs)))\n\u001b[0m\u001b[1;32m   1015\u001b[0m \u001b[0;34m\u001b[0m\u001b[0m\n\u001b[1;32m   1016\u001b[0m         \u001b[0;31m# Preprocess the arguments\u001b[0m\u001b[0;34m\u001b[0m\u001b[0;34m\u001b[0m\u001b[0;34m\u001b[0m\u001b[0m\n",
      "\u001b[0;31mTqdmKeyError\u001b[0m: \"Unknown argument(s): {'description': 'mutual info regression'}\""
     ]
    }
   ],
   "source": [
    "o.sample(X_train,y_train)"
   ]
  },
  {
   "cell_type": "code",
   "execution_count": null,
   "metadata": {},
   "outputs": [],
   "source": [
    "from synthsonic.models.kde_copula_nn_pdf import KDECopulaNNPdf\n",
    "\n",
    "kde = KDECopulaNNPdf(random_state=5, do_PCA=False, distinct_threshold=20, clf=None)\n",
    "\n",
    "print(X_train.shape)\n",
    "\n",
    "kde.fit(X_train,y_train)"
   ]
  },
  {
   "cell_type": "code",
   "execution_count": null,
   "metadata": {},
   "outputs": [],
   "source": []
  }
 ],
 "metadata": {
  "kernelspec": {
   "display_name": "Python 3",
   "language": "python",
   "name": "python3"
  },
  "language_info": {
   "codemirror_mode": {
    "name": "ipython",
    "version": 3
   },
   "file_extension": ".py",
   "mimetype": "text/x-python",
   "name": "python",
   "nbconvert_exporter": "python",
   "pygments_lexer": "ipython3",
   "version": "3.7.6"
  }
 },
 "nbformat": 4,
 "nbformat_minor": 4
}
