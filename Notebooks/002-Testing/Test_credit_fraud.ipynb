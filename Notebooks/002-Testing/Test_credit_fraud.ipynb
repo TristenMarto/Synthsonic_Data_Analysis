{
 "cells": [
  {
   "cell_type": "code",
   "execution_count": 35,
   "metadata": {},
   "outputs": [],
   "source": [
    "import numpy as np\n",
    "import matplotlib.pyplot as plt\n",
    "import smote_variants as sv\n",
    "import imbalanced_databases as imbd\n",
    "import pandas as pd\n",
    "import time\n",
    "import logging\n",
    "\n",
    "from collections import Counter\n",
    "\n",
    "from imblearn.metrics import geometric_mean_score, classification_report_imbalanced\n",
    "\n",
    "from sklearn.pipeline import Pipeline\n",
    "from sklearn.tree import DecisionTreeClassifier\n",
    "from synthsonic.models.kde_copula_nn_pdf import KDECopulaNNPdf\n",
    "\n",
    "from sklearn.model_selection import cross_val_score, RepeatedStratifiedKFold, train_test_split\n",
    "from sklearn.metrics import recall_score, roc_auc_score, f1_score, brier_score_loss, balanced_accuracy_score, accuracy_score\n",
    "\n",
    "from sklearn.tree import DecisionTreeClassifier\n",
    "from sklearn.neighbors import KNeighborsClassifier\n",
    "\n",
    "from sklearn import preprocessing\n",
    "\n",
    "\n",
    "le = preprocessing.LabelEncoder()\n",
    "random_state=4"
   ]
  },
  {
   "cell_type": "code",
   "execution_count": 36,
   "metadata": {},
   "outputs": [],
   "source": [
    "_logger = logging.getLogger('smote_variants')\n",
    "_logger.setLevel(logging.DEBUG)\n",
    "_logger_ch = logging.StreamHandler()\n",
    "_logger_ch.setFormatter(logging.Formatter(\n",
    "    \"%(asctime)s:%(levelname)s:%(message)s\"))\n",
    "_logger.addHandler(_logger_ch)"
   ]
  },
  {
   "cell_type": "code",
   "execution_count": 37,
   "metadata": {},
   "outputs": [],
   "source": [
    "class synthsonic(sv.OverSampling) :\n",
    "    \n",
    "    def __init__(self,\n",
    "                 proportion=1.0,\n",
    "                 distinct_threshold=-1,\n",
    "                 n_jobs=1, \n",
    "                 random_state=random_state) :\n",
    "        \n",
    "        \n",
    "        super().__init__()\n",
    "        \n",
    "        self.check_greater_or_equal(proportion, \"proportion\", 0)\n",
    "        self.check_n_jobs(n_jobs, 'n_jobs')\n",
    "\n",
    "        self.proportion = proportion\n",
    "        self.distinct_threshold = distinct_threshold\n",
    "        self.n_jobs = n_jobs\n",
    "\n",
    "        self.set_random_state(random_state)\n",
    "        \n",
    "    @classmethod\n",
    "    def parameter_combinations(cls, raw=False) :\n",
    "        \n",
    "        parameter_combinations = {'proportion': [0.1, 0.25, 0.5, 0.75,\n",
    "                                                 1.0, 1.5, 2.0]}\n",
    "        \n",
    "        return cls.generate_parameter_combinations(parameter_combinations, raw)\n",
    "    \n",
    "    def sample(self, X, y) :\n",
    "        \n",
    "        _logger.info(self.__class__.__name__ + \": \" +\n",
    "                     \"Running sampling via %s\" % self.descriptor())\n",
    "        \n",
    "        # Find minority class\n",
    "        # self.find_minority(X,y)\n",
    "        self.class_label_statistics(X, y)\n",
    "        \n",
    "        self.X_min = X[y == self.min_label]\n",
    "        \n",
    "        print(f\"minority class {self.min_label}, min dataset {self.X_min.shape}\")\n",
    "        \n",
    "        # fit model\n",
    "        kde = KDECopulaNNPdf(distinct_threshold=self.distinct_threshold)\n",
    "        kde = kde.fit(self.X_min)\n",
    "        \n",
    "        # determine n_samples\n",
    "        self.n_to_sample = self.det_n_to_sample(self.proportion,\n",
    "                                           self.class_stats[self.maj_label],\n",
    "                                           self.class_stats[self.min_label])\n",
    "\n",
    "        \n",
    "        # sample\n",
    "        x1 = kde.sample_no_weights(n_samples=self.n_to_sample, mode='cheap')\n",
    "        \n",
    "        X_samp = np.vstack([X,x1])\n",
    "        y_samp = np.hstack([y, [self.min_label]*self.n_to_sample])\n",
    "        \n",
    "        return X_samp, y_samp\n",
    "\n",
    "    def get_params(self) :\n",
    "        return {'proportion': self.proportion, \n",
    "                'n_jobs': self.n_jobs,\n",
    "                'distinct_threshold':self.distinct_threshold,\n",
    "                'random_state': self.random_state}\n",
    "    \n",
    "\n",
    "\n",
    "def writetodict(dataset,name) :\n",
    "    \n",
    "    data = dataset.iloc[:,:-1].values\n",
    "    target = dataset.iloc[:,-1].values\n",
    "\n",
    "    return {'data':data,\n",
    "            'target':target,\n",
    "            'name':name}\n",
    "    \n",
    "def plotter(X,y,title) :\n",
    "    \n",
    "    counter = Counter(y)\n",
    "    \n",
    "    for label, _ in counter.items() :\n",
    "        rowix = np.where(y == label)[0]\n",
    "        plt.scatter(X[rowix, 0], X[rowix, 1], label=str(label))\n",
    "    plt.legend()\n",
    "    plt.title(title)\n",
    "    plt.show()\n",
    "\n",
    "    print(counter)\n",
    "    \n",
    "def plot_oversampling(X,y, oversamplers) :\n",
    "    \n",
    "    for o in oversamplers:\n",
    "        oversampler= o()\n",
    "        X_samp, y_samp= oversampler.sample(X, y)\n",
    "\n",
    "        plt.figure(figsize=(12, 5))\n",
    "        ax= plt.subplot(121)\n",
    "        plt.scatter(X[y == 0][:,0], X[y == 0][:,1], label='majority class', c='orange', marker='o')\n",
    "        plt.scatter(X[y == 1][:,0], X[y == 1][:,1], label='minority class', c='olive', marker='o')\n",
    "        plt.title('original')\n",
    "        plt.xlabel('coordinate 0')\n",
    "        plt.ylabel('coordinate 1')\n",
    "        plt.legend()\n",
    "\n",
    "        ax= plt.subplot(122)\n",
    "        plt.scatter(X_samp[y_samp == 0][:,0], X_samp[y_samp == 0][:,1], label='majority class', c='orange', marker='o')\n",
    "        plt.scatter(X_samp[y_samp == 1][:,0], X_samp[y_samp == 1][:,1], label='minority class', c='olive', marker='o')\n",
    "        plt.title(oversampler.__class__.__name__)\n",
    "        plt.xlabel('coordinate 0')\n",
    "        plt.ylabel('coordinate 1')\n",
    "        plt.legend()\n",
    "        plt.show()\n",
    "\n",
    "        \n",
    "def evaluate_oversamplers(datasets, oversamplers, classifier, random_state) :\n",
    "\n",
    "    results = []\n",
    "\n",
    "    for data in datasets :\n",
    "        \n",
    "        X, y, name = data['data'], data['target'], data['name']\n",
    "        \n",
    "        X_train, X_test, y_train, y_test = train_test_split(X, y, test_size=0.33, random_state = random_state)\n",
    "        \n",
    "        for o in oversamplers :\n",
    "            \n",
    "        \n",
    "            \n",
    "            oversampler = o(random_state=random_state)\n",
    "            print(oversampler)\n",
    "\n",
    "            t0 = time.time()\n",
    "            X_s,y_s = oversampler.sample(X_train, y_train)\n",
    "            t1 = time.time() - t0\n",
    "\n",
    "            classifier.fit(X_s,y_s)\n",
    "            prediction = classifier.predict(X_test)\n",
    "            proba = classifier.predict_proba(X_test)[:,1]\n",
    "\n",
    "            f_dict = {\n",
    "                'dataset':name,\n",
    "                'sampler': oversampler.__class__.__name__,\n",
    "                'clf_score': classifier.score(X_test,y_test),\n",
    "                'accuracy': accuracy_score(y_test, prediction),\n",
    "                'balanced acc': balanced_accuracy_score(y_test,prediction),\n",
    "                'recall': recall_score(y_test,prediction),\n",
    "                'roc_auc_score': roc_auc_score(y_test, proba),\n",
    "                'f1_score': f1_score(y_test, prediction, average='binary'),\n",
    "                'brier_score_loss': brier_score_loss(y_test, proba),\n",
    "                'geometric mean': geometric_mean_score(y_test, prediction),\n",
    "                'report': classification_report_imbalanced(y_test,prediction, target_names=['class 0', 'class 1']),\n",
    "                'runtime': t1\n",
    "            }\n",
    "\n",
    "            results.append(f_dict)\n",
    "            \n",
    "    return results"
   ]
  },
  {
   "cell_type": "code",
   "execution_count": 38,
   "metadata": {},
   "outputs": [
    {
     "data": {
      "image/png": "[encoded data removed]",
      "text/plain": [
       "<Figure size 432x288 with 1 Axes>"
      ]
     },
     "metadata": {
      "needs_background": "light"
     },
     "output_type": "display_data"
    },
    {
     "name": "stdout",
     "output_type": "stream",
     "text": [
      "Counter({0: 284315, 1: 492})\n"
     ]
    }
   ],
   "source": [
    "# loading datasets\n",
    "\n",
    "path = \"/Users/tristenmarto/Documents/Studie/Thesis/Synthsonic_data_analysis/Datasets/\"\n",
    "data = path+\"credit_fraud.csv\"\n",
    "\n",
    "data = pd.read_csv(data)\n",
    "\n",
    "plotter(data.iloc[:,:-1].values,data.iloc[:,-1].values, \"distribution\")\n",
    "\n",
    "data_dict = writetodict(data, 'credit_fraud')\n",
    "X,y,name = data_dict['data'],data_dict['target'],data_dict['name']"
   ]
  },
  {
   "cell_type": "code",
   "execution_count": 39,
   "metadata": {},
   "outputs": [],
   "source": [
    "datasets = [data_dict]\n",
    "oversamplers = [synthsonic, sv.NoSMOTE, sv.SMOTE, sv.NT_SMOTE, sv.SMOTE_D]\n",
    "classifier = DecisionTreeClassifier(random_state=random_state)\n",
    "random_state = random_state"
   ]
  },
  {
   "cell_type": "code",
   "execution_count": 40,
   "metadata": {},
   "outputs": [
    {
     "name": "stderr",
     "output_type": "stream",
     "text": [
      "2021-06-04 13:00:36,806:INFO:synthsonic: Running sampling via ('synthsonic', \"{'proportion': 1.0, 'n_jobs': 1, 'distinct_threshold': -1, 'random_state': RandomState(MT19937) at 0x7F8AFA612D10}\")\n",
      "2021-06-04 13:00:36,806:INFO:synthsonic: Running sampling via ('synthsonic', \"{'proportion': 1.0, 'n_jobs': 1, 'distinct_threshold': -1, 'random_state': RandomState(MT19937) at 0x7F8AFA612D10}\")\n",
      "2021-06-04 13:00:36,806:INFO:synthsonic: Running sampling via ('synthsonic', \"{'proportion': 1.0, 'n_jobs': 1, 'distinct_threshold': -1, 'random_state': RandomState(MT19937) at 0x7F8AFA612D10}\")\n",
      "2021-06-04 13:00:36,806:INFO:synthsonic: Running sampling via ('synthsonic', \"{'proportion': 1.0, 'n_jobs': 1, 'distinct_threshold': -1, 'random_state': RandomState(MT19937) at 0x7F8AFA612D10}\")\n",
      "n_quantiles (500) is greater than the total number of samples (345). n_quantiles is set to num samples.\n"
     ]
    },
    {
     "name": "stdout",
     "output_type": "stream",
     "text": [
      "('synthsonic', \"{'proportion': 1.0, 'n_jobs': 1, 'distinct_threshold': -1, 'random_state': RandomState(MT19937) at 0x7F8AFA612D10}\")\n",
      "minority class 1, min dataset (345, 29)\n"
     ]
    },
    {
     "name": "stderr",
     "output_type": "stream",
     "text": [
      "Building tree: 100%|██████████| 378/378.0 [00:00<00:00, 938.79it/s]\n",
      "Generating for node: 18: 100%|██████████| 29/29 [00:08<00:00,  3.51it/s]\n",
      "Generating for node: 18: 100%|██████████| 29/29 [00:06<00:00,  4.51it/s]\n",
      "2021-06-04 13:01:14,946:INFO:NoSMOTE: Running sampling via ('NoSMOTE', '{}')\n",
      "2021-06-04 13:01:14,946:INFO:NoSMOTE: Running sampling via ('NoSMOTE', '{}')\n",
      "2021-06-04 13:01:14,946:INFO:NoSMOTE: Running sampling via ('NoSMOTE', '{}')\n",
      "2021-06-04 13:01:14,946:INFO:NoSMOTE: Running sampling via ('NoSMOTE', '{}')\n"
     ]
    },
    {
     "name": "stdout",
     "output_type": "stream",
     "text": [
      "('NoSMOTE', '{}')\n"
     ]
    },
    {
     "name": "stderr",
     "output_type": "stream",
     "text": [
      "2021-06-04 13:01:16,982:INFO:SMOTE: Running sampling via ('SMOTE', \"{'proportion': 1.0, 'n_neighbors': 5, 'n_jobs': 1, 'random_state': 4}\")\n",
      "2021-06-04 13:01:16,982:INFO:SMOTE: Running sampling via ('SMOTE', \"{'proportion': 1.0, 'n_neighbors': 5, 'n_jobs': 1, 'random_state': 4}\")\n",
      "2021-06-04 13:01:16,982:INFO:SMOTE: Running sampling via ('SMOTE', \"{'proportion': 1.0, 'n_neighbors': 5, 'n_jobs': 1, 'random_state': 4}\")\n",
      "2021-06-04 13:01:16,982:INFO:SMOTE: Running sampling via ('SMOTE', \"{'proportion': 1.0, 'n_neighbors': 5, 'n_jobs': 1, 'random_state': 4}\")\n"
     ]
    },
    {
     "name": "stdout",
     "output_type": "stream",
     "text": [
      "('SMOTE', \"{'proportion': 1.0, 'n_neighbors': 5, 'n_jobs': 1, 'random_state': 4}\")\n"
     ]
    },
    {
     "name": "stderr",
     "output_type": "stream",
     "text": [
      "2021-06-04 13:01:25,970:INFO:NT_SMOTE: Running sampling via ('NT_SMOTE', \"{'proportion': 1.0, 'n_jobs': 1, 'random_state': 4}\")\n",
      "2021-06-04 13:01:25,970:INFO:NT_SMOTE: Running sampling via ('NT_SMOTE', \"{'proportion': 1.0, 'n_jobs': 1, 'random_state': 4}\")\n",
      "2021-06-04 13:01:25,970:INFO:NT_SMOTE: Running sampling via ('NT_SMOTE', \"{'proportion': 1.0, 'n_jobs': 1, 'random_state': 4}\")\n",
      "2021-06-04 13:01:25,970:INFO:NT_SMOTE: Running sampling via ('NT_SMOTE', \"{'proportion': 1.0, 'n_jobs': 1, 'random_state': 4}\")\n"
     ]
    },
    {
     "name": "stdout",
     "output_type": "stream",
     "text": [
      "('NT_SMOTE', \"{'proportion': 1.0, 'n_jobs': 1, 'random_state': 4}\")\n"
     ]
    },
    {
     "name": "stderr",
     "output_type": "stream",
     "text": [
      "2021-06-04 13:01:38,500:INFO:SMOTE_D: Running sampling via ('SMOTE_D', \"{'proportion': 1.0, 'k': 3, 'n_jobs': 1, 'random_state': 4}\")\n",
      "2021-06-04 13:01:38,500:INFO:SMOTE_D: Running sampling via ('SMOTE_D', \"{'proportion': 1.0, 'k': 3, 'n_jobs': 1, 'random_state': 4}\")\n",
      "2021-06-04 13:01:38,500:INFO:SMOTE_D: Running sampling via ('SMOTE_D', \"{'proportion': 1.0, 'k': 3, 'n_jobs': 1, 'random_state': 4}\")\n",
      "2021-06-04 13:01:38,500:INFO:SMOTE_D: Running sampling via ('SMOTE_D', \"{'proportion': 1.0, 'k': 3, 'n_jobs': 1, 'random_state': 4}\")\n"
     ]
    },
    {
     "name": "stdout",
     "output_type": "stream",
     "text": [
      "('SMOTE_D', \"{'proportion': 1.0, 'k': 3, 'n_jobs': 1, 'random_state': 4}\")\n"
     ]
    },
    {
     "name": "stderr",
     "output_type": "stream",
     "text": [
      "/Users/tristenmarto/anaconda3/lib/python3.7/site-packages/smote_variants/_smote_variants.py:10454: RuntimeWarning: invalid value encountered in true_divide\n",
      "  p_ij = dist[:, 1:]/np.sum(dist[:, 1:], axis=1)[:, None]\n"
     ]
    }
   ],
   "source": [
    "results = evaluate_oversamplers(datasets, oversamplers, classifier, random_state)"
   ]
  },
  {
   "cell_type": "code",
   "execution_count": 41,
   "metadata": {},
   "outputs": [
    {
     "data": {
      "text/html": [
       "<div>\n",
       "<style scoped>\n",
       "    .dataframe tbody tr th:only-of-type {\n",
       "        vertical-align: middle;\n",
       "    }\n",
       "\n",
       "    .dataframe tbody tr th {\n",
       "        vertical-align: top;\n",
       "    }\n",
       "\n",
       "    .dataframe thead th {\n",
       "        text-align: right;\n",
       "    }\n",
       "</style>\n",
       "<table border=\"1\" class=\"dataframe\">\n",
       "  <thead>\n",
       "    <tr style=\"text-align: right;\">\n",
       "      <th></th>\n",
       "      <th>dataset</th>\n",
       "      <th>sampler</th>\n",
       "      <th>clf_score</th>\n",
       "      <th>accuracy</th>\n",
       "      <th>balanced acc</th>\n",
       "      <th>recall</th>\n",
       "      <th>roc_auc_score</th>\n",
       "      <th>f1_score</th>\n",
       "      <th>brier_score_loss</th>\n",
       "      <th>geometric mean</th>\n",
       "      <th>report</th>\n",
       "      <th>runtime</th>\n",
       "    </tr>\n",
       "  </thead>\n",
       "  <tbody>\n",
       "    <tr>\n",
       "      <th>0</th>\n",
       "      <td>credit_fraud</td>\n",
       "      <td>synthsonic</td>\n",
       "      <td>0.999032</td>\n",
       "      <td>0.999032</td>\n",
       "      <td>0.870466</td>\n",
       "      <td>0.741497</td>\n",
       "      <td>0.870409</td>\n",
       "      <td>0.705502</td>\n",
       "      <td>0.000970</td>\n",
       "      <td>0.860859</td>\n",
       "      <td>pre       rec       spe    ...</td>\n",
       "      <td>29.152789</td>\n",
       "    </tr>\n",
       "    <tr>\n",
       "      <th>1</th>\n",
       "      <td>credit_fraud</td>\n",
       "      <td>NoSMOTE</td>\n",
       "      <td>0.998872</td>\n",
       "      <td>0.998872</td>\n",
       "      <td>0.850010</td>\n",
       "      <td>0.700680</td>\n",
       "      <td>0.849941</td>\n",
       "      <td>0.660256</td>\n",
       "      <td>0.001130</td>\n",
       "      <td>0.836790</td>\n",
       "      <td>pre       rec       spe    ...</td>\n",
       "      <td>0.034617</td>\n",
       "    </tr>\n",
       "    <tr>\n",
       "      <th>2</th>\n",
       "      <td>credit_fraud</td>\n",
       "      <td>SMOTE</td>\n",
       "      <td>0.998787</td>\n",
       "      <td>0.998787</td>\n",
       "      <td>0.843175</td>\n",
       "      <td>0.687075</td>\n",
       "      <td>0.843103</td>\n",
       "      <td>0.639241</td>\n",
       "      <td>0.001215</td>\n",
       "      <td>0.828599</td>\n",
       "      <td>pre       rec       spe    ...</td>\n",
       "      <td>0.658580</td>\n",
       "    </tr>\n",
       "    <tr>\n",
       "      <th>3</th>\n",
       "      <td>credit_fraud</td>\n",
       "      <td>NT_SMOTE</td>\n",
       "      <td>0.998957</td>\n",
       "      <td>0.998957</td>\n",
       "      <td>0.850052</td>\n",
       "      <td>0.700680</td>\n",
       "      <td>0.849982</td>\n",
       "      <td>0.677632</td>\n",
       "      <td>0.001045</td>\n",
       "      <td>0.836826</td>\n",
       "      <td>pre       rec       spe    ...</td>\n",
       "      <td>2.045455</td>\n",
       "    </tr>\n",
       "    <tr>\n",
       "      <th>4</th>\n",
       "      <td>credit_fraud</td>\n",
       "      <td>SMOTE_D</td>\n",
       "      <td>0.999138</td>\n",
       "      <td>0.999138</td>\n",
       "      <td>0.870519</td>\n",
       "      <td>0.741497</td>\n",
       "      <td>0.870459</td>\n",
       "      <td>0.729097</td>\n",
       "      <td>0.000864</td>\n",
       "      <td>0.860905</td>\n",
       "      <td>pre       rec       spe    ...</td>\n",
       "      <td>1.841454</td>\n",
       "    </tr>\n",
       "  </tbody>\n",
       "</table>\n",
       "</div>"
      ],
      "text/plain": [
       "        dataset     sampler  clf_score  accuracy  balanced acc    recall  \\\n",
       "0  credit_fraud  synthsonic   0.999032  0.999032      0.870466  0.741497   \n",
       "1  credit_fraud     NoSMOTE   0.998872  0.998872      0.850010  0.700680   \n",
       "2  credit_fraud       SMOTE   0.998787  0.998787      0.843175  0.687075   \n",
       "3  credit_fraud    NT_SMOTE   0.998957  0.998957      0.850052  0.700680   \n",
       "4  credit_fraud     SMOTE_D   0.999138  0.999138      0.870519  0.741497   \n",
       "\n",
       "   roc_auc_score  f1_score  brier_score_loss  geometric mean  \\\n",
       "0       0.870409  0.705502          0.000970        0.860859   \n",
       "1       0.849941  0.660256          0.001130        0.836790   \n",
       "2       0.843103  0.639241          0.001215        0.828599   \n",
       "3       0.849982  0.677632          0.001045        0.836826   \n",
       "4       0.870459  0.729097          0.000864        0.860905   \n",
       "\n",
       "                                              report    runtime  \n",
       "0                     pre       rec       spe    ...  29.152789  \n",
       "1                     pre       rec       spe    ...   0.034617  \n",
       "2                     pre       rec       spe    ...   0.658580  \n",
       "3                     pre       rec       spe    ...   2.045455  \n",
       "4                     pre       rec       spe    ...   1.841454  "
      ]
     },
     "execution_count": 41,
     "metadata": {},
     "output_type": "execute_result"
    }
   ],
   "source": [
    "resultdf = pd.DataFrame(results)\n",
    "resultdf"
   ]
  },
  {
   "cell_type": "code",
   "execution_count": 43,
   "metadata": {},
   "outputs": [
    {
     "name": "stdout",
     "output_type": "stream",
     "text": [
      "synthsonic\n",
      "                   pre       rec       spe        f1       geo       iba       sup\n",
      "\n",
      "    class 0       1.00      1.00      0.74      1.00      0.86      0.76     93840\n",
      "    class 1       0.67      0.74      1.00      0.71      0.86      0.72       147\n",
      "\n",
      "avg / total       1.00      1.00      0.74      1.00      0.86      0.76     93987\n",
      "\n",
      "NoSMOTE\n",
      "                   pre       rec       spe        f1       geo       iba       sup\n",
      "\n",
      "    class 0       1.00      1.00      0.70      1.00      0.84      0.72     93840\n",
      "    class 1       0.62      0.70      1.00      0.66      0.84      0.68       147\n",
      "\n",
      "avg / total       1.00      1.00      0.70      1.00      0.84      0.72     93987\n",
      "\n",
      "SMOTE\n",
      "                   pre       rec       spe        f1       geo       iba       sup\n",
      "\n",
      "    class 0       1.00      1.00      0.69      1.00      0.83      0.71     93840\n",
      "    class 1       0.60      0.69      1.00      0.64      0.83      0.67       147\n",
      "\n",
      "avg / total       1.00      1.00      0.69      1.00      0.83      0.71     93987\n",
      "\n",
      "NT_SMOTE\n",
      "                   pre       rec       spe        f1       geo       iba       sup\n",
      "\n",
      "    class 0       1.00      1.00      0.70      1.00      0.84      0.72     93840\n",
      "    class 1       0.66      0.70      1.00      0.68      0.84      0.68       147\n",
      "\n",
      "avg / total       1.00      1.00      0.70      1.00      0.84      0.72     93987\n",
      "\n",
      "SMOTE_D\n",
      "                   pre       rec       spe        f1       geo       iba       sup\n",
      "\n",
      "    class 0       1.00      1.00      0.74      1.00      0.86      0.76     93840\n",
      "    class 1       0.72      0.74      1.00      0.73      0.86      0.72       147\n",
      "\n",
      "avg / total       1.00      1.00      0.74      1.00      0.86      0.76     93987\n",
      "\n"
     ]
    }
   ],
   "source": [
    "for i in range(5) :\n",
    "    print(resultdf['sampler'][i])\n",
    "    print(resultdf['report'][i])"
   ]
  },
  {
   "cell_type": "code",
   "execution_count": null,
   "metadata": {},
   "outputs": [],
   "source": []
  }
 ],
 "metadata": {
  "kernelspec": {
   "display_name": "Python 3",
   "language": "python",
   "name": "python3"
  },
  "language_info": {
   "codemirror_mode": {
    "name": "ipython",
    "version": 3
   },
   "file_extension": ".py",
   "mimetype": "text/x-python",
   "name": "python",
   "nbconvert_exporter": "python",
   "pygments_lexer": "ipython3",
   "version": "3.7.6"
  }
 },
 "nbformat": 4,
 "nbformat_minor": 4
}
