{
 "cells": [
  {
   "cell_type": "code",
   "execution_count": 14,
   "metadata": {},
   "outputs": [
    {
     "name": "stdout",
     "output_type": "stream",
     "text": [
      "Automatically created module for IPython interactive environment\n"
     ]
    }
   ],
   "source": [
    "from sklearn import datasets\n",
    "from sklearn.svm import LinearSVC\n",
    "from sklearn.model_selection import train_test_split\n",
    "\n",
    "\n",
    "from imblearn.metrics import geometric_mean_score\n",
    "from imblearn import over_sampling as os\n",
    "from imblearn import pipeline as pl\n",
    "from imblearn.metrics import classification_report_imbalanced\n",
    "\n",
    "print(__doc__)\n",
    "\n",
    "RANDOM_STATE = 42\n",
    "\n",
    "# Generate a dataset\n",
    "X, y = datasets.make_classification(\n",
    "    n_classes=2,\n",
    "    class_sep=2,\n",
    "    weights=[0.1, 0.9],\n",
    "    n_informative=10,\n",
    "    n_redundant=1,\n",
    "    flip_y=0,\n",
    "    n_features=20,\n",
    "    n_clusters_per_class=4,\n",
    "    n_samples=5000,\n",
    "    random_state=RANDOM_STATE,\n",
    ")"
   ]
  },
  {
   "cell_type": "code",
   "execution_count": 10,
   "metadata": {},
   "outputs": [
    {
     "data": {
      "image/png": "[encoded data removed]",
      "text/plain": [
       "<Figure size 432x288 with 1 Axes>"
      ]
     },
     "metadata": {
      "needs_background": "light"
     },
     "output_type": "display_data"
    },
    {
     "name": "stdout",
     "output_type": "stream",
     "text": [
      "Counter({1: 4500, 0: 500})\n"
     ]
    }
   ],
   "source": [
    "import numpy as np\n",
    "from collections import Counter\n",
    "import matplotlib.pyplot as plt\n",
    "\n",
    "c = Counter(y)\n",
    "for label, _ in c.items() :\n",
    "    \n",
    "    rowix = np.where(y == label)[0]\n",
    "    plt.scatter(X[rowix, 0], X[rowix, 1], label=str(label))\n",
    "\n",
    "plt.legend()\n",
    "plt.title(\"title\")\n",
    "plt.show()\n",
    "\n",
    "print(c)"
   ]
  },
  {
   "cell_type": "code",
   "execution_count": 16,
   "metadata": {},
   "outputs": [
    {
     "name": "stdout",
     "output_type": "stream",
     "text": [
      "                   pre       rec       spe        f1       geo       iba       sup\n",
      "\n",
      "          0       0.41      0.84      0.87      0.55      0.85      0.73       123\n",
      "          1       0.98      0.87      0.84      0.92      0.85      0.73      1127\n",
      "\n",
      "avg / total       0.92      0.87      0.84      0.89      0.85      0.73      1250\n",
      "\n",
      "The geometric mean is 0.854\n"
     ]
    },
    {
     "name": "stderr",
     "output_type": "stream",
     "text": [
      "/Users/tristenmarto/anaconda3/lib/python3.7/site-packages/sklearn/svm/_base.py:977: ConvergenceWarning: Liblinear failed to converge, increase the number of iterations.\n",
      "  \"the number of iterations.\", ConvergenceWarning)\n"
     ]
    }
   ],
   "source": [
    "pipeline = pl.make_pipeline(\n",
    "    os.SMOTE(random_state=RANDOM_STATE), LinearSVC(random_state=RANDOM_STATE)\n",
    ")\n",
    "\n",
    "# Split the data\n",
    "X_train, X_test, y_train, y_test = train_test_split(X, y, random_state=RANDOM_STATE)\n",
    "\n",
    "# Train the classifier with balancing\n",
    "pipeline.fit(X_train, y_train)\n",
    "\n",
    "# Test the classifier and get the prediction\n",
    "y_pred_bal = pipeline.predict(X_test)\n",
    "\n",
    "# Show the classification report\n",
    "print(classification_report_imbalanced(y_test, y_pred_bal))\n",
    "\n",
    "print(f\"The geometric mean is {geometric_mean_score(y_test, y_pred_bal):.3f}\")"
   ]
  },
  {
   "cell_type": "code",
   "execution_count": 15,
   "metadata": {},
   "outputs": [
    {
     "name": "stdout",
     "output_type": "stream",
     "text": [
      "                   pre       rec       spe        f1       geo       iba       sup\n",
      "\n",
      "          0       0.82      0.63      0.98      0.71      0.79      0.59       123\n",
      "          1       0.96      0.98      0.63      0.97      0.79      0.64      1127\n",
      "\n",
      "avg / total       0.95      0.95      0.66      0.95      0.79      0.63      1250\n",
      "\n",
      "The geometric mean is 0.785\n"
     ]
    },
    {
     "name": "stderr",
     "output_type": "stream",
     "text": [
      "/Users/tristenmarto/anaconda3/lib/python3.7/site-packages/sklearn/svm/_base.py:977: ConvergenceWarning: Liblinear failed to converge, increase the number of iterations.\n",
      "  \"the number of iterations.\", ConvergenceWarning)\n"
     ]
    }
   ],
   "source": [
    "pipeline = pl.make_pipeline(\n",
    "    LinearSVC(random_state=RANDOM_STATE)\n",
    ")\n",
    "\n",
    "# Split the data\n",
    "X_train, X_test, y_train, y_test = train_test_split(X, y, random_state=RANDOM_STATE)\n",
    "\n",
    "# Train the classifier with balancing\n",
    "pipeline.fit(X_train, y_train)\n",
    "\n",
    "# Test the classifier and get the prediction\n",
    "y_pred_bal = pipeline.predict(X_test)\n",
    "\n",
    "# Show the classification report\n",
    "print(classification_report_imbalanced(y_test, y_pred_bal))\n",
    "\n",
    "print(f\"The geometric mean is {geometric_mean_score(y_test, y_pred_bal):.3f}\")"
   ]
  },
  {
   "cell_type": "code",
   "execution_count": 13,
   "metadata": {},
   "outputs": [],
   "source": []
  },
  {
   "cell_type": "code",
   "execution_count": null,
   "metadata": {},
   "outputs": [],
   "source": []
  }
 ],
 "metadata": {
  "kernelspec": {
   "display_name": "Python 3",
   "language": "python",
   "name": "python3"
  },
  "language_info": {
   "codemirror_mode": {
    "name": "ipython",
    "version": 3
   },
   "file_extension": ".py",
   "mimetype": "text/x-python",
   "name": "python",
   "nbconvert_exporter": "python",
   "pygments_lexer": "ipython3",
   "version": "3.7.6"
  }
 },
 "nbformat": 4,
 "nbformat_minor": 4
}
